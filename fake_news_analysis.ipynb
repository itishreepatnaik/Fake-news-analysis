{
 "cells": [
  {
   "cell_type": "markdown",
   "metadata": {},
   "source": [
    "# Importing Library"
   ]
  },
  {
   "cell_type": "code",
   "execution_count": 1,
   "metadata": {
    "colab": {
     "base_uri": "https://localhost:8080/"
    },
    "id": "ctaz59QuYfq3",
    "outputId": "aededf51-f999-403c-f7c3-e03711d45461"
   },
   "outputs": [
    {
     "name": "stdout",
     "output_type": "stream",
     "text": [
      "Defaulting to user installation because normal site-packages is not writeable\n",
      "Requirement already satisfied: colorama in c:\\users\\lenovo\\appdata\\roaming\\python\\python39\\site-packages (0.4.4)\n"
     ]
    },
    {
     "name": "stderr",
     "output_type": "stream",
     "text": [
      "WARNING: You are using pip version 22.0.4; however, version 22.3.1 is available.\n",
      "You should consider upgrading via the 'c:\\program files\\python39\\python.exe -m pip install --upgrade pip' command.\n"
     ]
    }
   ],
   "source": [
    "import pandas as pd\n",
    "import matplotlib.pyplot as plt\n",
    "import cufflinks as cf\n",
    "import plotly\n",
    "import plotly.express as px\n",
    "import seaborn as sns\n",
    "\n",
    "from IPython.core.display import HTML\n",
    "from wordcloud import WordCloud\n",
    "from sklearn.feature_extraction.text import TfidfVectorizer\n",
    "from sklearn.model_selection import train_test_split\n",
    "from sklearn import metrics\n",
    "from sklearn.ensemble import RandomForestClassifier, AdaBoostClassifier\n",
    "from sklearn.tree import DecisionTreeClassifier\n",
    "from datetime import datetime\n",
    "from sklearn.feature_extraction.text import CountVectorizer\n",
    "from pandas import DataFrame\n",
    "from collections import OrderedDict \n",
    "!pip install colorama\n",
    "from colorama import Fore, Back, Style\n",
    "y_ = Fore.YELLOW\n",
    "r_ = Fore.RED\n",
    "g_ = Fore.GREEN\n",
    "b_ = Fore.BLUE\n",
    "m_ = Fore.MAGENTA\n",
    "sr_ = Style.RESET_ALL"
   ]
  },
  {
   "cell_type": "markdown",
   "metadata": {
    "id": "YjvJxOZSa_cK"
   },
   "source": [
    "## **Reading from the file**"
   ]
  },
  {
   "cell_type": "code",
   "execution_count": 2,
   "metadata": {
    "colab": {
     "base_uri": "https://localhost:8080/"
    },
    "id": "z5htaFXJYgQw",
    "outputId": "386215f6-02d4-42d8-fbb0-15fdc68ec14b"
   },
   "outputs": [
    {
     "data": {
      "text/plain": [
       "published                  2045\n",
       "title                      2045\n",
       "text                       2045\n",
       "language                   2045\n",
       "site_url                   2045\n",
       "main_img_url               2045\n",
       "type                       2045\n",
       "label                      2045\n",
       "title_without_stopwords    2045\n",
       "text_without_stopwords     2045\n",
       "hasImage                   2045\n",
       "dtype: int64"
      ]
     },
     "execution_count": 2,
     "metadata": {},
     "output_type": "execute_result"
    }
   ],
   "source": [
    "df = pd.read_csv(r'D:/j_notebook/news_articles.csv', encoding=\"latin\", index_col=0)\n",
    "df = df.dropna()\n",
    "df.count()"
   ]
  },
  {
   "cell_type": "code",
   "execution_count": 3,
   "metadata": {
    "id": "-Qn_s0qFaCW8"
   },
   "outputs": [
    {
     "data": {
      "text/html": [
       "<div>\n",
       "<style scoped>\n",
       "    .dataframe tbody tr th:only-of-type {\n",
       "        vertical-align: middle;\n",
       "    }\n",
       "\n",
       "    .dataframe tbody tr th {\n",
       "        vertical-align: top;\n",
       "    }\n",
       "\n",
       "    .dataframe thead th {\n",
       "        text-align: right;\n",
       "    }\n",
       "</style>\n",
       "<table border=\"1\" class=\"dataframe\">\n",
       "  <thead>\n",
       "    <tr style=\"text-align: right;\">\n",
       "      <th></th>\n",
       "      <th>published</th>\n",
       "      <th>title</th>\n",
       "      <th>text</th>\n",
       "      <th>language</th>\n",
       "      <th>site_url</th>\n",
       "      <th>main_img_url</th>\n",
       "      <th>type</th>\n",
       "      <th>label</th>\n",
       "      <th>title_without_stopwords</th>\n",
       "      <th>text_without_stopwords</th>\n",
       "      <th>hasImage</th>\n",
       "    </tr>\n",
       "    <tr>\n",
       "      <th>author</th>\n",
       "      <th></th>\n",
       "      <th></th>\n",
       "      <th></th>\n",
       "      <th></th>\n",
       "      <th></th>\n",
       "      <th></th>\n",
       "      <th></th>\n",
       "      <th></th>\n",
       "      <th></th>\n",
       "      <th></th>\n",
       "      <th></th>\n",
       "    </tr>\n",
       "  </thead>\n",
       "  <tbody>\n",
       "    <tr>\n",
       "      <th>Barracuda Brigade</th>\n",
       "      <td>2016-10-26T21:41:00.000+03:00</td>\n",
       "      <td>muslims busted they stole millions in govt ben...</td>\n",
       "      <td>print they should pay all the back all the mon...</td>\n",
       "      <td>english</td>\n",
       "      <td>100percentfedup.com</td>\n",
       "      <td>http://bb4sp.com/wp-content/uploads/2016/10/Fu...</td>\n",
       "      <td>bias</td>\n",
       "      <td>Real</td>\n",
       "      <td>muslims busted stole millions govt benefits</td>\n",
       "      <td>print pay back money plus interest entire fami...</td>\n",
       "      <td>1.0</td>\n",
       "    </tr>\n",
       "    <tr>\n",
       "      <th>reasoning with facts</th>\n",
       "      <td>2016-10-29T08:47:11.259+03:00</td>\n",
       "      <td>re why did attorney general loretta lynch plea...</td>\n",
       "      <td>why did attorney general loretta lynch plead t...</td>\n",
       "      <td>english</td>\n",
       "      <td>100percentfedup.com</td>\n",
       "      <td>http://bb4sp.com/wp-content/uploads/2016/10/Fu...</td>\n",
       "      <td>bias</td>\n",
       "      <td>Real</td>\n",
       "      <td>attorney general loretta lynch plead fifth</td>\n",
       "      <td>attorney general loretta lynch plead fifth bar...</td>\n",
       "      <td>1.0</td>\n",
       "    </tr>\n",
       "    <tr>\n",
       "      <th>Barracuda Brigade</th>\n",
       "      <td>2016-10-31T01:41:49.479+02:00</td>\n",
       "      <td>breaking weiner cooperating with fbi on hillar...</td>\n",
       "      <td>red state  \\nfox news sunday reported this mor...</td>\n",
       "      <td>english</td>\n",
       "      <td>100percentfedup.com</td>\n",
       "      <td>http://bb4sp.com/wp-content/uploads/2016/10/Fu...</td>\n",
       "      <td>bias</td>\n",
       "      <td>Real</td>\n",
       "      <td>breaking weiner cooperating fbi hillary email ...</td>\n",
       "      <td>red state fox news sunday reported morning ant...</td>\n",
       "      <td>1.0</td>\n",
       "    </tr>\n",
       "    <tr>\n",
       "      <th>Fed Up</th>\n",
       "      <td>2016-11-01T05:22:00.000+02:00</td>\n",
       "      <td>pin drop speech by father of daughter kidnappe...</td>\n",
       "      <td>email kayla mueller was a prisoner and torture...</td>\n",
       "      <td>english</td>\n",
       "      <td>100percentfedup.com</td>\n",
       "      <td>http://100percentfedup.com/wp-content/uploads/...</td>\n",
       "      <td>bias</td>\n",
       "      <td>Real</td>\n",
       "      <td>pin drop speech father daughter kidnapped kill...</td>\n",
       "      <td>email kayla mueller prisoner tortured isis cha...</td>\n",
       "      <td>1.0</td>\n",
       "    </tr>\n",
       "    <tr>\n",
       "      <th>Fed Up</th>\n",
       "      <td>2016-11-01T21:56:00.000+02:00</td>\n",
       "      <td>fantastic trumps  point plan to reform healthc...</td>\n",
       "      <td>email healthcare reform to make america great ...</td>\n",
       "      <td>english</td>\n",
       "      <td>100percentfedup.com</td>\n",
       "      <td>http://100percentfedup.com/wp-content/uploads/...</td>\n",
       "      <td>bias</td>\n",
       "      <td>Real</td>\n",
       "      <td>fantastic trumps point plan reform healthcare ...</td>\n",
       "      <td>email healthcare reform make america great sin...</td>\n",
       "      <td>1.0</td>\n",
       "    </tr>\n",
       "    <tr>\n",
       "      <th>Barracuda Brigade</th>\n",
       "      <td>2016-11-02T16:31:28.550+02:00</td>\n",
       "      <td>hillary goes absolutely berserk on protester a...</td>\n",
       "      <td>print hillary goes absolutely berserk she expl...</td>\n",
       "      <td>english</td>\n",
       "      <td>100percentfedup.com</td>\n",
       "      <td>http://bb4sp.com/wp-content/uploads/2016/11/Fu...</td>\n",
       "      <td>bias</td>\n",
       "      <td>Real</td>\n",
       "      <td>hillary goes absolutely berserk protester rall...</td>\n",
       "      <td>print hillary goes absolutely berserk explodes...</td>\n",
       "      <td>1.0</td>\n",
       "    </tr>\n",
       "    <tr>\n",
       "      <th>Fed Up</th>\n",
       "      <td>2016-11-04T19:40:00.000+02:00</td>\n",
       "      <td>breaking nypd ready to make arrests in weiner ...</td>\n",
       "      <td>breaking nypd ready to make arrests in weiner ...</td>\n",
       "      <td>english</td>\n",
       "      <td>100percentfedup.com</td>\n",
       "      <td>http://100percentfedup.com/wp-content/uploads/...</td>\n",
       "      <td>bias</td>\n",
       "      <td>Real</td>\n",
       "      <td>breaking nypd ready make arrests weiner casehi...</td>\n",
       "      <td>breaking nypd ready make arrests weiner casehi...</td>\n",
       "      <td>1.0</td>\n",
       "    </tr>\n",
       "    <tr>\n",
       "      <th>Fed Up</th>\n",
       "      <td>2016-11-05T01:19:00.000+02:00</td>\n",
       "      <td>wow whistleblower tells chilling story of mass...</td>\n",
       "      <td>breaking nypd ready to make arrests in weiner ...</td>\n",
       "      <td>english</td>\n",
       "      <td>100percentfedup.com</td>\n",
       "      <td>http://100percentfedup.com/wp-content/uploads/...</td>\n",
       "      <td>bias</td>\n",
       "      <td>Real</td>\n",
       "      <td>wow whistleblower tells chilling story massive...</td>\n",
       "      <td>breaking nypd ready make arrests weiner casehi...</td>\n",
       "      <td>1.0</td>\n",
       "    </tr>\n",
       "    <tr>\n",
       "      <th>Fed Up</th>\n",
       "      <td>2016-11-06T23:54:00.000+02:00</td>\n",
       "      <td>breaking clinton clearedwas this a coordinated...</td>\n",
       "      <td>limbaugh said that the revelations in the wiki...</td>\n",
       "      <td>english</td>\n",
       "      <td>100percentfedup.com</td>\n",
       "      <td>http://100percentfedup.com/wp-content/uploads/...</td>\n",
       "      <td>bias</td>\n",
       "      <td>Real</td>\n",
       "      <td>breaking clinton clearedwas coordinated last m...</td>\n",
       "      <td>limbaugh said revelations wikileaks material s...</td>\n",
       "      <td>1.0</td>\n",
       "    </tr>\n",
       "    <tr>\n",
       "      <th>Fed Up</th>\n",
       "      <td>2016-11-07T02:43:00.000+02:00</td>\n",
       "      <td>evil hillary supporters yell fck trumpburn tru...</td>\n",
       "      <td>email \\nthese people are sick and evil they wi...</td>\n",
       "      <td>english</td>\n",
       "      <td>100percentfedup.com</td>\n",
       "      <td>http://100percentfedup.com/wp-content/uploads/...</td>\n",
       "      <td>bias</td>\n",
       "      <td>Real</td>\n",
       "      <td>evil hillary supporters yell fck trumpburn tru...</td>\n",
       "      <td>email people sick evil stop nothing get way la...</td>\n",
       "      <td>1.0</td>\n",
       "    </tr>\n",
       "  </tbody>\n",
       "</table>\n",
       "</div>"
      ],
      "text/plain": [
       "                                          published  \\\n",
       "author                                                \n",
       "Barracuda Brigade     2016-10-26T21:41:00.000+03:00   \n",
       "reasoning with facts  2016-10-29T08:47:11.259+03:00   \n",
       "Barracuda Brigade     2016-10-31T01:41:49.479+02:00   \n",
       "Fed Up                2016-11-01T05:22:00.000+02:00   \n",
       "Fed Up                2016-11-01T21:56:00.000+02:00   \n",
       "Barracuda Brigade     2016-11-02T16:31:28.550+02:00   \n",
       "Fed Up                2016-11-04T19:40:00.000+02:00   \n",
       "Fed Up                2016-11-05T01:19:00.000+02:00   \n",
       "Fed Up                2016-11-06T23:54:00.000+02:00   \n",
       "Fed Up                2016-11-07T02:43:00.000+02:00   \n",
       "\n",
       "                                                                  title  \\\n",
       "author                                                                    \n",
       "Barracuda Brigade     muslims busted they stole millions in govt ben...   \n",
       "reasoning with facts  re why did attorney general loretta lynch plea...   \n",
       "Barracuda Brigade     breaking weiner cooperating with fbi on hillar...   \n",
       "Fed Up                pin drop speech by father of daughter kidnappe...   \n",
       "Fed Up                fantastic trumps  point plan to reform healthc...   \n",
       "Barracuda Brigade     hillary goes absolutely berserk on protester a...   \n",
       "Fed Up                breaking nypd ready to make arrests in weiner ...   \n",
       "Fed Up                wow whistleblower tells chilling story of mass...   \n",
       "Fed Up                breaking clinton clearedwas this a coordinated...   \n",
       "Fed Up                evil hillary supporters yell fck trumpburn tru...   \n",
       "\n",
       "                                                                   text  \\\n",
       "author                                                                    \n",
       "Barracuda Brigade     print they should pay all the back all the mon...   \n",
       "reasoning with facts  why did attorney general loretta lynch plead t...   \n",
       "Barracuda Brigade     red state  \\nfox news sunday reported this mor...   \n",
       "Fed Up                email kayla mueller was a prisoner and torture...   \n",
       "Fed Up                email healthcare reform to make america great ...   \n",
       "Barracuda Brigade     print hillary goes absolutely berserk she expl...   \n",
       "Fed Up                breaking nypd ready to make arrests in weiner ...   \n",
       "Fed Up                breaking nypd ready to make arrests in weiner ...   \n",
       "Fed Up                limbaugh said that the revelations in the wiki...   \n",
       "Fed Up                email \\nthese people are sick and evil they wi...   \n",
       "\n",
       "                     language             site_url  \\\n",
       "author                                               \n",
       "Barracuda Brigade     english  100percentfedup.com   \n",
       "reasoning with facts  english  100percentfedup.com   \n",
       "Barracuda Brigade     english  100percentfedup.com   \n",
       "Fed Up                english  100percentfedup.com   \n",
       "Fed Up                english  100percentfedup.com   \n",
       "Barracuda Brigade     english  100percentfedup.com   \n",
       "Fed Up                english  100percentfedup.com   \n",
       "Fed Up                english  100percentfedup.com   \n",
       "Fed Up                english  100percentfedup.com   \n",
       "Fed Up                english  100percentfedup.com   \n",
       "\n",
       "                                                           main_img_url  type  \\\n",
       "author                                                                          \n",
       "Barracuda Brigade     http://bb4sp.com/wp-content/uploads/2016/10/Fu...  bias   \n",
       "reasoning with facts  http://bb4sp.com/wp-content/uploads/2016/10/Fu...  bias   \n",
       "Barracuda Brigade     http://bb4sp.com/wp-content/uploads/2016/10/Fu...  bias   \n",
       "Fed Up                http://100percentfedup.com/wp-content/uploads/...  bias   \n",
       "Fed Up                http://100percentfedup.com/wp-content/uploads/...  bias   \n",
       "Barracuda Brigade     http://bb4sp.com/wp-content/uploads/2016/11/Fu...  bias   \n",
       "Fed Up                http://100percentfedup.com/wp-content/uploads/...  bias   \n",
       "Fed Up                http://100percentfedup.com/wp-content/uploads/...  bias   \n",
       "Fed Up                http://100percentfedup.com/wp-content/uploads/...  bias   \n",
       "Fed Up                http://100percentfedup.com/wp-content/uploads/...  bias   \n",
       "\n",
       "                     label                            title_without_stopwords  \\\n",
       "author                                                                          \n",
       "Barracuda Brigade     Real        muslims busted stole millions govt benefits   \n",
       "reasoning with facts  Real         attorney general loretta lynch plead fifth   \n",
       "Barracuda Brigade     Real  breaking weiner cooperating fbi hillary email ...   \n",
       "Fed Up                Real  pin drop speech father daughter kidnapped kill...   \n",
       "Fed Up                Real  fantastic trumps point plan reform healthcare ...   \n",
       "Barracuda Brigade     Real  hillary goes absolutely berserk protester rall...   \n",
       "Fed Up                Real  breaking nypd ready make arrests weiner casehi...   \n",
       "Fed Up                Real  wow whistleblower tells chilling story massive...   \n",
       "Fed Up                Real  breaking clinton clearedwas coordinated last m...   \n",
       "Fed Up                Real  evil hillary supporters yell fck trumpburn tru...   \n",
       "\n",
       "                                                 text_without_stopwords  \\\n",
       "author                                                                    \n",
       "Barracuda Brigade     print pay back money plus interest entire fami...   \n",
       "reasoning with facts  attorney general loretta lynch plead fifth bar...   \n",
       "Barracuda Brigade     red state fox news sunday reported morning ant...   \n",
       "Fed Up                email kayla mueller prisoner tortured isis cha...   \n",
       "Fed Up                email healthcare reform make america great sin...   \n",
       "Barracuda Brigade     print hillary goes absolutely berserk explodes...   \n",
       "Fed Up                breaking nypd ready make arrests weiner casehi...   \n",
       "Fed Up                breaking nypd ready make arrests weiner casehi...   \n",
       "Fed Up                limbaugh said revelations wikileaks material s...   \n",
       "Fed Up                email people sick evil stop nothing get way la...   \n",
       "\n",
       "                      hasImage  \n",
       "author                          \n",
       "Barracuda Brigade          1.0  \n",
       "reasoning with facts       1.0  \n",
       "Barracuda Brigade          1.0  \n",
       "Fed Up                     1.0  \n",
       "Fed Up                     1.0  \n",
       "Barracuda Brigade          1.0  \n",
       "Fed Up                     1.0  \n",
       "Fed Up                     1.0  \n",
       "Fed Up                     1.0  \n",
       "Fed Up                     1.0  "
      ]
     },
     "execution_count": 3,
     "metadata": {},
     "output_type": "execute_result"
    }
   ],
   "source": [
    "df.head(10)"
   ]
  },
  {
   "cell_type": "code",
   "execution_count": 4,
   "metadata": {
    "colab": {
     "base_uri": "https://localhost:8080/"
    },
    "id": "TTsRRSQEYgTv",
    "outputId": "ad052d74-f65f-47b8-b293-45c9706b7997"
   },
   "outputs": [
    {
     "data": {
      "text/plain": [
       "array(['bias', 'conspiracy', 'fake', 'bs', 'satire', 'hate', 'junksci',\n",
       "       'state'], dtype=object)"
      ]
     },
     "execution_count": 4,
     "metadata": {},
     "output_type": "execute_result"
    }
   ],
   "source": [
    "df['type'].unique()"
   ]
  },
  {
   "cell_type": "code",
   "execution_count": 5,
   "metadata": {
    "colab": {
     "base_uri": "https://localhost:8080/",
     "height": 17
    },
    "id": "9Sn5lf8EYgXH",
    "outputId": "ddef5271-aed9-40b4-a143-071b630f26fd"
   },
   "outputs": [
    {
     "data": {
      "text/html": [
       "        <script type=\"text/javascript\">\n",
       "        window.PlotlyConfig = {MathJaxConfig: 'local'};\n",
       "        if (window.MathJax) {MathJax.Hub.Config({SVG: {font: \"STIX-Web\"}});}\n",
       "        if (typeof require !== 'undefined') {\n",
       "        require.undef(\"plotly\");\n",
       "        requirejs.config({\n",
       "            paths: {\n",
       "                'plotly': ['https://cdn.plot.ly/plotly-2.8.3.min']\n",
       "            }\n",
       "        });\n",
       "        require(['plotly'], function(Plotly) {\n",
       "            window._Plotly = Plotly;\n",
       "        });\n",
       "        }\n",
       "        </script>\n",
       "        "
      ]
     },
     "metadata": {},
     "output_type": "display_data"
    }
   ],
   "source": [
    "cf.go_offline()\n",
    "cf.set_config_file(offline=False, world_readable=True)"
   ]
  },
  {
   "cell_type": "markdown",
   "metadata": {
    "id": "-sAyHo0ybgSt"
   },
   "source": [
    "## **Distrubution of types of articles**\n"
   ]
  },
  {
   "cell_type": "code",
   "execution_count": 6,
   "metadata": {
    "colab": {
     "base_uri": "https://localhost:8080/",
     "height": 487
    },
    "id": "V01qvRMOYgaV",
    "outputId": "7be37c4f-b22f-4e35-b469-230dee87e204"
   },
   "outputs": [
    {
     "data": {
      "image/png": "[encoded data removed]",
      "text/plain": [
       "<Figure size 576x576 with 1 Axes>"
      ]
     },
     "metadata": {},
     "output_type": "display_data"
    }
   ],
   "source": [
    "df['type'].value_counts().plot.pie(figsize = (8,8), startangle = 75)\n",
    "plt.title('Types of articles', fontsize = 20)\n",
    "plt.axis('off')\n",
    "plt.show()"
   ]
  },
  {
   "cell_type": "markdown",
   "metadata": {
    "id": "9ZWJbLGwcgqa"
   },
   "source": [
    "## **n-grams**"
   ]
  },
  {
   "cell_type": "code",
   "execution_count": 7,
   "metadata": {
    "id": "FzIsrO_SYgdR"
   },
   "outputs": [],
   "source": [
    "def get_top_n_words(corpus, n=None):\n",
    "    vec = CountVectorizer().fit(corpus)\n",
    "    bag_of_words = vec.transform(corpus)\n",
    "    sum_words = bag_of_words.sum(axis=0) \n",
    "    words_freq = [(word, sum_words[0, idx]) for word, idx in     vec.vocabulary_.items()]\n",
    "    words_freq =sorted(words_freq, key = lambda x: x[1], reverse=True)\n",
    "    return words_freq[:n]\n",
    "\n",
    "def get_top_n_bigram(corpus, n=None):\n",
    "    vec = CountVectorizer(ngram_range=(2, 2)).fit(corpus)\n",
    "    bag_of_words = vec.transform(corpus)\n",
    "    sum_words = bag_of_words.sum(axis=0) \n",
    "    words_freq = [(word, sum_words[0, idx]) for word, idx in vec.vocabulary_.items()]\n",
    "    words_freq =sorted(words_freq, key = lambda x: x[1], reverse=True)\n",
    "    return words_freq[:n]\n",
    "\n",
    "\n",
    "def get_top_n_trigram(corpus, n=None):\n",
    "    vec = CountVectorizer(ngram_range=(3, 3)).fit(corpus)\n",
    "    bag_of_words = vec.transform(corpus)\n",
    "    sum_words = bag_of_words.sum(axis=0) \n",
    "    words_freq = [(word, sum_words[0, idx]) for word, idx in vec.vocabulary_.items()]\n",
    "    words_freq =sorted(words_freq, key = lambda x: x[1], reverse=True)\n",
    "    return words_freq[:n]"
   ]
  },
  {
   "cell_type": "code",
   "execution_count": 8,
   "metadata": {
    "colab": {
     "base_uri": "https://localhost:8080/",
     "height": 542
    },
    "id": "mlVnoW3cc5pw",
    "outputId": "2d6f784a-ce3b-4c69-9d4e-ab14f47cc80b"
   },
   "outputs": [
    {
     "data": {
      "application/vnd.plotly.v1+json": {
       "config": {
        "linkText": "Export to plot.ly",
        "plotlyServerURL": "https://plot.ly",
        "showLink": true
       },
       "data": [
        {
         "marker": {
          "color": "rgba(55, 128, 191, 0.6)",
          "line": {
           "color": "rgba(55, 128, 191, 1.0)",
           "width": 1
          }
         },
         "name": "count",
         "orientation": "v",
         "text": "",
         "type": "bar",
         "x": [
          "trump",
          "clinton",
          "one",
          "us",
          "said",
          "people",
          "would",
          "hillary",
          "also",
          "like",
          "election",
          "new",
          "time",
          "even",
          "state",
          "president",
          "get",
          "could",
          "campaign",
          "many"
         ],
         "y": [
          3382,
          3052,
          2368,
          2354,
          2322,
          2267,
          2212,
          2047,
          1727,
          1672,
          1453,
          1444,
          1380,
          1362,
          1239,
          1192,
          1147,
          1147,
          1135,
          1092
         ]
        }
       ],
       "layout": {
        "legend": {
         "bgcolor": "#F5F6F9",
         "font": {
          "color": "#4D5663"
         }
        },
        "paper_bgcolor": "#F5F6F9",
        "plot_bgcolor": "#F5F6F9",
        "template": {
         "data": {
          "bar": [
           {
            "error_x": {
             "color": "#2a3f5f"
            },
            "error_y": {
             "color": "#2a3f5f"
            },
            "marker": {
             "line": {
              "color": "#E5ECF6",
              "width": 0.5
             },
             "pattern": {
              "fillmode": "overlay",
              "size": 10,
              "solidity": 0.2
             }
            },
            "type": "bar"
           }
          ],
          "barpolar": [
           {
            "marker": {
             "line": {
              "color": "#E5ECF6",
              "width": 0.5
             },
             "pattern": {
              "fillmode": "overlay",
              "size": 10,
              "solidity": 0.2
             }
            },
            "type": "barpolar"
           }
          ],
          "carpet": [
           {
            "aaxis": {
             "endlinecolor": "#2a3f5f",
             "gridcolor": "white",
             "linecolor": "white",
             "minorgridcolor": "white",
             "startlinecolor": "#2a3f5f"
            },
            "baxis": {
             "endlinecolor": "#2a3f5f",
             "gridcolor": "white",
             "linecolor": "white",
             "minorgridcolor": "white",
             "startlinecolor": "#2a3f5f"
            },
            "type": "carpet"
           }
          ],
          "choropleth": [
           {
            "colorbar": {
             "outlinewidth": 0,
             "ticks": ""
            },
            "type": "choropleth"
           }
          ],
          "contour": [
           {
            "colorbar": {
             "outlinewidth": 0,
             "ticks": ""
            },
            "colorscale": [
             [
              0,
              "#0d0887"
             ],
             [
              0.1111111111111111,
              "#46039f"
             ],
             [
              0.2222222222222222,
              "#7201a8"
             ],
             [
              0.3333333333333333,
              "#9c179e"
             ],
             [
              0.4444444444444444,
              "#bd3786"
             ],
             [
              0.5555555555555556,
              "#d8576b"
             ],
             [
              0.6666666666666666,
              "#ed7953"
             ],
             [
              0.7777777777777778,
              "#fb9f3a"
             ],
             [
              0.8888888888888888,
              "#fdca26"
             ],
             [
              1,
              "#f0f921"
             ]
            ],
            "type": "contour"
           }
          ],
          "contourcarpet": [
           {
            "colorbar": {
             "outlinewidth": 0,
             "ticks": ""
            },
            "type": "contourcarpet"
           }
          ],
          "heatmap": [
           {
            "colorbar": {
             "outlinewidth": 0,
             "ticks": ""
            },
            "colorscale": [
             [
              0,
              "#0d0887"
             ],
             [
              0.1111111111111111,
              "#46039f"
             ],
             [
              0.2222222222222222,
              "#7201a8"
             ],
             [
              0.3333333333333333,
              "#9c179e"
             ],
             [
              0.4444444444444444,
              "#bd3786"
             ],
             [
              0.5555555555555556,
              "#d8576b"
             ],
             [
              0.6666666666666666,
              "#ed7953"
             ],
             [
              0.7777777777777778,
              "#fb9f3a"
             ],
             [
              0.8888888888888888,
              "#fdca26"
             ],
             [
              1,
              "#f0f921"
             ]
            ],
            "type": "heatmap"
           }
          ],
          "heatmapgl": [
           {
            "colorbar": {
             "outlinewidth": 0,
             "ticks": ""
            },
            "colorscale": [
             [
              0,
              "#0d0887"
             ],
             [
              0.1111111111111111,
              "#46039f"
             ],
             [
              0.2222222222222222,
              "#7201a8"
             ],
             [
              0.3333333333333333,
              "#9c179e"
             ],
             [
              0.4444444444444444,
              "#bd3786"
             ],
             [
              0.5555555555555556,
              "#d8576b"
             ],
             [
              0.6666666666666666,
              "#ed7953"
             ],
             [
              0.7777777777777778,
              "#fb9f3a"
             ],
             [
              0.8888888888888888,
              "#fdca26"
             ],
             [
              1,
              "#f0f921"
             ]
            ],
            "type": "heatmapgl"
           }
          ],
          "histogram": [
           {
            "marker": {
             "pattern": {
              "fillmode": "overlay",
              "size": 10,
              "solidity": 0.2
             }
            },
            "type": "histogram"
           }
          ],
          "histogram2d": [
           {
            "colorbar": {
             "outlinewidth": 0,
             "ticks": ""
            },
            "colorscale": [
             [
              0,
              "#0d0887"
             ],
             [
              0.1111111111111111,
              "#46039f"
             ],
             [
              0.2222222222222222,
              "#7201a8"
             ],
             [
              0.3333333333333333,
              "#9c179e"
             ],
             [
              0.4444444444444444,
              "#bd3786"
             ],
             [
              0.5555555555555556,
              "#d8576b"
             ],
             [
              0.6666666666666666,
              "#ed7953"
             ],
             [
              0.7777777777777778,
              "#fb9f3a"
             ],
             [
              0.8888888888888888,
              "#fdca26"
             ],
             [
              1,
              "#f0f921"
             ]
            ],
            "type": "histogram2d"
           }
          ],
          "histogram2dcontour": [
           {
            "colorbar": {
             "outlinewidth": 0,
             "ticks": ""
            },
            "colorscale": [
             [
              0,
              "#0d0887"
             ],
             [
              0.1111111111111111,
              "#46039f"
             ],
             [
              0.2222222222222222,
              "#7201a8"
             ],
             [
              0.3333333333333333,
              "#9c179e"
             ],
             [
              0.4444444444444444,
              "#bd3786"
             ],
             [
              0.5555555555555556,
              "#d8576b"
             ],
             [
              0.6666666666666666,
              "#ed7953"
             ],
             [
              0.7777777777777778,
              "#fb9f3a"
             ],
             [
              0.8888888888888888,
              "#fdca26"
             ],
             [
              1,
              "#f0f921"
             ]
            ],
            "type": "histogram2dcontour"
           }
          ],
          "mesh3d": [
           {
            "colorbar": {
             "outlinewidth": 0,
             "ticks": ""
            },
            "type": "mesh3d"
           }
          ],
          "parcoords": [
           {
            "line": {
             "colorbar": {
              "outlinewidth": 0,
              "ticks": ""
             }
            },
            "type": "parcoords"
           }
          ],
          "pie": [
           {
            "automargin": true,
            "type": "pie"
           }
          ],
          "scatter": [
           {
            "marker": {
             "colorbar": {
              "outlinewidth": 0,
              "ticks": ""
             }
            },
            "type": "scatter"
           }
          ],
          "scatter3d": [
           {
            "line": {
             "colorbar": {
              "outlinewidth": 0,
              "ticks": ""
             }
            },
            "marker": {
             "colorbar": {
              "outlinewidth": 0,
              "ticks": ""
             }
            },
            "type": "scatter3d"
           }
          ],
          "scattercarpet": [
           {
            "marker": {
             "colorbar": {
              "outlinewidth": 0,
              "ticks": ""
             }
            },
            "type": "scattercarpet"
           }
          ],
          "scattergeo": [
           {
            "marker": {
             "colorbar": {
              "outlinewidth": 0,
              "ticks": ""
             }
            },
            "type": "scattergeo"
           }
          ],
          "scattergl": [
           {
            "marker": {
             "colorbar": {
              "outlinewidth": 0,
              "ticks": ""
             }
            },
            "type": "scattergl"
           }
          ],
          "scattermapbox": [
           {
            "marker": {
             "colorbar": {
              "outlinewidth": 0,
              "ticks": ""
             }
            },
            "type": "scattermapbox"
           }
          ],
          "scatterpolar": [
           {
            "marker": {
             "colorbar": {
              "outlinewidth": 0,
              "ticks": ""
             }
            },
            "type": "scatterpolar"
           }
          ],
          "scatterpolargl": [
           {
            "marker": {
             "colorbar": {
              "outlinewidth": 0,
              "ticks": ""
             }
            },
            "type": "scatterpolargl"
           }
          ],
          "scatterternary": [
           {
            "marker": {
             "colorbar": {
              "outlinewidth": 0,
              "ticks": ""
             }
            },
            "type": "scatterternary"
           }
          ],
          "surface": [
           {
            "colorbar": {
             "outlinewidth": 0,
             "ticks": ""
            },
            "colorscale": [
             [
              0,
              "#0d0887"
             ],
             [
              0.1111111111111111,
              "#46039f"
             ],
             [
              0.2222222222222222,
              "#7201a8"
             ],
             [
              0.3333333333333333,
              "#9c179e"
             ],
             [
              0.4444444444444444,
              "#bd3786"
             ],
             [
              0.5555555555555556,
              "#d8576b"
             ],
             [
              0.6666666666666666,
              "#ed7953"
             ],
             [
              0.7777777777777778,
              "#fb9f3a"
             ],
             [
              0.8888888888888888,
              "#fdca26"
             ],
             [
              1,
              "#f0f921"
             ]
            ],
            "type": "surface"
           }
          ],
          "table": [
           {
            "cells": {
             "fill": {
              "color": "#EBF0F8"
             },
             "line": {
              "color": "white"
             }
            },
            "header": {
             "fill": {
              "color": "#C8D4E3"
             },
             "line": {
              "color": "white"
             }
            },
            "type": "table"
           }
          ]
         },
         "layout": {
          "annotationdefaults": {
           "arrowcolor": "#2a3f5f",
           "arrowhead": 0,
           "arrowwidth": 1
          },
          "autotypenumbers": "strict",
          "coloraxis": {
           "colorbar": {
            "outlinewidth": 0,
            "ticks": ""
           }
          },
          "colorscale": {
           "diverging": [
            [
             0,
             "#8e0152"
            ],
            [
             0.1,
             "#c51b7d"
            ],
            [
             0.2,
             "#de77ae"
            ],
            [
             0.3,
             "#f1b6da"
            ],
            [
             0.4,
             "#fde0ef"
            ],
            [
             0.5,
             "#f7f7f7"
            ],
            [
             0.6,
             "#e6f5d0"
            ],
            [
             0.7,
             "#b8e186"
            ],
            [
             0.8,
             "#7fbc41"
            ],
            [
             0.9,
             "#4d9221"
            ],
            [
             1,
             "#276419"
            ]
           ],
           "sequential": [
            [
             0,
             "#0d0887"
            ],
            [
             0.1111111111111111,
             "#46039f"
            ],
            [
             0.2222222222222222,
             "#7201a8"
            ],
            [
             0.3333333333333333,
             "#9c179e"
            ],
            [
             0.4444444444444444,
             "#bd3786"
            ],
            [
             0.5555555555555556,
             "#d8576b"
            ],
            [
             0.6666666666666666,
             "#ed7953"
            ],
            [
             0.7777777777777778,
             "#fb9f3a"
            ],
            [
             0.8888888888888888,
             "#fdca26"
            ],
            [
             1,
             "#f0f921"
            ]
           ],
           "sequentialminus": [
            [
             0,
             "#0d0887"
            ],
            [
             0.1111111111111111,
             "#46039f"
            ],
            [
             0.2222222222222222,
             "#7201a8"
            ],
            [
             0.3333333333333333,
             "#9c179e"
            ],
            [
             0.4444444444444444,
             "#bd3786"
            ],
            [
             0.5555555555555556,
             "#d8576b"
            ],
            [
             0.6666666666666666,
             "#ed7953"
            ],
            [
             0.7777777777777778,
             "#fb9f3a"
            ],
            [
             0.8888888888888888,
             "#fdca26"
            ],
            [
             1,
             "#f0f921"
            ]
           ]
          },
          "colorway": [
           "#636efa",
           "#EF553B",
           "#00cc96",
           "#ab63fa",
           "#FFA15A",
           "#19d3f3",
           "#FF6692",
           "#B6E880",
           "#FF97FF",
           "#FECB52"
          ],
          "font": {
           "color": "#2a3f5f"
          },
          "geo": {
           "bgcolor": "white",
           "lakecolor": "white",
           "landcolor": "#E5ECF6",
           "showlakes": true,
           "showland": true,
           "subunitcolor": "white"
          },
          "hoverlabel": {
           "align": "left"
          },
          "hovermode": "closest",
          "mapbox": {
           "style": "light"
          },
          "paper_bgcolor": "white",
          "plot_bgcolor": "#E5ECF6",
          "polar": {
           "angularaxis": {
            "gridcolor": "white",
            "linecolor": "white",
            "ticks": ""
           },
           "bgcolor": "#E5ECF6",
           "radialaxis": {
            "gridcolor": "white",
            "linecolor": "white",
            "ticks": ""
           }
          },
          "scene": {
           "xaxis": {
            "backgroundcolor": "#E5ECF6",
            "gridcolor": "white",
            "gridwidth": 2,
            "linecolor": "white",
            "showbackground": true,
            "ticks": "",
            "zerolinecolor": "white"
           },
           "yaxis": {
            "backgroundcolor": "#E5ECF6",
            "gridcolor": "white",
            "gridwidth": 2,
            "linecolor": "white",
            "showbackground": true,
            "ticks": "",
            "zerolinecolor": "white"
           },
           "zaxis": {
            "backgroundcolor": "#E5ECF6",
            "gridcolor": "white",
            "gridwidth": 2,
            "linecolor": "white",
            "showbackground": true,
            "ticks": "",
            "zerolinecolor": "white"
           }
          },
          "shapedefaults": {
           "line": {
            "color": "#2a3f5f"
           }
          },
          "ternary": {
           "aaxis": {
            "gridcolor": "white",
            "linecolor": "white",
            "ticks": ""
           },
           "baxis": {
            "gridcolor": "white",
            "linecolor": "white",
            "ticks": ""
           },
           "bgcolor": "#E5ECF6",
           "caxis": {
            "gridcolor": "white",
            "linecolor": "white",
            "ticks": ""
           }
          },
          "title": {
           "x": 0.05
          },
          "xaxis": {
           "automargin": true,
           "gridcolor": "white",
           "linecolor": "white",
           "ticks": "",
           "title": {
            "standoff": 15
           },
           "zerolinecolor": "white",
           "zerolinewidth": 2
          },
          "yaxis": {
           "automargin": true,
           "gridcolor": "white",
           "linecolor": "white",
           "ticks": "",
           "title": {
            "standoff": 15
           },
           "zerolinecolor": "white",
           "zerolinewidth": 2
          }
         }
        },
        "title": {
         "font": {
          "color": "#4D5663"
         },
         "text": "Top 20 unigrams used in articles"
        },
        "xaxis": {
         "gridcolor": "#E1E5ED",
         "linecolor": "black",
         "showgrid": true,
         "tickfont": {
          "color": "#4D5663"
         },
         "title": {
          "font": {
           "color": "#4D5663"
          },
          "text": ""
         },
         "zerolinecolor": "#E1E5ED"
        },
        "yaxis": {
         "gridcolor": "#E1E5ED",
         "linecolor": "black",
         "showgrid": true,
         "tickfont": {
          "color": "#4D5663"
         },
         "title": {
          "font": {
           "color": "#4D5663"
          },
          "text": "Count"
         },
         "zerolinecolor": "#E1E5ED"
        }
       }
      },
      "text/html": [
       "<div>                            <div id=\"06e715fa-4b0b-4c55-8b19-04a31b650522\" class=\"plotly-graph-div\" style=\"height:525px; width:100%;\"></div>            <script type=\"text/javascript\">                require([\"plotly\"], function(Plotly) {                    window.PLOTLYENV=window.PLOTLYENV || {};\n",
       "                    window.PLOTLYENV.BASE_URL='https://plot.ly';                                    if (document.getElementById(\"06e715fa-4b0b-4c55-8b19-04a31b650522\")) {                    Plotly.newPlot(                        \"06e715fa-4b0b-4c55-8b19-04a31b650522\",                        [{\"marker\":{\"color\":\"rgba(55, 128, 191, 0.6)\",\"line\":{\"color\":\"rgba(55, 128, 191, 1.0)\",\"width\":1}},\"name\":\"count\",\"orientation\":\"v\",\"text\":\"\",\"x\":[\"trump\",\"clinton\",\"one\",\"us\",\"said\",\"people\",\"would\",\"hillary\",\"also\",\"like\",\"election\",\"new\",\"time\",\"even\",\"state\",\"president\",\"get\",\"could\",\"campaign\",\"many\"],\"y\":[3382,3052,2368,2354,2322,2267,2212,2047,1727,1672,1453,1444,1380,1362,1239,1192,1147,1147,1135,1092],\"type\":\"bar\"}],                        {\"legend\":{\"bgcolor\":\"#F5F6F9\",\"font\":{\"color\":\"#4D5663\"}},\"paper_bgcolor\":\"#F5F6F9\",\"plot_bgcolor\":\"#F5F6F9\",\"template\":{\"data\":{\"barpolar\":[{\"marker\":{\"line\":{\"color\":\"#E5ECF6\",\"width\":0.5},\"pattern\":{\"fillmode\":\"overlay\",\"size\":10,\"solidity\":0.2}},\"type\":\"barpolar\"}],\"bar\":[{\"error_x\":{\"color\":\"#2a3f5f\"},\"error_y\":{\"color\":\"#2a3f5f\"},\"marker\":{\"line\":{\"color\":\"#E5ECF6\",\"width\":0.5},\"pattern\":{\"fillmode\":\"overlay\",\"size\":10,\"solidity\":0.2}},\"type\":\"bar\"}],\"carpet\":[{\"aaxis\":{\"endlinecolor\":\"#2a3f5f\",\"gridcolor\":\"white\",\"linecolor\":\"white\",\"minorgridcolor\":\"white\",\"startlinecolor\":\"#2a3f5f\"},\"baxis\":{\"endlinecolor\":\"#2a3f5f\",\"gridcolor\":\"white\",\"linecolor\":\"white\",\"minorgridcolor\":\"white\",\"startlinecolor\":\"#2a3f5f\"},\"type\":\"carpet\"}],\"choropleth\":[{\"colorbar\":{\"outlinewidth\":0,\"ticks\":\"\"},\"type\":\"choropleth\"}],\"contourcarpet\":[{\"colorbar\":{\"outlinewidth\":0,\"ticks\":\"\"},\"type\":\"contourcarpet\"}],\"contour\":[{\"colorbar\":{\"outlinewidth\":0,\"ticks\":\"\"},\"colorscale\":[[0.0,\"#0d0887\"],[0.1111111111111111,\"#46039f\"],[0.2222222222222222,\"#7201a8\"],[0.3333333333333333,\"#9c179e\"],[0.4444444444444444,\"#bd3786\"],[0.5555555555555556,\"#d8576b\"],[0.6666666666666666,\"#ed7953\"],[0.7777777777777778,\"#fb9f3a\"],[0.8888888888888888,\"#fdca26\"],[1.0,\"#f0f921\"]],\"type\":\"contour\"}],\"heatmapgl\":[{\"colorbar\":{\"outlinewidth\":0,\"ticks\":\"\"},\"colorscale\":[[0.0,\"#0d0887\"],[0.1111111111111111,\"#46039f\"],[0.2222222222222222,\"#7201a8\"],[0.3333333333333333,\"#9c179e\"],[0.4444444444444444,\"#bd3786\"],[0.5555555555555556,\"#d8576b\"],[0.6666666666666666,\"#ed7953\"],[0.7777777777777778,\"#fb9f3a\"],[0.8888888888888888,\"#fdca26\"],[1.0,\"#f0f921\"]],\"type\":\"heatmapgl\"}],\"heatmap\":[{\"colorbar\":{\"outlinewidth\":0,\"ticks\":\"\"},\"colorscale\":[[0.0,\"#0d0887\"],[0.1111111111111111,\"#46039f\"],[0.2222222222222222,\"#7201a8\"],[0.3333333333333333,\"#9c179e\"],[0.4444444444444444,\"#bd3786\"],[0.5555555555555556,\"#d8576b\"],[0.6666666666666666,\"#ed7953\"],[0.7777777777777778,\"#fb9f3a\"],[0.8888888888888888,\"#fdca26\"],[1.0,\"#f0f921\"]],\"type\":\"heatmap\"}],\"histogram2dcontour\":[{\"colorbar\":{\"outlinewidth\":0,\"ticks\":\"\"},\"colorscale\":[[0.0,\"#0d0887\"],[0.1111111111111111,\"#46039f\"],[0.2222222222222222,\"#7201a8\"],[0.3333333333333333,\"#9c179e\"],[0.4444444444444444,\"#bd3786\"],[0.5555555555555556,\"#d8576b\"],[0.6666666666666666,\"#ed7953\"],[0.7777777777777778,\"#fb9f3a\"],[0.8888888888888888,\"#fdca26\"],[1.0,\"#f0f921\"]],\"type\":\"histogram2dcontour\"}],\"histogram2d\":[{\"colorbar\":{\"outlinewidth\":0,\"ticks\":\"\"},\"colorscale\":[[0.0,\"#0d0887\"],[0.1111111111111111,\"#46039f\"],[0.2222222222222222,\"#7201a8\"],[0.3333333333333333,\"#9c179e\"],[0.4444444444444444,\"#bd3786\"],[0.5555555555555556,\"#d8576b\"],[0.6666666666666666,\"#ed7953\"],[0.7777777777777778,\"#fb9f3a\"],[0.8888888888888888,\"#fdca26\"],[1.0,\"#f0f921\"]],\"type\":\"histogram2d\"}],\"histogram\":[{\"marker\":{\"pattern\":{\"fillmode\":\"overlay\",\"size\":10,\"solidity\":0.2}},\"type\":\"histogram\"}],\"mesh3d\":[{\"colorbar\":{\"outlinewidth\":0,\"ticks\":\"\"},\"type\":\"mesh3d\"}],\"parcoords\":[{\"line\":{\"colorbar\":{\"outlinewidth\":0,\"ticks\":\"\"}},\"type\":\"parcoords\"}],\"pie\":[{\"automargin\":true,\"type\":\"pie\"}],\"scatter3d\":[{\"line\":{\"colorbar\":{\"outlinewidth\":0,\"ticks\":\"\"}},\"marker\":{\"colorbar\":{\"outlinewidth\":0,\"ticks\":\"\"}},\"type\":\"scatter3d\"}],\"scattercarpet\":[{\"marker\":{\"colorbar\":{\"outlinewidth\":0,\"ticks\":\"\"}},\"type\":\"scattercarpet\"}],\"scattergeo\":[{\"marker\":{\"colorbar\":{\"outlinewidth\":0,\"ticks\":\"\"}},\"type\":\"scattergeo\"}],\"scattergl\":[{\"marker\":{\"colorbar\":{\"outlinewidth\":0,\"ticks\":\"\"}},\"type\":\"scattergl\"}],\"scattermapbox\":[{\"marker\":{\"colorbar\":{\"outlinewidth\":0,\"ticks\":\"\"}},\"type\":\"scattermapbox\"}],\"scatterpolargl\":[{\"marker\":{\"colorbar\":{\"outlinewidth\":0,\"ticks\":\"\"}},\"type\":\"scatterpolargl\"}],\"scatterpolar\":[{\"marker\":{\"colorbar\":{\"outlinewidth\":0,\"ticks\":\"\"}},\"type\":\"scatterpolar\"}],\"scatter\":[{\"marker\":{\"colorbar\":{\"outlinewidth\":0,\"ticks\":\"\"}},\"type\":\"scatter\"}],\"scatterternary\":[{\"marker\":{\"colorbar\":{\"outlinewidth\":0,\"ticks\":\"\"}},\"type\":\"scatterternary\"}],\"surface\":[{\"colorbar\":{\"outlinewidth\":0,\"ticks\":\"\"},\"colorscale\":[[0.0,\"#0d0887\"],[0.1111111111111111,\"#46039f\"],[0.2222222222222222,\"#7201a8\"],[0.3333333333333333,\"#9c179e\"],[0.4444444444444444,\"#bd3786\"],[0.5555555555555556,\"#d8576b\"],[0.6666666666666666,\"#ed7953\"],[0.7777777777777778,\"#fb9f3a\"],[0.8888888888888888,\"#fdca26\"],[1.0,\"#f0f921\"]],\"type\":\"surface\"}],\"table\":[{\"cells\":{\"fill\":{\"color\":\"#EBF0F8\"},\"line\":{\"color\":\"white\"}},\"header\":{\"fill\":{\"color\":\"#C8D4E3\"},\"line\":{\"color\":\"white\"}},\"type\":\"table\"}]},\"layout\":{\"annotationdefaults\":{\"arrowcolor\":\"#2a3f5f\",\"arrowhead\":0,\"arrowwidth\":1},\"autotypenumbers\":\"strict\",\"coloraxis\":{\"colorbar\":{\"outlinewidth\":0,\"ticks\":\"\"}},\"colorscale\":{\"diverging\":[[0,\"#8e0152\"],[0.1,\"#c51b7d\"],[0.2,\"#de77ae\"],[0.3,\"#f1b6da\"],[0.4,\"#fde0ef\"],[0.5,\"#f7f7f7\"],[0.6,\"#e6f5d0\"],[0.7,\"#b8e186\"],[0.8,\"#7fbc41\"],[0.9,\"#4d9221\"],[1,\"#276419\"]],\"sequential\":[[0.0,\"#0d0887\"],[0.1111111111111111,\"#46039f\"],[0.2222222222222222,\"#7201a8\"],[0.3333333333333333,\"#9c179e\"],[0.4444444444444444,\"#bd3786\"],[0.5555555555555556,\"#d8576b\"],[0.6666666666666666,\"#ed7953\"],[0.7777777777777778,\"#fb9f3a\"],[0.8888888888888888,\"#fdca26\"],[1.0,\"#f0f921\"]],\"sequentialminus\":[[0.0,\"#0d0887\"],[0.1111111111111111,\"#46039f\"],[0.2222222222222222,\"#7201a8\"],[0.3333333333333333,\"#9c179e\"],[0.4444444444444444,\"#bd3786\"],[0.5555555555555556,\"#d8576b\"],[0.6666666666666666,\"#ed7953\"],[0.7777777777777778,\"#fb9f3a\"],[0.8888888888888888,\"#fdca26\"],[1.0,\"#f0f921\"]]},\"colorway\":[\"#636efa\",\"#EF553B\",\"#00cc96\",\"#ab63fa\",\"#FFA15A\",\"#19d3f3\",\"#FF6692\",\"#B6E880\",\"#FF97FF\",\"#FECB52\"],\"font\":{\"color\":\"#2a3f5f\"},\"geo\":{\"bgcolor\":\"white\",\"lakecolor\":\"white\",\"landcolor\":\"#E5ECF6\",\"showlakes\":true,\"showland\":true,\"subunitcolor\":\"white\"},\"hoverlabel\":{\"align\":\"left\"},\"hovermode\":\"closest\",\"mapbox\":{\"style\":\"light\"},\"paper_bgcolor\":\"white\",\"plot_bgcolor\":\"#E5ECF6\",\"polar\":{\"angularaxis\":{\"gridcolor\":\"white\",\"linecolor\":\"white\",\"ticks\":\"\"},\"bgcolor\":\"#E5ECF6\",\"radialaxis\":{\"gridcolor\":\"white\",\"linecolor\":\"white\",\"ticks\":\"\"}},\"scene\":{\"xaxis\":{\"backgroundcolor\":\"#E5ECF6\",\"gridcolor\":\"white\",\"gridwidth\":2,\"linecolor\":\"white\",\"showbackground\":true,\"ticks\":\"\",\"zerolinecolor\":\"white\"},\"yaxis\":{\"backgroundcolor\":\"#E5ECF6\",\"gridcolor\":\"white\",\"gridwidth\":2,\"linecolor\":\"white\",\"showbackground\":true,\"ticks\":\"\",\"zerolinecolor\":\"white\"},\"zaxis\":{\"backgroundcolor\":\"#E5ECF6\",\"gridcolor\":\"white\",\"gridwidth\":2,\"linecolor\":\"white\",\"showbackground\":true,\"ticks\":\"\",\"zerolinecolor\":\"white\"}},\"shapedefaults\":{\"line\":{\"color\":\"#2a3f5f\"}},\"ternary\":{\"aaxis\":{\"gridcolor\":\"white\",\"linecolor\":\"white\",\"ticks\":\"\"},\"baxis\":{\"gridcolor\":\"white\",\"linecolor\":\"white\",\"ticks\":\"\"},\"bgcolor\":\"#E5ECF6\",\"caxis\":{\"gridcolor\":\"white\",\"linecolor\":\"white\",\"ticks\":\"\"}},\"title\":{\"x\":0.05},\"xaxis\":{\"automargin\":true,\"gridcolor\":\"white\",\"linecolor\":\"white\",\"ticks\":\"\",\"title\":{\"standoff\":15},\"zerolinecolor\":\"white\",\"zerolinewidth\":2},\"yaxis\":{\"automargin\":true,\"gridcolor\":\"white\",\"linecolor\":\"white\",\"ticks\":\"\",\"title\":{\"standoff\":15},\"zerolinecolor\":\"white\",\"zerolinewidth\":2}}},\"title\":{\"font\":{\"color\":\"#4D5663\"},\"text\":\"Top 20 unigrams used in articles\"},\"xaxis\":{\"gridcolor\":\"#E1E5ED\",\"linecolor\":\"black\",\"showgrid\":true,\"tickfont\":{\"color\":\"#4D5663\"},\"title\":{\"font\":{\"color\":\"#4D5663\"},\"text\":\"\"},\"zerolinecolor\":\"#E1E5ED\"},\"yaxis\":{\"gridcolor\":\"#E1E5ED\",\"linecolor\":\"black\",\"showgrid\":true,\"tickfont\":{\"color\":\"#4D5663\"},\"title\":{\"font\":{\"color\":\"#4D5663\"},\"text\":\"Count\"},\"zerolinecolor\":\"#E1E5ED\"}},                        {\"showLink\": true, \"linkText\": \"Export to plot.ly\", \"plotlyServerURL\": \"https://plot.ly\", \"responsive\": true}                    ).then(function(){\n",
       "                            \n",
       "var gd = document.getElementById('06e715fa-4b0b-4c55-8b19-04a31b650522');\n",
       "var x = new MutationObserver(function (mutations, observer) {{\n",
       "        var display = window.getComputedStyle(gd).display;\n",
       "        if (!display || display === 'none') {{\n",
       "            console.log([gd, 'removed!']);\n",
       "            Plotly.purge(gd);\n",
       "            observer.disconnect();\n",
       "        }}\n",
       "}});\n",
       "\n",
       "// Listen for the removal of the full notebook cells\n",
       "var notebookContainer = gd.closest('#notebook-container');\n",
       "if (notebookContainer) {{\n",
       "    x.observe(notebookContainer, {childList: true});\n",
       "}}\n",
       "\n",
       "// Listen for the clearing of the current output cell\n",
       "var outputEl = gd.closest('.output');\n",
       "if (outputEl) {{\n",
       "    x.observe(outputEl, {childList: true});\n",
       "}}\n",
       "\n",
       "                        })                };                });            </script>        </div>"
      ]
     },
     "metadata": {},
     "output_type": "display_data"
    }
   ],
   "source": [
    "common_words = get_top_n_words(df['text_without_stopwords'], 20)\n",
    "df2 = DataFrame (common_words,columns=['word','count'])\n",
    "df2.groupby('word').sum()['count'].sort_values(ascending=False).iplot(\n",
    "    kind='bar', yTitle='Count', linecolor='black', title='Top 20 unigrams used in articles',color='blue')\n"
   ]
  },
  {
   "cell_type": "code",
   "execution_count": 9,
   "metadata": {
    "colab": {
     "base_uri": "https://localhost:8080/",
     "height": 542
    },
    "id": "meYG3UKqc_6t",
    "outputId": "27de15e2-1e41-4a16-f549-966f83b8cb31"
   },
   "outputs": [
    {
     "data": {
      "application/vnd.plotly.v1+json": {
       "config": {
        "linkText": "Export to plot.ly",
        "plotlyServerURL": "https://plot.ly",
        "showLink": true
       },
       "data": [
        {
         "marker": {
          "color": "rgba(55, 128, 191, 0.6)",
          "line": {
           "color": "rgba(55, 128, 191, 1.0)",
           "width": 1
          }
         },
         "name": "count",
         "orientation": "v",
         "text": "",
         "type": "bar",
         "x": [
          "hillary clinton",
          "donald trump",
          "united states",
          "new york",
          "white house",
          "clinton campaign",
          "hillary clintons",
          "brain force",
          "bill clinton",
          "clinton foundation",
          "secretary state",
          "presidential election",
          "fbi director",
          "barack obama",
          "mainstream media",
          "alex jones",
          "attorney general",
          "election day",
          "donald trumps",
          "democratic party"
         ],
         "y": [
          1073,
          885,
          499,
          335,
          324,
          248,
          230,
          209,
          205,
          185,
          182,
          149,
          147,
          142,
          139,
          136,
          132,
          132,
          131,
          129
         ]
        }
       ],
       "layout": {
        "legend": {
         "bgcolor": "#F5F6F9",
         "font": {
          "color": "#4D5663"
         }
        },
        "paper_bgcolor": "#F5F6F9",
        "plot_bgcolor": "#F5F6F9",
        "template": {
         "data": {
          "bar": [
           {
            "error_x": {
             "color": "#2a3f5f"
            },
            "error_y": {
             "color": "#2a3f5f"
            },
            "marker": {
             "line": {
              "color": "#E5ECF6",
              "width": 0.5
             },
             "pattern": {
              "fillmode": "overlay",
              "size": 10,
              "solidity": 0.2
             }
            },
            "type": "bar"
           }
          ],
          "barpolar": [
           {
            "marker": {
             "line": {
              "color": "#E5ECF6",
              "width": 0.5
             },
             "pattern": {
              "fillmode": "overlay",
              "size": 10,
              "solidity": 0.2
             }
            },
            "type": "barpolar"
           }
          ],
          "carpet": [
           {
            "aaxis": {
             "endlinecolor": "#2a3f5f",
             "gridcolor": "white",
             "linecolor": "white",
             "minorgridcolor": "white",
             "startlinecolor": "#2a3f5f"
            },
            "baxis": {
             "endlinecolor": "#2a3f5f",
             "gridcolor": "white",
             "linecolor": "white",
             "minorgridcolor": "white",
             "startlinecolor": "#2a3f5f"
            },
            "type": "carpet"
           }
          ],
          "choropleth": [
           {
            "colorbar": {
             "outlinewidth": 0,
             "ticks": ""
            },
            "type": "choropleth"
           }
          ],
          "contour": [
           {
            "colorbar": {
             "outlinewidth": 0,
             "ticks": ""
            },
            "colorscale": [
             [
              0,
              "#0d0887"
             ],
             [
              0.1111111111111111,
              "#46039f"
             ],
             [
              0.2222222222222222,
              "#7201a8"
             ],
             [
              0.3333333333333333,
              "#9c179e"
             ],
             [
              0.4444444444444444,
              "#bd3786"
             ],
             [
              0.5555555555555556,
              "#d8576b"
             ],
             [
              0.6666666666666666,
              "#ed7953"
             ],
             [
              0.7777777777777778,
              "#fb9f3a"
             ],
             [
              0.8888888888888888,
              "#fdca26"
             ],
             [
              1,
              "#f0f921"
             ]
            ],
            "type": "contour"
           }
          ],
          "contourcarpet": [
           {
            "colorbar": {
             "outlinewidth": 0,
             "ticks": ""
            },
            "type": "contourcarpet"
           }
          ],
          "heatmap": [
           {
            "colorbar": {
             "outlinewidth": 0,
             "ticks": ""
            },
            "colorscale": [
             [
              0,
              "#0d0887"
             ],
             [
              0.1111111111111111,
              "#46039f"
             ],
             [
              0.2222222222222222,
              "#7201a8"
             ],
             [
              0.3333333333333333,
              "#9c179e"
             ],
             [
              0.4444444444444444,
              "#bd3786"
             ],
             [
              0.5555555555555556,
              "#d8576b"
             ],
             [
              0.6666666666666666,
              "#ed7953"
             ],
             [
              0.7777777777777778,
              "#fb9f3a"
             ],
             [
              0.8888888888888888,
              "#fdca26"
             ],
             [
              1,
              "#f0f921"
             ]
            ],
            "type": "heatmap"
           }
          ],
          "heatmapgl": [
           {
            "colorbar": {
             "outlinewidth": 0,
             "ticks": ""
            },
            "colorscale": [
             [
              0,
              "#0d0887"
             ],
             [
              0.1111111111111111,
              "#46039f"
             ],
             [
              0.2222222222222222,
              "#7201a8"
             ],
             [
              0.3333333333333333,
              "#9c179e"
             ],
             [
              0.4444444444444444,
              "#bd3786"
             ],
             [
              0.5555555555555556,
              "#d8576b"
             ],
             [
              0.6666666666666666,
              "#ed7953"
             ],
             [
              0.7777777777777778,
              "#fb9f3a"
             ],
             [
              0.8888888888888888,
              "#fdca26"
             ],
             [
              1,
              "#f0f921"
             ]
            ],
            "type": "heatmapgl"
           }
          ],
          "histogram": [
           {
            "marker": {
             "pattern": {
              "fillmode": "overlay",
              "size": 10,
              "solidity": 0.2
             }
            },
            "type": "histogram"
           }
          ],
          "histogram2d": [
           {
            "colorbar": {
             "outlinewidth": 0,
             "ticks": ""
            },
            "colorscale": [
             [
              0,
              "#0d0887"
             ],
             [
              0.1111111111111111,
              "#46039f"
             ],
             [
              0.2222222222222222,
              "#7201a8"
             ],
             [
              0.3333333333333333,
              "#9c179e"
             ],
             [
              0.4444444444444444,
              "#bd3786"
             ],
             [
              0.5555555555555556,
              "#d8576b"
             ],
             [
              0.6666666666666666,
              "#ed7953"
             ],
             [
              0.7777777777777778,
              "#fb9f3a"
             ],
             [
              0.8888888888888888,
              "#fdca26"
             ],
             [
              1,
              "#f0f921"
             ]
            ],
            "type": "histogram2d"
           }
          ],
          "histogram2dcontour": [
           {
            "colorbar": {
             "outlinewidth": 0,
             "ticks": ""
            },
            "colorscale": [
             [
              0,
              "#0d0887"
             ],
             [
              0.1111111111111111,
              "#46039f"
             ],
             [
              0.2222222222222222,
              "#7201a8"
             ],
             [
              0.3333333333333333,
              "#9c179e"
             ],
             [
              0.4444444444444444,
              "#bd3786"
             ],
             [
              0.5555555555555556,
              "#d8576b"
             ],
             [
              0.6666666666666666,
              "#ed7953"
             ],
             [
              0.7777777777777778,
              "#fb9f3a"
             ],
             [
              0.8888888888888888,
              "#fdca26"
             ],
             [
              1,
              "#f0f921"
             ]
            ],
            "type": "histogram2dcontour"
           }
          ],
          "mesh3d": [
           {
            "colorbar": {
             "outlinewidth": 0,
             "ticks": ""
            },
            "type": "mesh3d"
           }
          ],
          "parcoords": [
           {
            "line": {
             "colorbar": {
              "outlinewidth": 0,
              "ticks": ""
             }
            },
            "type": "parcoords"
           }
          ],
          "pie": [
           {
            "automargin": true,
            "type": "pie"
           }
          ],
          "scatter": [
           {
            "marker": {
             "colorbar": {
              "outlinewidth": 0,
              "ticks": ""
             }
            },
            "type": "scatter"
           }
          ],
          "scatter3d": [
           {
            "line": {
             "colorbar": {
              "outlinewidth": 0,
              "ticks": ""
             }
            },
            "marker": {
             "colorbar": {
              "outlinewidth": 0,
              "ticks": ""
             }
            },
            "type": "scatter3d"
           }
          ],
          "scattercarpet": [
           {
            "marker": {
             "colorbar": {
              "outlinewidth": 0,
              "ticks": ""
             }
            },
            "type": "scattercarpet"
           }
          ],
          "scattergeo": [
           {
            "marker": {
             "colorbar": {
              "outlinewidth": 0,
              "ticks": ""
             }
            },
            "type": "scattergeo"
           }
          ],
          "scattergl": [
           {
            "marker": {
             "colorbar": {
              "outlinewidth": 0,
              "ticks": ""
             }
            },
            "type": "scattergl"
           }
          ],
          "scattermapbox": [
           {
            "marker": {
             "colorbar": {
              "outlinewidth": 0,
              "ticks": ""
             }
            },
            "type": "scattermapbox"
           }
          ],
          "scatterpolar": [
           {
            "marker": {
             "colorbar": {
              "outlinewidth": 0,
              "ticks": ""
             }
            },
            "type": "scatterpolar"
           }
          ],
          "scatterpolargl": [
           {
            "marker": {
             "colorbar": {
              "outlinewidth": 0,
              "ticks": ""
             }
            },
            "type": "scatterpolargl"
           }
          ],
          "scatterternary": [
           {
            "marker": {
             "colorbar": {
              "outlinewidth": 0,
              "ticks": ""
             }
            },
            "type": "scatterternary"
           }
          ],
          "surface": [
           {
            "colorbar": {
             "outlinewidth": 0,
             "ticks": ""
            },
            "colorscale": [
             [
              0,
              "#0d0887"
             ],
             [
              0.1111111111111111,
              "#46039f"
             ],
             [
              0.2222222222222222,
              "#7201a8"
             ],
             [
              0.3333333333333333,
              "#9c179e"
             ],
             [
              0.4444444444444444,
              "#bd3786"
             ],
             [
              0.5555555555555556,
              "#d8576b"
             ],
             [
              0.6666666666666666,
              "#ed7953"
             ],
             [
              0.7777777777777778,
              "#fb9f3a"
             ],
             [
              0.8888888888888888,
              "#fdca26"
             ],
             [
              1,
              "#f0f921"
             ]
            ],
            "type": "surface"
           }
          ],
          "table": [
           {
            "cells": {
             "fill": {
              "color": "#EBF0F8"
             },
             "line": {
              "color": "white"
             }
            },
            "header": {
             "fill": {
              "color": "#C8D4E3"
             },
             "line": {
              "color": "white"
             }
            },
            "type": "table"
           }
          ]
         },
         "layout": {
          "annotationdefaults": {
           "arrowcolor": "#2a3f5f",
           "arrowhead": 0,
           "arrowwidth": 1
          },
          "autotypenumbers": "strict",
          "coloraxis": {
           "colorbar": {
            "outlinewidth": 0,
            "ticks": ""
           }
          },
          "colorscale": {
           "diverging": [
            [
             0,
             "#8e0152"
            ],
            [
             0.1,
             "#c51b7d"
            ],
            [
             0.2,
             "#de77ae"
            ],
            [
             0.3,
             "#f1b6da"
            ],
            [
             0.4,
             "#fde0ef"
            ],
            [
             0.5,
             "#f7f7f7"
            ],
            [
             0.6,
             "#e6f5d0"
            ],
            [
             0.7,
             "#b8e186"
            ],
            [
             0.8,
             "#7fbc41"
            ],
            [
             0.9,
             "#4d9221"
            ],
            [
             1,
             "#276419"
            ]
           ],
           "sequential": [
            [
             0,
             "#0d0887"
            ],
            [
             0.1111111111111111,
             "#46039f"
            ],
            [
             0.2222222222222222,
             "#7201a8"
            ],
            [
             0.3333333333333333,
             "#9c179e"
            ],
            [
             0.4444444444444444,
             "#bd3786"
            ],
            [
             0.5555555555555556,
             "#d8576b"
            ],
            [
             0.6666666666666666,
             "#ed7953"
            ],
            [
             0.7777777777777778,
             "#fb9f3a"
            ],
            [
             0.8888888888888888,
             "#fdca26"
            ],
            [
             1,
             "#f0f921"
            ]
           ],
           "sequentialminus": [
            [
             0,
             "#0d0887"
            ],
            [
             0.1111111111111111,
             "#46039f"
            ],
            [
             0.2222222222222222,
             "#7201a8"
            ],
            [
             0.3333333333333333,
             "#9c179e"
            ],
            [
             0.4444444444444444,
             "#bd3786"
            ],
            [
             0.5555555555555556,
             "#d8576b"
            ],
            [
             0.6666666666666666,
             "#ed7953"
            ],
            [
             0.7777777777777778,
             "#fb9f3a"
            ],
            [
             0.8888888888888888,
             "#fdca26"
            ],
            [
             1,
             "#f0f921"
            ]
           ]
          },
          "colorway": [
           "#636efa",
           "#EF553B",
           "#00cc96",
           "#ab63fa",
           "#FFA15A",
           "#19d3f3",
           "#FF6692",
           "#B6E880",
           "#FF97FF",
           "#FECB52"
          ],
          "font": {
           "color": "#2a3f5f"
          },
          "geo": {
           "bgcolor": "white",
           "lakecolor": "white",
           "landcolor": "#E5ECF6",
           "showlakes": true,
           "showland": true,
           "subunitcolor": "white"
          },
          "hoverlabel": {
           "align": "left"
          },
          "hovermode": "closest",
          "mapbox": {
           "style": "light"
          },
          "paper_bgcolor": "white",
          "plot_bgcolor": "#E5ECF6",
          "polar": {
           "angularaxis": {
            "gridcolor": "white",
            "linecolor": "white",
            "ticks": ""
           },
           "bgcolor": "#E5ECF6",
           "radialaxis": {
            "gridcolor": "white",
            "linecolor": "white",
            "ticks": ""
           }
          },
          "scene": {
           "xaxis": {
            "backgroundcolor": "#E5ECF6",
            "gridcolor": "white",
            "gridwidth": 2,
            "linecolor": "white",
            "showbackground": true,
            "ticks": "",
            "zerolinecolor": "white"
           },
           "yaxis": {
            "backgroundcolor": "#E5ECF6",
            "gridcolor": "white",
            "gridwidth": 2,
            "linecolor": "white",
            "showbackground": true,
            "ticks": "",
            "zerolinecolor": "white"
           },
           "zaxis": {
            "backgroundcolor": "#E5ECF6",
            "gridcolor": "white",
            "gridwidth": 2,
            "linecolor": "white",
            "showbackground": true,
            "ticks": "",
            "zerolinecolor": "white"
           }
          },
          "shapedefaults": {
           "line": {
            "color": "#2a3f5f"
           }
          },
          "ternary": {
           "aaxis": {
            "gridcolor": "white",
            "linecolor": "white",
            "ticks": ""
           },
           "baxis": {
            "gridcolor": "white",
            "linecolor": "white",
            "ticks": ""
           },
           "bgcolor": "#E5ECF6",
           "caxis": {
            "gridcolor": "white",
            "linecolor": "white",
            "ticks": ""
           }
          },
          "title": {
           "x": 0.05
          },
          "xaxis": {
           "automargin": true,
           "gridcolor": "white",
           "linecolor": "white",
           "ticks": "",
           "title": {
            "standoff": 15
           },
           "zerolinecolor": "white",
           "zerolinewidth": 2
          },
          "yaxis": {
           "automargin": true,
           "gridcolor": "white",
           "linecolor": "white",
           "ticks": "",
           "title": {
            "standoff": 15
           },
           "zerolinecolor": "white",
           "zerolinewidth": 2
          }
         }
        },
        "title": {
         "font": {
          "color": "#4D5663"
         },
         "text": "Top 20 bigrams used in articles"
        },
        "xaxis": {
         "gridcolor": "#E1E5ED",
         "linecolor": "black",
         "showgrid": true,
         "tickfont": {
          "color": "#4D5663"
         },
         "title": {
          "font": {
           "color": "#4D5663"
          },
          "text": ""
         },
         "zerolinecolor": "#E1E5ED"
        },
        "yaxis": {
         "gridcolor": "#E1E5ED",
         "linecolor": "black",
         "showgrid": true,
         "tickfont": {
          "color": "#4D5663"
         },
         "title": {
          "font": {
           "color": "#4D5663"
          },
          "text": "Count"
         },
         "zerolinecolor": "#E1E5ED"
        }
       }
      },
      "text/html": [
       "<div>                            <div id=\"9416d1a9-9f68-467d-8f62-aeff317ba5aa\" class=\"plotly-graph-div\" style=\"height:525px; width:100%;\"></div>            <script type=\"text/javascript\">                require([\"plotly\"], function(Plotly) {                    window.PLOTLYENV=window.PLOTLYENV || {};\n",
       "                    window.PLOTLYENV.BASE_URL='https://plot.ly';                                    if (document.getElementById(\"9416d1a9-9f68-467d-8f62-aeff317ba5aa\")) {                    Plotly.newPlot(                        \"9416d1a9-9f68-467d-8f62-aeff317ba5aa\",                        [{\"marker\":{\"color\":\"rgba(55, 128, 191, 0.6)\",\"line\":{\"color\":\"rgba(55, 128, 191, 1.0)\",\"width\":1}},\"name\":\"count\",\"orientation\":\"v\",\"text\":\"\",\"x\":[\"hillary clinton\",\"donald trump\",\"united states\",\"new york\",\"white house\",\"clinton campaign\",\"hillary clintons\",\"brain force\",\"bill clinton\",\"clinton foundation\",\"secretary state\",\"presidential election\",\"fbi director\",\"barack obama\",\"mainstream media\",\"alex jones\",\"attorney general\",\"election day\",\"donald trumps\",\"democratic party\"],\"y\":[1073,885,499,335,324,248,230,209,205,185,182,149,147,142,139,136,132,132,131,129],\"type\":\"bar\"}],                        {\"legend\":{\"bgcolor\":\"#F5F6F9\",\"font\":{\"color\":\"#4D5663\"}},\"paper_bgcolor\":\"#F5F6F9\",\"plot_bgcolor\":\"#F5F6F9\",\"template\":{\"data\":{\"barpolar\":[{\"marker\":{\"line\":{\"color\":\"#E5ECF6\",\"width\":0.5},\"pattern\":{\"fillmode\":\"overlay\",\"size\":10,\"solidity\":0.2}},\"type\":\"barpolar\"}],\"bar\":[{\"error_x\":{\"color\":\"#2a3f5f\"},\"error_y\":{\"color\":\"#2a3f5f\"},\"marker\":{\"line\":{\"color\":\"#E5ECF6\",\"width\":0.5},\"pattern\":{\"fillmode\":\"overlay\",\"size\":10,\"solidity\":0.2}},\"type\":\"bar\"}],\"carpet\":[{\"aaxis\":{\"endlinecolor\":\"#2a3f5f\",\"gridcolor\":\"white\",\"linecolor\":\"white\",\"minorgridcolor\":\"white\",\"startlinecolor\":\"#2a3f5f\"},\"baxis\":{\"endlinecolor\":\"#2a3f5f\",\"gridcolor\":\"white\",\"linecolor\":\"white\",\"minorgridcolor\":\"white\",\"startlinecolor\":\"#2a3f5f\"},\"type\":\"carpet\"}],\"choropleth\":[{\"colorbar\":{\"outlinewidth\":0,\"ticks\":\"\"},\"type\":\"choropleth\"}],\"contourcarpet\":[{\"colorbar\":{\"outlinewidth\":0,\"ticks\":\"\"},\"type\":\"contourcarpet\"}],\"contour\":[{\"colorbar\":{\"outlinewidth\":0,\"ticks\":\"\"},\"colorscale\":[[0.0,\"#0d0887\"],[0.1111111111111111,\"#46039f\"],[0.2222222222222222,\"#7201a8\"],[0.3333333333333333,\"#9c179e\"],[0.4444444444444444,\"#bd3786\"],[0.5555555555555556,\"#d8576b\"],[0.6666666666666666,\"#ed7953\"],[0.7777777777777778,\"#fb9f3a\"],[0.8888888888888888,\"#fdca26\"],[1.0,\"#f0f921\"]],\"type\":\"contour\"}],\"heatmapgl\":[{\"colorbar\":{\"outlinewidth\":0,\"ticks\":\"\"},\"colorscale\":[[0.0,\"#0d0887\"],[0.1111111111111111,\"#46039f\"],[0.2222222222222222,\"#7201a8\"],[0.3333333333333333,\"#9c179e\"],[0.4444444444444444,\"#bd3786\"],[0.5555555555555556,\"#d8576b\"],[0.6666666666666666,\"#ed7953\"],[0.7777777777777778,\"#fb9f3a\"],[0.8888888888888888,\"#fdca26\"],[1.0,\"#f0f921\"]],\"type\":\"heatmapgl\"}],\"heatmap\":[{\"colorbar\":{\"outlinewidth\":0,\"ticks\":\"\"},\"colorscale\":[[0.0,\"#0d0887\"],[0.1111111111111111,\"#46039f\"],[0.2222222222222222,\"#7201a8\"],[0.3333333333333333,\"#9c179e\"],[0.4444444444444444,\"#bd3786\"],[0.5555555555555556,\"#d8576b\"],[0.6666666666666666,\"#ed7953\"],[0.7777777777777778,\"#fb9f3a\"],[0.8888888888888888,\"#fdca26\"],[1.0,\"#f0f921\"]],\"type\":\"heatmap\"}],\"histogram2dcontour\":[{\"colorbar\":{\"outlinewidth\":0,\"ticks\":\"\"},\"colorscale\":[[0.0,\"#0d0887\"],[0.1111111111111111,\"#46039f\"],[0.2222222222222222,\"#7201a8\"],[0.3333333333333333,\"#9c179e\"],[0.4444444444444444,\"#bd3786\"],[0.5555555555555556,\"#d8576b\"],[0.6666666666666666,\"#ed7953\"],[0.7777777777777778,\"#fb9f3a\"],[0.8888888888888888,\"#fdca26\"],[1.0,\"#f0f921\"]],\"type\":\"histogram2dcontour\"}],\"histogram2d\":[{\"colorbar\":{\"outlinewidth\":0,\"ticks\":\"\"},\"colorscale\":[[0.0,\"#0d0887\"],[0.1111111111111111,\"#46039f\"],[0.2222222222222222,\"#7201a8\"],[0.3333333333333333,\"#9c179e\"],[0.4444444444444444,\"#bd3786\"],[0.5555555555555556,\"#d8576b\"],[0.6666666666666666,\"#ed7953\"],[0.7777777777777778,\"#fb9f3a\"],[0.8888888888888888,\"#fdca26\"],[1.0,\"#f0f921\"]],\"type\":\"histogram2d\"}],\"histogram\":[{\"marker\":{\"pattern\":{\"fillmode\":\"overlay\",\"size\":10,\"solidity\":0.2}},\"type\":\"histogram\"}],\"mesh3d\":[{\"colorbar\":{\"outlinewidth\":0,\"ticks\":\"\"},\"type\":\"mesh3d\"}],\"parcoords\":[{\"line\":{\"colorbar\":{\"outlinewidth\":0,\"ticks\":\"\"}},\"type\":\"parcoords\"}],\"pie\":[{\"automargin\":true,\"type\":\"pie\"}],\"scatter3d\":[{\"line\":{\"colorbar\":{\"outlinewidth\":0,\"ticks\":\"\"}},\"marker\":{\"colorbar\":{\"outlinewidth\":0,\"ticks\":\"\"}},\"type\":\"scatter3d\"}],\"scattercarpet\":[{\"marker\":{\"colorbar\":{\"outlinewidth\":0,\"ticks\":\"\"}},\"type\":\"scattercarpet\"}],\"scattergeo\":[{\"marker\":{\"colorbar\":{\"outlinewidth\":0,\"ticks\":\"\"}},\"type\":\"scattergeo\"}],\"scattergl\":[{\"marker\":{\"colorbar\":{\"outlinewidth\":0,\"ticks\":\"\"}},\"type\":\"scattergl\"}],\"scattermapbox\":[{\"marker\":{\"colorbar\":{\"outlinewidth\":0,\"ticks\":\"\"}},\"type\":\"scattermapbox\"}],\"scatterpolargl\":[{\"marker\":{\"colorbar\":{\"outlinewidth\":0,\"ticks\":\"\"}},\"type\":\"scatterpolargl\"}],\"scatterpolar\":[{\"marker\":{\"colorbar\":{\"outlinewidth\":0,\"ticks\":\"\"}},\"type\":\"scatterpolar\"}],\"scatter\":[{\"marker\":{\"colorbar\":{\"outlinewidth\":0,\"ticks\":\"\"}},\"type\":\"scatter\"}],\"scatterternary\":[{\"marker\":{\"colorbar\":{\"outlinewidth\":0,\"ticks\":\"\"}},\"type\":\"scatterternary\"}],\"surface\":[{\"colorbar\":{\"outlinewidth\":0,\"ticks\":\"\"},\"colorscale\":[[0.0,\"#0d0887\"],[0.1111111111111111,\"#46039f\"],[0.2222222222222222,\"#7201a8\"],[0.3333333333333333,\"#9c179e\"],[0.4444444444444444,\"#bd3786\"],[0.5555555555555556,\"#d8576b\"],[0.6666666666666666,\"#ed7953\"],[0.7777777777777778,\"#fb9f3a\"],[0.8888888888888888,\"#fdca26\"],[1.0,\"#f0f921\"]],\"type\":\"surface\"}],\"table\":[{\"cells\":{\"fill\":{\"color\":\"#EBF0F8\"},\"line\":{\"color\":\"white\"}},\"header\":{\"fill\":{\"color\":\"#C8D4E3\"},\"line\":{\"color\":\"white\"}},\"type\":\"table\"}]},\"layout\":{\"annotationdefaults\":{\"arrowcolor\":\"#2a3f5f\",\"arrowhead\":0,\"arrowwidth\":1},\"autotypenumbers\":\"strict\",\"coloraxis\":{\"colorbar\":{\"outlinewidth\":0,\"ticks\":\"\"}},\"colorscale\":{\"diverging\":[[0,\"#8e0152\"],[0.1,\"#c51b7d\"],[0.2,\"#de77ae\"],[0.3,\"#f1b6da\"],[0.4,\"#fde0ef\"],[0.5,\"#f7f7f7\"],[0.6,\"#e6f5d0\"],[0.7,\"#b8e186\"],[0.8,\"#7fbc41\"],[0.9,\"#4d9221\"],[1,\"#276419\"]],\"sequential\":[[0.0,\"#0d0887\"],[0.1111111111111111,\"#46039f\"],[0.2222222222222222,\"#7201a8\"],[0.3333333333333333,\"#9c179e\"],[0.4444444444444444,\"#bd3786\"],[0.5555555555555556,\"#d8576b\"],[0.6666666666666666,\"#ed7953\"],[0.7777777777777778,\"#fb9f3a\"],[0.8888888888888888,\"#fdca26\"],[1.0,\"#f0f921\"]],\"sequentialminus\":[[0.0,\"#0d0887\"],[0.1111111111111111,\"#46039f\"],[0.2222222222222222,\"#7201a8\"],[0.3333333333333333,\"#9c179e\"],[0.4444444444444444,\"#bd3786\"],[0.5555555555555556,\"#d8576b\"],[0.6666666666666666,\"#ed7953\"],[0.7777777777777778,\"#fb9f3a\"],[0.8888888888888888,\"#fdca26\"],[1.0,\"#f0f921\"]]},\"colorway\":[\"#636efa\",\"#EF553B\",\"#00cc96\",\"#ab63fa\",\"#FFA15A\",\"#19d3f3\",\"#FF6692\",\"#B6E880\",\"#FF97FF\",\"#FECB52\"],\"font\":{\"color\":\"#2a3f5f\"},\"geo\":{\"bgcolor\":\"white\",\"lakecolor\":\"white\",\"landcolor\":\"#E5ECF6\",\"showlakes\":true,\"showland\":true,\"subunitcolor\":\"white\"},\"hoverlabel\":{\"align\":\"left\"},\"hovermode\":\"closest\",\"mapbox\":{\"style\":\"light\"},\"paper_bgcolor\":\"white\",\"plot_bgcolor\":\"#E5ECF6\",\"polar\":{\"angularaxis\":{\"gridcolor\":\"white\",\"linecolor\":\"white\",\"ticks\":\"\"},\"bgcolor\":\"#E5ECF6\",\"radialaxis\":{\"gridcolor\":\"white\",\"linecolor\":\"white\",\"ticks\":\"\"}},\"scene\":{\"xaxis\":{\"backgroundcolor\":\"#E5ECF6\",\"gridcolor\":\"white\",\"gridwidth\":2,\"linecolor\":\"white\",\"showbackground\":true,\"ticks\":\"\",\"zerolinecolor\":\"white\"},\"yaxis\":{\"backgroundcolor\":\"#E5ECF6\",\"gridcolor\":\"white\",\"gridwidth\":2,\"linecolor\":\"white\",\"showbackground\":true,\"ticks\":\"\",\"zerolinecolor\":\"white\"},\"zaxis\":{\"backgroundcolor\":\"#E5ECF6\",\"gridcolor\":\"white\",\"gridwidth\":2,\"linecolor\":\"white\",\"showbackground\":true,\"ticks\":\"\",\"zerolinecolor\":\"white\"}},\"shapedefaults\":{\"line\":{\"color\":\"#2a3f5f\"}},\"ternary\":{\"aaxis\":{\"gridcolor\":\"white\",\"linecolor\":\"white\",\"ticks\":\"\"},\"baxis\":{\"gridcolor\":\"white\",\"linecolor\":\"white\",\"ticks\":\"\"},\"bgcolor\":\"#E5ECF6\",\"caxis\":{\"gridcolor\":\"white\",\"linecolor\":\"white\",\"ticks\":\"\"}},\"title\":{\"x\":0.05},\"xaxis\":{\"automargin\":true,\"gridcolor\":\"white\",\"linecolor\":\"white\",\"ticks\":\"\",\"title\":{\"standoff\":15},\"zerolinecolor\":\"white\",\"zerolinewidth\":2},\"yaxis\":{\"automargin\":true,\"gridcolor\":\"white\",\"linecolor\":\"white\",\"ticks\":\"\",\"title\":{\"standoff\":15},\"zerolinecolor\":\"white\",\"zerolinewidth\":2}}},\"title\":{\"font\":{\"color\":\"#4D5663\"},\"text\":\"Top 20 bigrams used in articles\"},\"xaxis\":{\"gridcolor\":\"#E1E5ED\",\"linecolor\":\"black\",\"showgrid\":true,\"tickfont\":{\"color\":\"#4D5663\"},\"title\":{\"font\":{\"color\":\"#4D5663\"},\"text\":\"\"},\"zerolinecolor\":\"#E1E5ED\"},\"yaxis\":{\"gridcolor\":\"#E1E5ED\",\"linecolor\":\"black\",\"showgrid\":true,\"tickfont\":{\"color\":\"#4D5663\"},\"title\":{\"font\":{\"color\":\"#4D5663\"},\"text\":\"Count\"},\"zerolinecolor\":\"#E1E5ED\"}},                        {\"showLink\": true, \"linkText\": \"Export to plot.ly\", \"plotlyServerURL\": \"https://plot.ly\", \"responsive\": true}                    ).then(function(){\n",
       "                            \n",
       "var gd = document.getElementById('9416d1a9-9f68-467d-8f62-aeff317ba5aa');\n",
       "var x = new MutationObserver(function (mutations, observer) {{\n",
       "        var display = window.getComputedStyle(gd).display;\n",
       "        if (!display || display === 'none') {{\n",
       "            console.log([gd, 'removed!']);\n",
       "            Plotly.purge(gd);\n",
       "            observer.disconnect();\n",
       "        }}\n",
       "}});\n",
       "\n",
       "// Listen for the removal of the full notebook cells\n",
       "var notebookContainer = gd.closest('#notebook-container');\n",
       "if (notebookContainer) {{\n",
       "    x.observe(notebookContainer, {childList: true});\n",
       "}}\n",
       "\n",
       "// Listen for the clearing of the current output cell\n",
       "var outputEl = gd.closest('.output');\n",
       "if (outputEl) {{\n",
       "    x.observe(outputEl, {childList: true});\n",
       "}}\n",
       "\n",
       "                        })                };                });            </script>        </div>"
      ]
     },
     "metadata": {},
     "output_type": "display_data"
    }
   ],
   "source": [
    "common_words = get_top_n_bigram(df['text_without_stopwords'], 20)\n",
    "df3 = pd.DataFrame(common_words, columns = ['words' ,'count'])\n",
    "df3.groupby('words').sum()['count'].sort_values(ascending=False).iplot(\n",
    "    kind='bar', yTitle='Count', linecolor='black', title='Top 20 bigrams used in articles', color='blue')"
   ]
  },
  {
   "cell_type": "code",
   "execution_count": 10,
   "metadata": {
    "colab": {
     "base_uri": "https://localhost:8080/",
     "height": 248
    },
    "id": "4Qnp73XddOm9",
    "outputId": "280bc2c8-683e-4eb9-ff91-c39efe5d0fc4"
   },
   "outputs": [
    {
     "data": {
      "image/png": "[encoded data removed]",
      "text/plain": [
       "<Figure size 432x288 with 1 Axes>"
      ]
     },
     "metadata": {
      "needs_background": "light"
     },
     "output_type": "display_data"
    }
   ],
   "source": [
    "wc = WordCloud(background_color=\"black\", max_words=100,\n",
    "               max_font_size=256,\n",
    "               random_state=42, width=1000, height=1000)\n",
    "wc.generate(' '.join(df['text_without_stopwords']))\n",
    "plt.imshow(wc, interpolation=\"bilinear\")\n",
    "plt.axis('off')\n",
    "plt.show()"
   ]
  },
  {
   "cell_type": "code",
   "execution_count": 11,
   "metadata": {
    "id": "835aXaZGdyM3"
   },
   "outputs": [
    {
     "data": {
      "application/vnd.plotly.v1+json": {
       "config": {
        "plotlyServerURL": "https://plot.ly"
       },
       "data": [
        {
         "alignmentgroup": "True",
         "hovertemplate": "hasImage=%{x}<br>label=%{y}<extra></extra>",
         "legendgroup": "",
         "marker": {
          "color": "#636efa",
          "pattern": {
           "shape": ""
          }
         },
         "name": "",
         "offsetgroup": "",
         "orientation": "h",
         "showlegend": false,
         "textposition": "auto",
         "type": "bar",
         "x": [
          1,
          1,
          1,
          1,
          1,
          1,
          1,
          1,
          1,
          1,
          1,
          1,
          1,
          1,
          1,
          1,
          1,
          1,
          1,
          1,
          1,
          1,
          1,
          1,
          1,
          1,
          1,
          1,
          1,
          1,
          1,
          1,
          1,
          1,
          1,
          1,
          1,
          1,
          1,
          1,
          1,
          1,
          1,
          1,
          1,
          1,
          1,
          1,
          1,
          1,
          1,
          1,
          1,
          1,
          1,
          1,
          1,
          1,
          1,
          0,
          0,
          0,
          0,
          0,
          0,
          0,
          0,
          0,
          0,
          0,
          0,
          0,
          0,
          0,
          0,
          0,
          0,
          0,
          0,
          0,
          0,
          0,
          0,
          0,
          0,
          0,
          0,
          0,
          0,
          0,
          0,
          0,
          0,
          0,
          0,
          0,
          0,
          0,
          0,
          0,
          0,
          0,
          0,
          0,
          0,
          0,
          0,
          0,
          0,
          0,
          0,
          0,
          0,
          0,
          0,
          0,
          0,
          0,
          0,
          0,
          0,
          0,
          0,
          0,
          0,
          0,
          0,
          0,
          0,
          0,
          0,
          0,
          0,
          0,
          0,
          0,
          0,
          0,
          0,
          0,
          0,
          1,
          1,
          1,
          1,
          1,
          1,
          1,
          1,
          1,
          1,
          1,
          1,
          1,
          1,
          1,
          1,
          1,
          1,
          1,
          1,
          1,
          1,
          1,
          1,
          1,
          1,
          1,
          1,
          1,
          1,
          1,
          1,
          1,
          1,
          1,
          1,
          1,
          1,
          1,
          1,
          1,
          1,
          1,
          1,
          1,
          1,
          1,
          1,
          1,
          1,
          1,
          1,
          1,
          0,
          0,
          0,
          1,
          1,
          0,
          0,
          0,
          0,
          0,
          0,
          0,
          0,
          0,
          1,
          0,
          0,
          0,
          0,
          0,
          0,
          0,
          0,
          0,
          0,
          0,
          0,
          0,
          1,
          0,
          0,
          0,
          0,
          0,
          0,
          0,
          0,
          0,
          0,
          0,
          0,
          0,
          0,
          0,
          1,
          0,
          0,
          0,
          0,
          1,
          0,
          0,
          0,
          0,
          0,
          0,
          0,
          0,
          1,
          0,
          0,
          0,
          0,
          0,
          0,
          0,
          0,
          0,
          0,
          0,
          0,
          0,
          1,
          1,
          0,
          0,
          0,
          1,
          0,
          0,
          0,
          0,
          0,
          0,
          0,
          0,
          0,
          0,
          0,
          0,
          0,
          0,
          0,
          0,
          0,
          0,
          0,
          0,
          0,
          0,
          0,
          1,
          1,
          0,
          0,
          0,
          1,
          1,
          1,
          0,
          1,
          1,
          1,
          1,
          1,
          1,
          1,
          1,
          0,
          0,
          1,
          1,
          1,
          1,
          1,
          1,
          1,
          1,
          1,
          1,
          1,
          1,
          1,
          1,
          1,
          1,
          1,
          1,
          1,
          1,
          1,
          1,
          1,
          1,
          1,
          1,
          1,
          1,
          1,
          1,
          1,
          1,
          1,
          1,
          1,
          1,
          1,
          1,
          1,
          1,
          1,
          1,
          1,
          1,
          1,
          1,
          1,
          1,
          1,
          1,
          1,
          1,
          1,
          1,
          1,
          1,
          1,
          1,
          1,
          1,
          1,
          1,
          1,
          1,
          1,
          1,
          1,
          1,
          1,
          1,
          1,
          1,
          1,
          1,
          1,
          1,
          1,
          1,
          1,
          1,
          0,
          1,
          1,
          1,
          1,
          1,
          1,
          1,
          1,
          1,
          1,
          1,
          1,
          1,
          1,
          1,
          1,
          1,
          1,
          1,
          1,
          1,
          1,
          1,
          1,
          1,
          1,
          1,
          1,
          1,
          1,
          1,
          1,
          1,
          1,
          1,
          1,
          1,
          1,
          1,
          1,
          1,
          1,
          1,
          1,
          1,
          1,
          1,
          1,
          1,
          1,
          1,
          1,
          1,
          1,
          1,
          1,
          1,
          1,
          1,
          1,
          1,
          1,
          1,
          1,
          1,
          1,
          1,
          1,
          1,
          1,
          1,
          1,
          1,
          1,
          1,
          1,
          1,
          1,
          1,
          1,
          1,
          1,
          1,
          1,
          1,
          1,
          1,
          1,
          1,
          1,
          1,
          1,
          1,
          1,
          1,
          1,
          1,
          1,
          1,
          1,
          1,
          1,
          1,
          1,
          1,
          1,
          1,
          1,
          1,
          1,
          1,
          1,
          1,
          1,
          1,
          1,
          1,
          1,
          1,
          1,
          1,
          1,
          1,
          1,
          1,
          1,
          1,
          1,
          1,
          1,
          1,
          1,
          1,
          1,
          1,
          1,
          1,
          1,
          1,
          1,
          1,
          1,
          1,
          1,
          1,
          1,
          1,
          1,
          1,
          1,
          1,
          1,
          1,
          1,
          1,
          1,
          1,
          1,
          1,
          1,
          1,
          1,
          1,
          1,
          1,
          1,
          1,
          1,
          1,
          1,
          1,
          1,
          1,
          1,
          1,
          1,
          1,
          1,
          1,
          1,
          1,
          1,
          1,
          1,
          1,
          1,
          1,
          1,
          1,
          1,
          1,
          1,
          1,
          1,
          1,
          1,
          1,
          1,
          1,
          1,
          1,
          1,
          1,
          1,
          1,
          1,
          1,
          1,
          1,
          1,
          1,
          1,
          1,
          1,
          1,
          1,
          1,
          1,
          1,
          1,
          1,
          1,
          1,
          1,
          1,
          1,
          1,
          1,
          1,
          1,
          1,
          1,
          1,
          1,
          1,
          1,
          1,
          1,
          1,
          1,
          1,
          1,
          1,
          1,
          1,
          1,
          1,
          1,
          1,
          1,
          1,
          1,
          1,
          1,
          1,
          1,
          1,
          1,
          1,
          1,
          1,
          1,
          1,
          1,
          1,
          1,
          1,
          1,
          1,
          1,
          1,
          1,
          1,
          1,
          1,
          1,
          1,
          1,
          1,
          1,
          1,
          1,
          1,
          1,
          1,
          1,
          1,
          1,
          1,
          1,
          1,
          1,
          1,
          1,
          0,
          0,
          0,
          0,
          0,
          0,
          0,
          0,
          0,
          0,
          0,
          0,
          0,
          0,
          0,
          0,
          0,
          0,
          0,
          0,
          0,
          0,
          0,
          0,
          0,
          0,
          0,
          0,
          1,
          1,
          1,
          1,
          1,
          1,
          1,
          1,
          1,
          1,
          1,
          1,
          1,
          1,
          1,
          1,
          1,
          1,
          1,
          1,
          1,
          1,
          1,
          1,
          1,
          1,
          1,
          1,
          1,
          1,
          1,
          1,
          1,
          1,
          1,
          1,
          1,
          1,
          1,
          1,
          1,
          1,
          1,
          1,
          1,
          1,
          1,
          1,
          1,
          1,
          1,
          1,
          1,
          1,
          1,
          1,
          1,
          1,
          1,
          1,
          1,
          1,
          1,
          1,
          1,
          1,
          1,
          1,
          1,
          1,
          1,
          1,
          1,
          1,
          1,
          1,
          1,
          1,
          1,
          1,
          1,
          1,
          1,
          1,
          1,
          1,
          1,
          0,
          0,
          0,
          0,
          0,
          0,
          0,
          0,
          0,
          1,
          1,
          1,
          1,
          1,
          1,
          1,
          1,
          1,
          1,
          1,
          1,
          1,
          1,
          1,
          1,
          1,
          1,
          1,
          1,
          1,
          1,
          1,
          1,
          1,
          1,
          1,
          1,
          1,
          1,
          1,
          1,
          1,
          1,
          1,
          1,
          1,
          1,
          1,
          1,
          1,
          1,
          1,
          1,
          1,
          1,
          1,
          1,
          1,
          1,
          1,
          1,
          1,
          1,
          1,
          1,
          1,
          1,
          1,
          1,
          1,
          1,
          1,
          1,
          1,
          1,
          1,
          1,
          1,
          1,
          1,
          1,
          1,
          1,
          1,
          1,
          1,
          1,
          1,
          1,
          1,
          1,
          1,
          1,
          1,
          1,
          1,
          1,
          1,
          1,
          1,
          1,
          1,
          1,
          1,
          1,
          1,
          1,
          1,
          1,
          1,
          1,
          1,
          1,
          1,
          1,
          1,
          1,
          1,
          1,
          1,
          1,
          1,
          1,
          1,
          1,
          1,
          1,
          1,
          1,
          1,
          1,
          1,
          1,
          1,
          1,
          1,
          1,
          1,
          1,
          1,
          1,
          1,
          1,
          1,
          1,
          1,
          1,
          1,
          1,
          1,
          1,
          1,
          1,
          1,
          1,
          1,
          1,
          1,
          1,
          1,
          1,
          1,
          1,
          1,
          1,
          1,
          1,
          1,
          1,
          1,
          1,
          1,
          1,
          1,
          1,
          1,
          1,
          1,
          1,
          1,
          1,
          1,
          1,
          1,
          1,
          1,
          1,
          1,
          1,
          1,
          1,
          1,
          1,
          1,
          1,
          1,
          1,
          1,
          1,
          1,
          1,
          1,
          1,
          1,
          1,
          1,
          1,
          1,
          1,
          1,
          1,
          1,
          1,
          1,
          1,
          1,
          1,
          1,
          1,
          1,
          1,
          1,
          1,
          1,
          1,
          1,
          1,
          1,
          1,
          1,
          1,
          1,
          1,
          1,
          1,
          1,
          1,
          1,
          1,
          1,
          1,
          1,
          1,
          1,
          1,
          1,
          1,
          1,
          1,
          1,
          1,
          1,
          1,
          1,
          1,
          1,
          1,
          1,
          1,
          1,
          1,
          1,
          1,
          1,
          1,
          1,
          1,
          1,
          1,
          1,
          1,
          1,
          1,
          1,
          1,
          1,
          1,
          1,
          1,
          1,
          1,
          1,
          1,
          1,
          1,
          1,
          1,
          1,
          1,
          1,
          1,
          1,
          1,
          1,
          1,
          1,
          1,
          1,
          1,
          1,
          1,
          1,
          1,
          1,
          1,
          1,
          1,
          1,
          1,
          1,
          1,
          1,
          1,
          1,
          1,
          1,
          1,
          1,
          1,
          1,
          1,
          1,
          1,
          1,
          1,
          1,
          1,
          1,
          1,
          1,
          1,
          0,
          0,
          0,
          0,
          0,
          1,
          1,
          1,
          1,
          1,
          1,
          1,
          1,
          1,
          1,
          1,
          1,
          1,
          1,
          1,
          1,
          1,
          1,
          1,
          1,
          1,
          1,
          1,
          1,
          1,
          1,
          1,
          1,
          1,
          1,
          1,
          1,
          1,
          1,
          1,
          1,
          1,
          1,
          1,
          1,
          1,
          1,
          1,
          1,
          1,
          1,
          1,
          1,
          1,
          1,
          1,
          1,
          1,
          1,
          1,
          1,
          1,
          1,
          1,
          1,
          1,
          1,
          1,
          1,
          1,
          1,
          1,
          1,
          1,
          1,
          1,
          1,
          1,
          1,
          1,
          1,
          1,
          1,
          1,
          1,
          1,
          1,
          1,
          1,
          1,
          1,
          1,
          1,
          1,
          1,
          1,
          1,
          1,
          1,
          1,
          1,
          1,
          1,
          1,
          1,
          1,
          0,
          0,
          0,
          0,
          0,
          0,
          0,
          0,
          0,
          0,
          0,
          0,
          0,
          0,
          0,
          0,
          0,
          0,
          0,
          0,
          0,
          0,
          0,
          0,
          0,
          0,
          0,
          0,
          0,
          0,
          0,
          0,
          0,
          0,
          0,
          0,
          0,
          0,
          0,
          0,
          0,
          0,
          0,
          0,
          0,
          0,
          0,
          1,
          1,
          1,
          1,
          1,
          1,
          1,
          1,
          1,
          1,
          1,
          1,
          1,
          1,
          1,
          1,
          1,
          1,
          1,
          1,
          1,
          1,
          1,
          1,
          1,
          1,
          1,
          1,
          1,
          1,
          1,
          1,
          1,
          1,
          1,
          1,
          1,
          1,
          1,
          1,
          1,
          1,
          1,
          1,
          1,
          1,
          1,
          1,
          1,
          1,
          1,
          1,
          1,
          1,
          1,
          1,
          1,
          1,
          1,
          1,
          1,
          1,
          1,
          1,
          1,
          1,
          1,
          1,
          1,
          1,
          1,
          1,
          1,
          1,
          1,
          1,
          1,
          1,
          1,
          1,
          1,
          1,
          1,
          1,
          1,
          1,
          1,
          1,
          1,
          1,
          1,
          1,
          1,
          1,
          1,
          1,
          1,
          1,
          1,
          1,
          1,
          1,
          1,
          1,
          1,
          1,
          1,
          1,
          1,
          1,
          1,
          1,
          1,
          1,
          1,
          1,
          1,
          1,
          1,
          1,
          1,
          1,
          1,
          1,
          1,
          1,
          1,
          1,
          1,
          1,
          1,
          1,
          1,
          1,
          1,
          1,
          1,
          1,
          1,
          1,
          1,
          1,
          1,
          1,
          1,
          1,
          1,
          1,
          1,
          1,
          1,
          1,
          1,
          1,
          1,
          1,
          1,
          1,
          1,
          1,
          1,
          1,
          1,
          1,
          1,
          1,
          1,
          1,
          1,
          1,
          1,
          1,
          1,
          1,
          1,
          1,
          1,
          1,
          1,
          1,
          1,
          1,
          1,
          1,
          1,
          1,
          1,
          1,
          1,
          1,
          1,
          1,
          1,
          1,
          1,
          1,
          1,
          1,
          1,
          1,
          1,
          1,
          1,
          1,
          1,
          1,
          1,
          1,
          1,
          1,
          1,
          1,
          1,
          1,
          1,
          1,
          1,
          1,
          1,
          1,
          1,
          1,
          1,
          1,
          1,
          1,
          1,
          1,
          1,
          1,
          1,
          1,
          1,
          1,
          1,
          1,
          1,
          1,
          1,
          1,
          1,
          1,
          1,
          1,
          1,
          1,
          1,
          1,
          1,
          1,
          1,
          1,
          1,
          1,
          1,
          1,
          1,
          1,
          1,
          1,
          1,
          1,
          1,
          1,
          1,
          1,
          1,
          1,
          1,
          1,
          1,
          1,
          1,
          1,
          1,
          1,
          1,
          1,
          1,
          1,
          1,
          1,
          1,
          1,
          1,
          1,
          1,
          1,
          1,
          1,
          1,
          1,
          1,
          1,
          1,
          1,
          1,
          1,
          1,
          1,
          1,
          1,
          1,
          1,
          1,
          1,
          1,
          1,
          1,
          1,
          1,
          1,
          1,
          1,
          1,
          1,
          1,
          1,
          1,
          1,
          1,
          1,
          1,
          1,
          1,
          1,
          1,
          0,
          0,
          0,
          1,
          1,
          1,
          1,
          1,
          1,
          1,
          1,
          1,
          1,
          1,
          1,
          1,
          1,
          1,
          1,
          1,
          0,
          1,
          0,
          1,
          0,
          0,
          0,
          0,
          0,
          0,
          0,
          0,
          0,
          0,
          0,
          0,
          0,
          0,
          0,
          0,
          0,
          0,
          1,
          0,
          1,
          1,
          1,
          1,
          1,
          0,
          1,
          1,
          1,
          1,
          1,
          1,
          1,
          1,
          1,
          1,
          0,
          1,
          0,
          0,
          0,
          1,
          1,
          1,
          1,
          1,
          1,
          1,
          0,
          0,
          0,
          0,
          0,
          0,
          0,
          0,
          0,
          0,
          0,
          0,
          0,
          0,
          0,
          0,
          0,
          0,
          0,
          0,
          0,
          1,
          1,
          1,
          1,
          1,
          0,
          0,
          1,
          0,
          1,
          0,
          0,
          0,
          0,
          0,
          0,
          0,
          0,
          0,
          0,
          0,
          0,
          0,
          0,
          0,
          0,
          0,
          0,
          0,
          0,
          0,
          0,
          0,
          0,
          0,
          0,
          0,
          0,
          0,
          0,
          0,
          0,
          0,
          0,
          0,
          0,
          0,
          0,
          0,
          0,
          0,
          0,
          0,
          0,
          0,
          0,
          0,
          0,
          0,
          0,
          0,
          0,
          0,
          0,
          0,
          0,
          0,
          0,
          0,
          0,
          0,
          0,
          0,
          0,
          0,
          0,
          0,
          0,
          0,
          0,
          0,
          0,
          0,
          0,
          0,
          0,
          0,
          0,
          0,
          0,
          0,
          0,
          0,
          0,
          0,
          0,
          0,
          0,
          0,
          0,
          0,
          0,
          0,
          0,
          0,
          0,
          0,
          0,
          0,
          0,
          1,
          1,
          1,
          1,
          1,
          1,
          1,
          1,
          1,
          1,
          1,
          0,
          0,
          1,
          0,
          0,
          0,
          0,
          1,
          1,
          1,
          1,
          1,
          1,
          1,
          1,
          1,
          1,
          1,
          1,
          1,
          1,
          1,
          1,
          1,
          1,
          1,
          1,
          1,
          1,
          1,
          1,
          1,
          1,
          1,
          0,
          1,
          0,
          0,
          0,
          0,
          1,
          1,
          0,
          0,
          0,
          0,
          1,
          1,
          0,
          0,
          0,
          1,
          1,
          1,
          1,
          1,
          1,
          1,
          1,
          1,
          1,
          1,
          1,
          1,
          1,
          1,
          1,
          1,
          1,
          1,
          1,
          1,
          1,
          1,
          1,
          1,
          1,
          1,
          1,
          1,
          1,
          1,
          1,
          1,
          1,
          1,
          1,
          1,
          1,
          1,
          1,
          1,
          1,
          1,
          1,
          1,
          1,
          1,
          1,
          1,
          1,
          1,
          1,
          1,
          1,
          1,
          1,
          1,
          1,
          1,
          1,
          1,
          1,
          1,
          1,
          1,
          1,
          1,
          1,
          1,
          1,
          1,
          1,
          1,
          1,
          1,
          1,
          1,
          1,
          1,
          1,
          1,
          1,
          1,
          1,
          1,
          1,
          1,
          1,
          1,
          1,
          1,
          1,
          1,
          1,
          1,
          1,
          1,
          1,
          1,
          1,
          0,
          0,
          0,
          0,
          1,
          0,
          0,
          1,
          1,
          0,
          1,
          1,
          1,
          1,
          1,
          1,
          1,
          1,
          1,
          1,
          1,
          0,
          1,
          1,
          1,
          1,
          1,
          1,
          1,
          1,
          0,
          1,
          1,
          1,
          1,
          1,
          1,
          1,
          1,
          1,
          1,
          1,
          1,
          0,
          0,
          0,
          0,
          0,
          0,
          0,
          1,
          0,
          1,
          1,
          0,
          0,
          0,
          0,
          0,
          0,
          0,
          1,
          1,
          1,
          0
         ],
         "xaxis": "x",
         "y": [
          "Real",
          "Real",
          "Real",
          "Real",
          "Real",
          "Real",
          "Real",
          "Real",
          "Real",
          "Real",
          "Real",
          "Real",
          "Real",
          "Real",
          "Real",
          "Real",
          "Real",
          "Real",
          "Real",
          "Real",
          "Real",
          "Real",
          "Real",
          "Real",
          "Real",
          "Real",
          "Real",
          "Real",
          "Real",
          "Real",
          "Real",
          "Real",
          "Real",
          "Fake",
          "Fake",
          "Fake",
          "Fake",
          "Fake",
          "Fake",
          "Fake",
          "Fake",
          "Fake",
          "Fake",
          "Fake",
          "Fake",
          "Fake",
          "Fake",
          "Fake",
          "Fake",
          "Fake",
          "Fake",
          "Fake",
          "Fake",
          "Fake",
          "Fake",
          "Fake",
          "Fake",
          "Fake",
          "Fake",
          "Fake",
          "Fake",
          "Fake",
          "Fake",
          "Fake",
          "Fake",
          "Fake",
          "Fake",
          "Fake",
          "Fake",
          "Fake",
          "Fake",
          "Fake",
          "Fake",
          "Fake",
          "Fake",
          "Fake",
          "Fake",
          "Fake",
          "Fake",
          "Fake",
          "Fake",
          "Fake",
          "Fake",
          "Fake",
          "Fake",
          "Fake",
          "Fake",
          "Fake",
          "Fake",
          "Fake",
          "Fake",
          "Fake",
          "Fake",
          "Fake",
          "Fake",
          "Fake",
          "Fake",
          "Fake",
          "Fake",
          "Fake",
          "Fake",
          "Fake",
          "Fake",
          "Fake",
          "Fake",
          "Fake",
          "Fake",
          "Fake",
          "Fake",
          "Fake",
          "Fake",
          "Fake",
          "Fake",
          "Fake",
          "Fake",
          "Fake",
          "Fake",
          "Fake",
          "Fake",
          "Fake",
          "Fake",
          "Fake",
          "Fake",
          "Fake",
          "Fake",
          "Fake",
          "Fake",
          "Fake",
          "Fake",
          "Fake",
          "Fake",
          "Fake",
          "Fake",
          "Fake",
          "Fake",
          "Fake",
          "Fake",
          "Fake",
          "Fake",
          "Fake",
          "Fake",
          "Fake",
          "Fake",
          "Fake",
          "Fake",
          "Fake",
          "Fake",
          "Fake",
          "Fake",
          "Fake",
          "Fake",
          "Fake",
          "Fake",
          "Fake",
          "Fake",
          "Fake",
          "Fake",
          "Fake",
          "Fake",
          "Fake",
          "Fake",
          "Fake",
          "Fake",
          "Fake",
          "Fake",
          "Fake",
          "Fake",
          "Fake",
          "Fake",
          "Fake",
          "Fake",
          "Fake",
          "Fake",
          "Fake",
          "Fake",
          "Fake",
          "Fake",
          "Fake",
          "Fake",
          "Fake",
          "Fake",
          "Fake",
          "Fake",
          "Fake",
          "Fake",
          "Fake",
          "Fake",
          "Fake",
          "Fake",
          "Fake",
          "Fake",
          "Fake",
          "Fake",
          "Fake",
          "Fake",
          "Fake",
          "Fake",
          "Fake",
          "Fake",
          "Fake",
          "Fake",
          "Fake",
          "Fake",
          "Fake",
          "Fake",
          "Fake",
          "Fake",
          "Fake",
          "Fake",
          "Fake",
          "Fake",
          "Fake",
          "Fake",
          "Fake",
          "Fake",
          "Fake",
          "Fake",
          "Fake",
          "Fake",
          "Fake",
          "Fake",
          "Fake",
          "Fake",
          "Fake",
          "Fake",
          "Fake",
          "Fake",
          "Fake",
          "Fake",
          "Fake",
          "Fake",
          "Fake",
          "Fake",
          "Fake",
          "Fake",
          "Fake",
          "Fake",
          "Fake",
          "Fake",
          "Fake",
          "Fake",
          "Fake",
          "Fake",
          "Fake",
          "Fake",
          "Fake",
          "Fake",
          "Fake",
          "Fake",
          "Fake",
          "Fake",
          "Fake",
          "Fake",
          "Fake",
          "Fake",
          "Fake",
          "Fake",
          "Fake",
          "Fake",
          "Fake",
          "Fake",
          "Fake",
          "Fake",
          "Fake",
          "Fake",
          "Fake",
          "Fake",
          "Fake",
          "Fake",
          "Fake",
          "Fake",
          "Fake",
          "Fake",
          "Fake",
          "Fake",
          "Fake",
          "Fake",
          "Fake",
          "Fake",
          "Fake",
          "Fake",
          "Fake",
          "Fake",
          "Fake",
          "Fake",
          "Fake",
          "Fake",
          "Fake",
          "Fake",
          "Fake",
          "Fake",
          "Fake",
          "Fake",
          "Fake",
          "Real",
          "Real",
          "Real",
          "Real",
          "Real",
          "Real",
          "Real",
          "Real",
          "Real",
          "Real",
          "Real",
          "Real",
          "Real",
          "Real",
          "Real",
          "Real",
          "Real",
          "Real",
          "Real",
          "Real",
          "Fake",
          "Fake",
          "Fake",
          "Fake",
          "Fake",
          "Fake",
          "Fake",
          "Fake",
          "Fake",
          "Fake",
          "Fake",
          "Fake",
          "Fake",
          "Fake",
          "Fake",
          "Fake",
          "Fake",
          "Fake",
          "Fake",
          "Fake",
          "Fake",
          "Fake",
          "Fake",
          "Fake",
          "Fake",
          "Fake",
          "Fake",
          "Fake",
          "Fake",
          "Fake",
          "Fake",
          "Fake",
          "Fake",
          "Fake",
          "Fake",
          "Fake",
          "Fake",
          "Fake",
          "Fake",
          "Fake",
          "Fake",
          "Fake",
          "Fake",
          "Fake",
          "Fake",
          "Fake",
          "Fake",
          "Fake",
          "Fake",
          "Fake",
          "Fake",
          "Fake",
          "Fake",
          "Fake",
          "Fake",
          "Fake",
          "Fake",
          "Fake",
          "Fake",
          "Fake",
          "Fake",
          "Fake",
          "Fake",
          "Fake",
          "Fake",
          "Fake",
          "Fake",
          "Fake",
          "Fake",
          "Fake",
          "Fake",
          "Fake",
          "Fake",
          "Fake",
          "Fake",
          "Fake",
          "Fake",
          "Fake",
          "Fake",
          "Fake",
          "Fake",
          "Fake",
          "Fake",
          "Fake",
          "Fake",
          "Fake",
          "Fake",
          "Fake",
          "Fake",
          "Fake",
          "Fake",
          "Fake",
          "Fake",
          "Fake",
          "Fake",
          "Fake",
          "Fake",
          "Fake",
          "Fake",
          "Fake",
          "Fake",
          "Fake",
          "Fake",
          "Fake",
          "Fake",
          "Fake",
          "Fake",
          "Fake",
          "Fake",
          "Fake",
          "Fake",
          "Fake",
          "Fake",
          "Fake",
          "Fake",
          "Fake",
          "Fake",
          "Fake",
          "Fake",
          "Fake",
          "Fake",
          "Fake",
          "Fake",
          "Fake",
          "Fake",
          "Fake",
          "Fake",
          "Fake",
          "Fake",
          "Fake",
          "Fake",
          "Fake",
          "Fake",
          "Fake",
          "Fake",
          "Fake",
          "Fake",
          "Fake",
          "Fake",
          "Fake",
          "Fake",
          "Fake",
          "Fake",
          "Fake",
          "Fake",
          "Fake",
          "Fake",
          "Fake",
          "Fake",
          "Fake",
          "Fake",
          "Fake",
          "Fake",
          "Fake",
          "Fake",
          "Fake",
          "Fake",
          "Fake",
          "Fake",
          "Fake",
          "Fake",
          "Fake",
          "Fake",
          "Fake",
          "Fake",
          "Fake",
          "Fake",
          "Fake",
          "Fake",
          "Fake",
          "Fake",
          "Fake",
          "Fake",
          "Fake",
          "Fake",
          "Fake",
          "Fake",
          "Fake",
          "Fake",
          "Fake",
          "Fake",
          "Fake",
          "Fake",
          "Fake",
          "Fake",
          "Fake",
          "Fake",
          "Fake",
          "Fake",
          "Fake",
          "Fake",
          "Fake",
          "Fake",
          "Fake",
          "Fake",
          "Fake",
          "Fake",
          "Fake",
          "Fake",
          "Fake",
          "Fake",
          "Fake",
          "Fake",
          "Fake",
          "Fake",
          "Fake",
          "Fake",
          "Fake",
          "Fake",
          "Fake",
          "Fake",
          "Fake",
          "Fake",
          "Fake",
          "Fake",
          "Fake",
          "Fake",
          "Fake",
          "Fake",
          "Fake",
          "Fake",
          "Fake",
          "Fake",
          "Fake",
          "Fake",
          "Fake",
          "Fake",
          "Fake",
          "Fake",
          "Fake",
          "Fake",
          "Fake",
          "Fake",
          "Fake",
          "Fake",
          "Fake",
          "Fake",
          "Fake",
          "Fake",
          "Fake",
          "Fake",
          "Fake",
          "Fake",
          "Fake",
          "Fake",
          "Fake",
          "Fake",
          "Fake",
          "Fake",
          "Fake",
          "Fake",
          "Fake",
          "Fake",
          "Fake",
          "Fake",
          "Fake",
          "Fake",
          "Fake",
          "Fake",
          "Fake",
          "Fake",
          "Fake",
          "Fake",
          "Fake",
          "Fake",
          "Fake",
          "Fake",
          "Fake",
          "Fake",
          "Fake",
          "Fake",
          "Fake",
          "Fake",
          "Fake",
          "Fake",
          "Fake",
          "Fake",
          "Fake",
          "Fake",
          "Fake",
          "Fake",
          "Fake",
          "Fake",
          "Fake",
          "Fake",
          "Fake",
          "Fake",
          "Fake",
          "Fake",
          "Fake",
          "Fake",
          "Fake",
          "Fake",
          "Fake",
          "Fake",
          "Fake",
          "Fake",
          "Fake",
          "Fake",
          "Fake",
          "Fake",
          "Fake",
          "Fake",
          "Fake",
          "Fake",
          "Fake",
          "Fake",
          "Fake",
          "Fake",
          "Fake",
          "Fake",
          "Fake",
          "Fake",
          "Fake",
          "Fake",
          "Fake",
          "Fake",
          "Fake",
          "Fake",
          "Fake",
          "Fake",
          "Fake",
          "Fake",
          "Fake",
          "Fake",
          "Fake",
          "Fake",
          "Fake",
          "Fake",
          "Fake",
          "Fake",
          "Fake",
          "Fake",
          "Fake",
          "Fake",
          "Fake",
          "Fake",
          "Fake",
          "Fake",
          "Fake",
          "Fake",
          "Fake",
          "Fake",
          "Fake",
          "Fake",
          "Fake",
          "Fake",
          "Fake",
          "Fake",
          "Fake",
          "Fake",
          "Fake",
          "Fake",
          "Fake",
          "Fake",
          "Fake",
          "Fake",
          "Fake",
          "Fake",
          "Fake",
          "Fake",
          "Fake",
          "Fake",
          "Fake",
          "Fake",
          "Fake",
          "Fake",
          "Fake",
          "Fake",
          "Fake",
          "Fake",
          "Fake",
          "Fake",
          "Fake",
          "Fake",
          "Fake",
          "Fake",
          "Fake",
          "Fake",
          "Fake",
          "Fake",
          "Fake",
          "Fake",
          "Fake",
          "Fake",
          "Fake",
          "Fake",
          "Fake",
          "Fake",
          "Fake",
          "Fake",
          "Fake",
          "Fake",
          "Fake",
          "Fake",
          "Fake",
          "Fake",
          "Fake",
          "Fake",
          "Fake",
          "Fake",
          "Fake",
          "Fake",
          "Fake",
          "Fake",
          "Fake",
          "Fake",
          "Fake",
          "Fake",
          "Real",
          "Real",
          "Real",
          "Real",
          "Real",
          "Real",
          "Real",
          "Real",
          "Real",
          "Real",
          "Real",
          "Real",
          "Real",
          "Real",
          "Real",
          "Real",
          "Real",
          "Real",
          "Real",
          "Real",
          "Real",
          "Real",
          "Real",
          "Real",
          "Real",
          "Real",
          "Real",
          "Real",
          "Real",
          "Real",
          "Real",
          "Real",
          "Real",
          "Real",
          "Real",
          "Real",
          "Real",
          "Real",
          "Real",
          "Real",
          "Real",
          "Real",
          "Real",
          "Real",
          "Real",
          "Real",
          "Real",
          "Real",
          "Real",
          "Real",
          "Real",
          "Real",
          "Real",
          "Real",
          "Real",
          "Real",
          "Real",
          "Real",
          "Real",
          "Real",
          "Real",
          "Real",
          "Real",
          "Real",
          "Real",
          "Real",
          "Real",
          "Real",
          "Real",
          "Real",
          "Real",
          "Real",
          "Real",
          "Real",
          "Real",
          "Real",
          "Real",
          "Real",
          "Real",
          "Real",
          "Real",
          "Fake",
          "Fake",
          "Fake",
          "Fake",
          "Fake",
          "Fake",
          "Fake",
          "Fake",
          "Fake",
          "Real",
          "Real",
          "Real",
          "Real",
          "Real",
          "Real",
          "Real",
          "Real",
          "Real",
          "Real",
          "Real",
          "Real",
          "Real",
          "Real",
          "Real",
          "Real",
          "Real",
          "Real",
          "Real",
          "Real",
          "Real",
          "Real",
          "Real",
          "Real",
          "Real",
          "Real",
          "Real",
          "Real",
          "Real",
          "Real",
          "Real",
          "Real",
          "Real",
          "Real",
          "Real",
          "Real",
          "Real",
          "Real",
          "Real",
          "Real",
          "Real",
          "Real",
          "Real",
          "Real",
          "Fake",
          "Fake",
          "Fake",
          "Fake",
          "Fake",
          "Fake",
          "Fake",
          "Fake",
          "Fake",
          "Fake",
          "Fake",
          "Fake",
          "Fake",
          "Fake",
          "Fake",
          "Fake",
          "Fake",
          "Fake",
          "Fake",
          "Fake",
          "Fake",
          "Fake",
          "Fake",
          "Fake",
          "Fake",
          "Fake",
          "Fake",
          "Fake",
          "Fake",
          "Fake",
          "Fake",
          "Fake",
          "Fake",
          "Fake",
          "Fake",
          "Fake",
          "Fake",
          "Fake",
          "Fake",
          "Fake",
          "Fake",
          "Fake",
          "Fake",
          "Fake",
          "Fake",
          "Fake",
          "Fake",
          "Fake",
          "Fake",
          "Fake",
          "Fake",
          "Fake",
          "Fake",
          "Fake",
          "Fake",
          "Fake",
          "Fake",
          "Fake",
          "Fake",
          "Fake",
          "Fake",
          "Fake",
          "Fake",
          "Fake",
          "Fake",
          "Fake",
          "Fake",
          "Fake",
          "Fake",
          "Fake",
          "Fake",
          "Fake",
          "Fake",
          "Fake",
          "Fake",
          "Fake",
          "Fake",
          "Fake",
          "Fake",
          "Fake",
          "Fake",
          "Fake",
          "Fake",
          "Fake",
          "Fake",
          "Fake",
          "Fake",
          "Fake",
          "Fake",
          "Fake",
          "Fake",
          "Fake",
          "Fake",
          "Fake",
          "Fake",
          "Fake",
          "Fake",
          "Fake",
          "Fake",
          "Fake",
          "Fake",
          "Fake",
          "Fake",
          "Fake",
          "Fake",
          "Fake",
          "Fake",
          "Fake",
          "Fake",
          "Fake",
          "Fake",
          "Fake",
          "Fake",
          "Fake",
          "Fake",
          "Fake",
          "Fake",
          "Fake",
          "Fake",
          "Fake",
          "Fake",
          "Fake",
          "Fake",
          "Fake",
          "Fake",
          "Fake",
          "Fake",
          "Fake",
          "Fake",
          "Fake",
          "Fake",
          "Fake",
          "Fake",
          "Fake",
          "Fake",
          "Fake",
          "Fake",
          "Fake",
          "Fake",
          "Fake",
          "Fake",
          "Fake",
          "Fake",
          "Fake",
          "Fake",
          "Fake",
          "Fake",
          "Fake",
          "Fake",
          "Fake",
          "Fake",
          "Fake",
          "Fake",
          "Fake",
          "Fake",
          "Fake",
          "Fake",
          "Fake",
          "Fake",
          "Fake",
          "Fake",
          "Fake",
          "Fake",
          "Fake",
          "Fake",
          "Fake",
          "Fake",
          "Fake",
          "Fake",
          "Fake",
          "Fake",
          "Fake",
          "Fake",
          "Fake",
          "Fake",
          "Fake",
          "Fake",
          "Fake",
          "Real",
          "Real",
          "Real",
          "Real",
          "Real",
          "Real",
          "Real",
          "Real",
          "Real",
          "Real",
          "Real",
          "Real",
          "Real",
          "Real",
          "Real",
          "Real",
          "Real",
          "Real",
          "Real",
          "Real",
          "Real",
          "Real",
          "Real",
          "Real",
          "Real",
          "Real",
          "Real",
          "Real",
          "Real",
          "Real",
          "Real",
          "Real",
          "Real",
          "Real",
          "Real",
          "Real",
          "Real",
          "Real",
          "Real",
          "Real",
          "Real",
          "Real",
          "Real",
          "Real",
          "Real",
          "Real",
          "Real",
          "Real",
          "Real",
          "Real",
          "Real",
          "Real",
          "Real",
          "Real",
          "Real",
          "Real",
          "Real",
          "Real",
          "Real",
          "Real",
          "Real",
          "Real",
          "Real",
          "Real",
          "Real",
          "Real",
          "Real",
          "Real",
          "Real",
          "Real",
          "Real",
          "Real",
          "Real",
          "Real",
          "Real",
          "Real",
          "Real",
          "Real",
          "Real",
          "Real",
          "Real",
          "Real",
          "Real",
          "Real",
          "Real",
          "Real",
          "Real",
          "Real",
          "Real",
          "Real",
          "Real",
          "Real",
          "Real",
          "Real",
          "Real",
          "Real",
          "Real",
          "Real",
          "Real",
          "Real",
          "Fake",
          "Fake",
          "Fake",
          "Fake",
          "Fake",
          "Fake",
          "Fake",
          "Fake",
          "Fake",
          "Fake",
          "Fake",
          "Fake",
          "Fake",
          "Fake",
          "Fake",
          "Fake",
          "Fake",
          "Fake",
          "Fake",
          "Fake",
          "Fake",
          "Fake",
          "Fake",
          "Fake",
          "Fake",
          "Fake",
          "Fake",
          "Fake",
          "Fake",
          "Fake",
          "Fake",
          "Fake",
          "Fake",
          "Fake",
          "Fake",
          "Fake",
          "Fake",
          "Fake",
          "Fake",
          "Fake",
          "Fake",
          "Fake",
          "Fake",
          "Fake",
          "Fake",
          "Fake",
          "Fake",
          "Fake",
          "Fake",
          "Fake",
          "Fake",
          "Fake",
          "Fake",
          "Fake",
          "Fake",
          "Fake",
          "Fake",
          "Fake",
          "Fake",
          "Fake",
          "Fake",
          "Fake",
          "Fake",
          "Fake",
          "Fake",
          "Fake",
          "Fake",
          "Fake",
          "Fake",
          "Fake",
          "Fake",
          "Fake",
          "Fake",
          "Fake",
          "Fake",
          "Fake",
          "Fake",
          "Fake",
          "Fake",
          "Fake",
          "Fake",
          "Fake",
          "Fake",
          "Fake",
          "Fake",
          "Fake",
          "Fake",
          "Fake",
          "Fake",
          "Fake",
          "Fake",
          "Fake",
          "Fake",
          "Fake",
          "Fake",
          "Fake",
          "Fake",
          "Fake",
          "Fake",
          "Fake",
          "Fake",
          "Fake",
          "Fake",
          "Fake",
          "Fake",
          "Fake",
          "Fake",
          "Fake",
          "Fake",
          "Fake",
          "Fake",
          "Fake",
          "Fake",
          "Fake",
          "Fake",
          "Fake",
          "Fake",
          "Fake",
          "Fake",
          "Fake",
          "Fake",
          "Fake",
          "Fake",
          "Fake",
          "Fake",
          "Fake",
          "Fake",
          "Fake",
          "Fake",
          "Fake",
          "Fake",
          "Fake",
          "Fake",
          "Fake",
          "Fake",
          "Fake",
          "Fake",
          "Fake",
          "Fake",
          "Fake",
          "Fake",
          "Fake",
          "Fake",
          "Fake",
          "Fake",
          "Fake",
          "Fake",
          "Fake",
          "Fake",
          "Fake",
          "Fake",
          "Fake",
          "Fake",
          "Fake",
          "Fake",
          "Fake",
          "Fake",
          "Fake",
          "Fake",
          "Fake",
          "Fake",
          "Fake",
          "Fake",
          "Fake",
          "Fake",
          "Fake",
          "Fake",
          "Fake",
          "Fake",
          "Fake",
          "Fake",
          "Fake",
          "Fake",
          "Fake",
          "Fake",
          "Fake",
          "Fake",
          "Fake",
          "Fake",
          "Fake",
          "Fake",
          "Fake",
          "Fake",
          "Fake",
          "Fake",
          "Fake",
          "Fake",
          "Fake",
          "Fake",
          "Fake",
          "Fake",
          "Fake",
          "Fake",
          "Fake",
          "Fake",
          "Fake",
          "Fake",
          "Fake",
          "Fake",
          "Fake",
          "Fake",
          "Fake",
          "Fake",
          "Fake",
          "Fake",
          "Fake",
          "Fake",
          "Fake",
          "Fake",
          "Fake",
          "Fake",
          "Fake",
          "Fake",
          "Fake",
          "Fake",
          "Fake",
          "Fake",
          "Fake",
          "Fake",
          "Fake",
          "Fake",
          "Fake",
          "Fake",
          "Fake",
          "Fake",
          "Fake",
          "Fake",
          "Fake",
          "Fake",
          "Fake",
          "Fake",
          "Fake",
          "Fake",
          "Fake",
          "Fake",
          "Fake",
          "Fake",
          "Fake",
          "Fake",
          "Fake",
          "Fake",
          "Fake",
          "Fake",
          "Fake",
          "Fake",
          "Fake",
          "Fake",
          "Fake",
          "Fake",
          "Fake",
          "Fake",
          "Fake",
          "Fake",
          "Fake",
          "Fake",
          "Fake",
          "Fake",
          "Fake",
          "Fake",
          "Real",
          "Real",
          "Real",
          "Real",
          "Real",
          "Real",
          "Real",
          "Real",
          "Real",
          "Real",
          "Real",
          "Real",
          "Real",
          "Real",
          "Real",
          "Real",
          "Real",
          "Real",
          "Real",
          "Real",
          "Real",
          "Real",
          "Real",
          "Real",
          "Real",
          "Real",
          "Real",
          "Real",
          "Real",
          "Real",
          "Real",
          "Real",
          "Real",
          "Real",
          "Real",
          "Real",
          "Real",
          "Real",
          "Real",
          "Real",
          "Real",
          "Real",
          "Real",
          "Real",
          "Real",
          "Real",
          "Real",
          "Real",
          "Real",
          "Real",
          "Real",
          "Real",
          "Real",
          "Real",
          "Real",
          "Real",
          "Real",
          "Real",
          "Real",
          "Real",
          "Real",
          "Real",
          "Real",
          "Real",
          "Real",
          "Real",
          "Real",
          "Real",
          "Real",
          "Real",
          "Real",
          "Real",
          "Real",
          "Real",
          "Real",
          "Real",
          "Real",
          "Real",
          "Real",
          "Real",
          "Real",
          "Real",
          "Real",
          "Real",
          "Real",
          "Real",
          "Real",
          "Real",
          "Real",
          "Real",
          "Real",
          "Real",
          "Real",
          "Real",
          "Real",
          "Real",
          "Real",
          "Real",
          "Real",
          "Real",
          "Real",
          "Real",
          "Real",
          "Real",
          "Real",
          "Real",
          "Real",
          "Real",
          "Real",
          "Real",
          "Real",
          "Real",
          "Real",
          "Real",
          "Real",
          "Real",
          "Real",
          "Real",
          "Real",
          "Real",
          "Real",
          "Real",
          "Real",
          "Real",
          "Real",
          "Real",
          "Real",
          "Real",
          "Real",
          "Real",
          "Real",
          "Real",
          "Real",
          "Real",
          "Real",
          "Real",
          "Real",
          "Real",
          "Real",
          "Real",
          "Real",
          "Real",
          "Real",
          "Real",
          "Real",
          "Real",
          "Real",
          "Real",
          "Real",
          "Real",
          "Real",
          "Real",
          "Real",
          "Real",
          "Real",
          "Real",
          "Real",
          "Real",
          "Real",
          "Real",
          "Real",
          "Real",
          "Real",
          "Real",
          "Real",
          "Real",
          "Real",
          "Real",
          "Real",
          "Real",
          "Real",
          "Real",
          "Real",
          "Real",
          "Real",
          "Real",
          "Real",
          "Real",
          "Real",
          "Real",
          "Real",
          "Real",
          "Real",
          "Real",
          "Real",
          "Real",
          "Real",
          "Real",
          "Real",
          "Real",
          "Real",
          "Real",
          "Real",
          "Real",
          "Real",
          "Real",
          "Real",
          "Real",
          "Real",
          "Real",
          "Real",
          "Real",
          "Real",
          "Real",
          "Real",
          "Real",
          "Real",
          "Real",
          "Real",
          "Real",
          "Real",
          "Real",
          "Real",
          "Real",
          "Real",
          "Real",
          "Real",
          "Real",
          "Real",
          "Real",
          "Real",
          "Fake",
          "Fake",
          "Fake",
          "Fake",
          "Fake",
          "Fake",
          "Fake",
          "Fake",
          "Fake",
          "Fake",
          "Fake",
          "Fake",
          "Fake",
          "Fake",
          "Fake",
          "Fake",
          "Fake",
          "Fake",
          "Fake",
          "Fake",
          "Fake",
          "Fake",
          "Fake",
          "Fake",
          "Fake",
          "Fake",
          "Fake",
          "Fake",
          "Fake",
          "Fake",
          "Fake",
          "Fake",
          "Fake",
          "Fake",
          "Fake",
          "Fake",
          "Fake",
          "Fake",
          "Fake",
          "Fake",
          "Fake",
          "Fake",
          "Fake",
          "Fake",
          "Fake",
          "Fake",
          "Fake",
          "Fake",
          "Fake",
          "Fake",
          "Fake",
          "Fake",
          "Fake",
          "Fake",
          "Fake",
          "Fake",
          "Fake",
          "Fake",
          "Fake",
          "Fake",
          "Fake",
          "Fake",
          "Fake",
          "Fake",
          "Fake",
          "Fake",
          "Fake",
          "Fake",
          "Fake",
          "Fake",
          "Fake",
          "Fake",
          "Fake",
          "Fake",
          "Fake",
          "Fake",
          "Fake",
          "Fake",
          "Fake",
          "Fake",
          "Fake",
          "Fake",
          "Fake",
          "Fake",
          "Fake",
          "Fake",
          "Fake",
          "Fake",
          "Fake",
          "Fake",
          "Fake",
          "Fake",
          "Fake",
          "Fake",
          "Fake",
          "Fake",
          "Fake",
          "Fake",
          "Fake",
          "Fake",
          "Real",
          "Fake",
          "Real",
          "Real",
          "Real",
          "Real",
          "Real",
          "Real",
          "Real",
          "Real",
          "Real",
          "Real",
          "Real",
          "Real",
          "Real",
          "Real",
          "Real",
          "Real",
          "Real",
          "Real",
          "Real",
          "Real",
          "Real",
          "Real",
          "Real",
          "Real",
          "Real",
          "Real",
          "Real",
          "Real",
          "Real",
          "Real",
          "Real",
          "Real",
          "Real",
          "Real",
          "Real",
          "Real",
          "Real",
          "Real",
          "Real",
          "Real",
          "Real",
          "Real",
          "Real",
          "Real",
          "Real",
          "Real",
          "Real",
          "Real",
          "Real",
          "Real",
          "Real",
          "Real",
          "Real",
          "Real",
          "Real",
          "Real",
          "Real",
          "Real",
          "Real",
          "Real",
          "Real",
          "Real",
          "Real",
          "Real",
          "Real",
          "Real",
          "Real",
          "Real",
          "Real",
          "Real",
          "Real",
          "Real",
          "Real",
          "Real",
          "Real",
          "Real",
          "Real",
          "Real",
          "Real",
          "Real",
          "Real",
          "Real",
          "Real",
          "Real",
          "Real",
          "Real",
          "Real",
          "Real",
          "Real",
          "Real",
          "Real",
          "Real",
          "Real",
          "Real",
          "Real",
          "Real",
          "Real",
          "Real",
          "Real",
          "Real",
          "Real",
          "Fake",
          "Fake",
          "Fake",
          "Fake",
          "Fake",
          "Fake",
          "Fake",
          "Fake",
          "Fake",
          "Fake",
          "Fake",
          "Fake",
          "Fake",
          "Fake",
          "Fake",
          "Fake",
          "Fake",
          "Fake",
          "Fake",
          "Fake",
          "Fake",
          "Fake",
          "Fake",
          "Fake",
          "Fake",
          "Fake",
          "Fake",
          "Fake",
          "Fake",
          "Fake",
          "Fake",
          "Fake",
          "Fake",
          "Fake",
          "Fake",
          "Fake",
          "Fake",
          "Fake",
          "Fake",
          "Fake",
          "Fake",
          "Fake",
          "Fake",
          "Fake",
          "Fake",
          "Fake",
          "Fake",
          "Fake",
          "Fake",
          "Fake",
          "Fake",
          "Fake",
          "Fake",
          "Fake",
          "Fake",
          "Fake",
          "Fake",
          "Fake",
          "Fake",
          "Fake",
          "Fake",
          "Fake",
          "Real",
          "Real",
          "Real",
          "Real",
          "Real",
          "Real",
          "Real",
          "Real",
          "Real",
          "Real",
          "Real",
          "Real",
          "Real",
          "Real",
          "Real",
          "Real",
          "Real",
          "Real",
          "Real",
          "Real",
          "Real",
          "Real",
          "Real",
          "Real",
          "Real",
          "Real",
          "Real",
          "Real",
          "Real",
          "Real",
          "Real",
          "Real",
          "Real",
          "Real",
          "Real",
          "Real",
          "Real",
          "Real",
          "Real",
          "Real",
          "Real",
          "Real",
          "Real",
          "Real",
          "Real",
          "Real",
          "Real",
          "Real",
          "Real",
          "Real",
          "Real",
          "Real",
          "Real",
          "Real",
          "Real",
          "Real",
          "Real",
          "Real",
          "Real",
          "Real",
          "Real",
          "Real",
          "Real",
          "Real",
          "Real",
          "Real",
          "Real",
          "Real",
          "Real",
          "Real",
          "Real",
          "Real",
          "Real",
          "Real",
          "Real",
          "Real",
          "Real",
          "Real",
          "Real",
          "Real",
          "Real",
          "Real",
          "Real",
          "Real",
          "Real",
          "Real",
          "Real",
          "Real",
          "Real",
          "Real",
          "Real",
          "Real",
          "Real",
          "Real",
          "Real",
          "Real",
          "Real",
          "Real",
          "Real",
          "Real",
          "Fake",
          "Fake",
          "Fake",
          "Fake",
          "Fake",
          "Fake",
          "Fake",
          "Fake",
          "Fake",
          "Fake",
          "Fake",
          "Fake",
          "Real",
          "Real",
          "Real",
          "Real",
          "Real",
          "Real",
          "Real",
          "Real",
          "Real",
          "Real",
          "Real",
          "Real",
          "Real",
          "Real",
          "Real",
          "Real",
          "Real",
          "Real",
          "Real",
          "Real",
          "Real",
          "Real",
          "Real",
          "Real",
          "Real",
          "Real",
          "Real",
          "Real",
          "Real",
          "Real",
          "Real",
          "Real",
          "Real",
          "Real",
          "Real",
          "Real",
          "Real",
          "Real",
          "Real",
          "Real",
          "Real",
          "Real",
          "Real",
          "Real",
          "Real",
          "Real",
          "Real",
          "Real",
          "Real",
          "Real",
          "Real",
          "Real",
          "Real"
         ],
         "yaxis": "y"
        }
       ],
       "layout": {
        "barmode": "relative",
        "legend": {
         "tracegroupgap": 0
        },
        "template": {
         "data": {
          "bar": [
           {
            "error_x": {
             "color": "#2a3f5f"
            },
            "error_y": {
             "color": "#2a3f5f"
            },
            "marker": {
             "line": {
              "color": "#E5ECF6",
              "width": 0.5
             },
             "pattern": {
              "fillmode": "overlay",
              "size": 10,
              "solidity": 0.2
             }
            },
            "type": "bar"
           }
          ],
          "barpolar": [
           {
            "marker": {
             "line": {
              "color": "#E5ECF6",
              "width": 0.5
             },
             "pattern": {
              "fillmode": "overlay",
              "size": 10,
              "solidity": 0.2
             }
            },
            "type": "barpolar"
           }
          ],
          "carpet": [
           {
            "aaxis": {
             "endlinecolor": "#2a3f5f",
             "gridcolor": "white",
             "linecolor": "white",
             "minorgridcolor": "white",
             "startlinecolor": "#2a3f5f"
            },
            "baxis": {
             "endlinecolor": "#2a3f5f",
             "gridcolor": "white",
             "linecolor": "white",
             "minorgridcolor": "white",
             "startlinecolor": "#2a3f5f"
            },
            "type": "carpet"
           }
          ],
          "choropleth": [
           {
            "colorbar": {
             "outlinewidth": 0,
             "ticks": ""
            },
            "type": "choropleth"
           }
          ],
          "contour": [
           {
            "colorbar": {
             "outlinewidth": 0,
             "ticks": ""
            },
            "colorscale": [
             [
              0,
              "#0d0887"
             ],
             [
              0.1111111111111111,
              "#46039f"
             ],
             [
              0.2222222222222222,
              "#7201a8"
             ],
             [
              0.3333333333333333,
              "#9c179e"
             ],
             [
              0.4444444444444444,
              "#bd3786"
             ],
             [
              0.5555555555555556,
              "#d8576b"
             ],
             [
              0.6666666666666666,
              "#ed7953"
             ],
             [
              0.7777777777777778,
              "#fb9f3a"
             ],
             [
              0.8888888888888888,
              "#fdca26"
             ],
             [
              1,
              "#f0f921"
             ]
            ],
            "type": "contour"
           }
          ],
          "contourcarpet": [
           {
            "colorbar": {
             "outlinewidth": 0,
             "ticks": ""
            },
            "type": "contourcarpet"
           }
          ],
          "heatmap": [
           {
            "colorbar": {
             "outlinewidth": 0,
             "ticks": ""
            },
            "colorscale": [
             [
              0,
              "#0d0887"
             ],
             [
              0.1111111111111111,
              "#46039f"
             ],
             [
              0.2222222222222222,
              "#7201a8"
             ],
             [
              0.3333333333333333,
              "#9c179e"
             ],
             [
              0.4444444444444444,
              "#bd3786"
             ],
             [
              0.5555555555555556,
              "#d8576b"
             ],
             [
              0.6666666666666666,
              "#ed7953"
             ],
             [
              0.7777777777777778,
              "#fb9f3a"
             ],
             [
              0.8888888888888888,
              "#fdca26"
             ],
             [
              1,
              "#f0f921"
             ]
            ],
            "type": "heatmap"
           }
          ],
          "heatmapgl": [
           {
            "colorbar": {
             "outlinewidth": 0,
             "ticks": ""
            },
            "colorscale": [
             [
              0,
              "#0d0887"
             ],
             [
              0.1111111111111111,
              "#46039f"
             ],
             [
              0.2222222222222222,
              "#7201a8"
             ],
             [
              0.3333333333333333,
              "#9c179e"
             ],
             [
              0.4444444444444444,
              "#bd3786"
             ],
             [
              0.5555555555555556,
              "#d8576b"
             ],
             [
              0.6666666666666666,
              "#ed7953"
             ],
             [
              0.7777777777777778,
              "#fb9f3a"
             ],
             [
              0.8888888888888888,
              "#fdca26"
             ],
             [
              1,
              "#f0f921"
             ]
            ],
            "type": "heatmapgl"
           }
          ],
          "histogram": [
           {
            "marker": {
             "pattern": {
              "fillmode": "overlay",
              "size": 10,
              "solidity": 0.2
             }
            },
            "type": "histogram"
           }
          ],
          "histogram2d": [
           {
            "colorbar": {
             "outlinewidth": 0,
             "ticks": ""
            },
            "colorscale": [
             [
              0,
              "#0d0887"
             ],
             [
              0.1111111111111111,
              "#46039f"
             ],
             [
              0.2222222222222222,
              "#7201a8"
             ],
             [
              0.3333333333333333,
              "#9c179e"
             ],
             [
              0.4444444444444444,
              "#bd3786"
             ],
             [
              0.5555555555555556,
              "#d8576b"
             ],
             [
              0.6666666666666666,
              "#ed7953"
             ],
             [
              0.7777777777777778,
              "#fb9f3a"
             ],
             [
              0.8888888888888888,
              "#fdca26"
             ],
             [
              1,
              "#f0f921"
             ]
            ],
            "type": "histogram2d"
           }
          ],
          "histogram2dcontour": [
           {
            "colorbar": {
             "outlinewidth": 0,
             "ticks": ""
            },
            "colorscale": [
             [
              0,
              "#0d0887"
             ],
             [
              0.1111111111111111,
              "#46039f"
             ],
             [
              0.2222222222222222,
              "#7201a8"
             ],
             [
              0.3333333333333333,
              "#9c179e"
             ],
             [
              0.4444444444444444,
              "#bd3786"
             ],
             [
              0.5555555555555556,
              "#d8576b"
             ],
             [
              0.6666666666666666,
              "#ed7953"
             ],
             [
              0.7777777777777778,
              "#fb9f3a"
             ],
             [
              0.8888888888888888,
              "#fdca26"
             ],
             [
              1,
              "#f0f921"
             ]
            ],
            "type": "histogram2dcontour"
           }
          ],
          "mesh3d": [
           {
            "colorbar": {
             "outlinewidth": 0,
             "ticks": ""
            },
            "type": "mesh3d"
           }
          ],
          "parcoords": [
           {
            "line": {
             "colorbar": {
              "outlinewidth": 0,
              "ticks": ""
             }
            },
            "type": "parcoords"
           }
          ],
          "pie": [
           {
            "automargin": true,
            "type": "pie"
           }
          ],
          "scatter": [
           {
            "marker": {
             "colorbar": {
              "outlinewidth": 0,
              "ticks": ""
             }
            },
            "type": "scatter"
           }
          ],
          "scatter3d": [
           {
            "line": {
             "colorbar": {
              "outlinewidth": 0,
              "ticks": ""
             }
            },
            "marker": {
             "colorbar": {
              "outlinewidth": 0,
              "ticks": ""
             }
            },
            "type": "scatter3d"
           }
          ],
          "scattercarpet": [
           {
            "marker": {
             "colorbar": {
              "outlinewidth": 0,
              "ticks": ""
             }
            },
            "type": "scattercarpet"
           }
          ],
          "scattergeo": [
           {
            "marker": {
             "colorbar": {
              "outlinewidth": 0,
              "ticks": ""
             }
            },
            "type": "scattergeo"
           }
          ],
          "scattergl": [
           {
            "marker": {
             "colorbar": {
              "outlinewidth": 0,
              "ticks": ""
             }
            },
            "type": "scattergl"
           }
          ],
          "scattermapbox": [
           {
            "marker": {
             "colorbar": {
              "outlinewidth": 0,
              "ticks": ""
             }
            },
            "type": "scattermapbox"
           }
          ],
          "scatterpolar": [
           {
            "marker": {
             "colorbar": {
              "outlinewidth": 0,
              "ticks": ""
             }
            },
            "type": "scatterpolar"
           }
          ],
          "scatterpolargl": [
           {
            "marker": {
             "colorbar": {
              "outlinewidth": 0,
              "ticks": ""
             }
            },
            "type": "scatterpolargl"
           }
          ],
          "scatterternary": [
           {
            "marker": {
             "colorbar": {
              "outlinewidth": 0,
              "ticks": ""
             }
            },
            "type": "scatterternary"
           }
          ],
          "surface": [
           {
            "colorbar": {
             "outlinewidth": 0,
             "ticks": ""
            },
            "colorscale": [
             [
              0,
              "#0d0887"
             ],
             [
              0.1111111111111111,
              "#46039f"
             ],
             [
              0.2222222222222222,
              "#7201a8"
             ],
             [
              0.3333333333333333,
              "#9c179e"
             ],
             [
              0.4444444444444444,
              "#bd3786"
             ],
             [
              0.5555555555555556,
              "#d8576b"
             ],
             [
              0.6666666666666666,
              "#ed7953"
             ],
             [
              0.7777777777777778,
              "#fb9f3a"
             ],
             [
              0.8888888888888888,
              "#fdca26"
             ],
             [
              1,
              "#f0f921"
             ]
            ],
            "type": "surface"
           }
          ],
          "table": [
           {
            "cells": {
             "fill": {
              "color": "#EBF0F8"
             },
             "line": {
              "color": "white"
             }
            },
            "header": {
             "fill": {
              "color": "#C8D4E3"
             },
             "line": {
              "color": "white"
             }
            },
            "type": "table"
           }
          ]
         },
         "layout": {
          "annotationdefaults": {
           "arrowcolor": "#2a3f5f",
           "arrowhead": 0,
           "arrowwidth": 1
          },
          "autotypenumbers": "strict",
          "coloraxis": {
           "colorbar": {
            "outlinewidth": 0,
            "ticks": ""
           }
          },
          "colorscale": {
           "diverging": [
            [
             0,
             "#8e0152"
            ],
            [
             0.1,
             "#c51b7d"
            ],
            [
             0.2,
             "#de77ae"
            ],
            [
             0.3,
             "#f1b6da"
            ],
            [
             0.4,
             "#fde0ef"
            ],
            [
             0.5,
             "#f7f7f7"
            ],
            [
             0.6,
             "#e6f5d0"
            ],
            [
             0.7,
             "#b8e186"
            ],
            [
             0.8,
             "#7fbc41"
            ],
            [
             0.9,
             "#4d9221"
            ],
            [
             1,
             "#276419"
            ]
           ],
           "sequential": [
            [
             0,
             "#0d0887"
            ],
            [
             0.1111111111111111,
             "#46039f"
            ],
            [
             0.2222222222222222,
             "#7201a8"
            ],
            [
             0.3333333333333333,
             "#9c179e"
            ],
            [
             0.4444444444444444,
             "#bd3786"
            ],
            [
             0.5555555555555556,
             "#d8576b"
            ],
            [
             0.6666666666666666,
             "#ed7953"
            ],
            [
             0.7777777777777778,
             "#fb9f3a"
            ],
            [
             0.8888888888888888,
             "#fdca26"
            ],
            [
             1,
             "#f0f921"
            ]
           ],
           "sequentialminus": [
            [
             0,
             "#0d0887"
            ],
            [
             0.1111111111111111,
             "#46039f"
            ],
            [
             0.2222222222222222,
             "#7201a8"
            ],
            [
             0.3333333333333333,
             "#9c179e"
            ],
            [
             0.4444444444444444,
             "#bd3786"
            ],
            [
             0.5555555555555556,
             "#d8576b"
            ],
            [
             0.6666666666666666,
             "#ed7953"
            ],
            [
             0.7777777777777778,
             "#fb9f3a"
            ],
            [
             0.8888888888888888,
             "#fdca26"
            ],
            [
             1,
             "#f0f921"
            ]
           ]
          },
          "colorway": [
           "#636efa",
           "#EF553B",
           "#00cc96",
           "#ab63fa",
           "#FFA15A",
           "#19d3f3",
           "#FF6692",
           "#B6E880",
           "#FF97FF",
           "#FECB52"
          ],
          "font": {
           "color": "#2a3f5f"
          },
          "geo": {
           "bgcolor": "white",
           "lakecolor": "white",
           "landcolor": "#E5ECF6",
           "showlakes": true,
           "showland": true,
           "subunitcolor": "white"
          },
          "hoverlabel": {
           "align": "left"
          },
          "hovermode": "closest",
          "mapbox": {
           "style": "light"
          },
          "paper_bgcolor": "white",
          "plot_bgcolor": "#E5ECF6",
          "polar": {
           "angularaxis": {
            "gridcolor": "white",
            "linecolor": "white",
            "ticks": ""
           },
           "bgcolor": "#E5ECF6",
           "radialaxis": {
            "gridcolor": "white",
            "linecolor": "white",
            "ticks": ""
           }
          },
          "scene": {
           "xaxis": {
            "backgroundcolor": "#E5ECF6",
            "gridcolor": "white",
            "gridwidth": 2,
            "linecolor": "white",
            "showbackground": true,
            "ticks": "",
            "zerolinecolor": "white"
           },
           "yaxis": {
            "backgroundcolor": "#E5ECF6",
            "gridcolor": "white",
            "gridwidth": 2,
            "linecolor": "white",
            "showbackground": true,
            "ticks": "",
            "zerolinecolor": "white"
           },
           "zaxis": {
            "backgroundcolor": "#E5ECF6",
            "gridcolor": "white",
            "gridwidth": 2,
            "linecolor": "white",
            "showbackground": true,
            "ticks": "",
            "zerolinecolor": "white"
           }
          },
          "shapedefaults": {
           "line": {
            "color": "#2a3f5f"
           }
          },
          "ternary": {
           "aaxis": {
            "gridcolor": "white",
            "linecolor": "white",
            "ticks": ""
           },
           "baxis": {
            "gridcolor": "white",
            "linecolor": "white",
            "ticks": ""
           },
           "bgcolor": "#E5ECF6",
           "caxis": {
            "gridcolor": "white",
            "linecolor": "white",
            "ticks": ""
           }
          },
          "title": {
           "x": 0.05
          },
          "xaxis": {
           "automargin": true,
           "gridcolor": "white",
           "linecolor": "white",
           "ticks": "",
           "title": {
            "standoff": 15
           },
           "zerolinecolor": "white",
           "zerolinewidth": 2
          },
          "yaxis": {
           "automargin": true,
           "gridcolor": "white",
           "linecolor": "white",
           "ticks": "",
           "title": {
            "standoff": 15
           },
           "zerolinecolor": "white",
           "zerolinewidth": 2
          }
         }
        },
        "title": {
         "text": "Articles including images vs Label"
        },
        "xaxis": {
         "anchor": "y",
         "domain": [
          0,
          1
         ],
         "title": {
          "text": "hasImage"
         }
        },
        "yaxis": {
         "anchor": "x",
         "domain": [
          0,
          1
         ],
         "title": {
          "text": "label"
         }
        }
       }
      },
      "text/html": [
       "<div>                            <div id=\"9bb3334f-64ed-4229-bd7e-9d64c197f9bc\" class=\"plotly-graph-div\" style=\"height:525px; width:100%;\"></div>            <script type=\"text/javascript\">                require([\"plotly\"], function(Plotly) {                    window.PLOTLYENV=window.PLOTLYENV || {};                                    if (document.getElementById(\"9bb3334f-64ed-4229-bd7e-9d64c197f9bc\")) {                    Plotly.newPlot(                        \"9bb3334f-64ed-4229-bd7e-9d64c197f9bc\",                        [{\"alignmentgroup\":\"True\",\"hovertemplate\":\"hasImage=%{x}<br>label=%{y}<extra></extra>\",\"legendgroup\":\"\",\"marker\":{\"color\":\"#636efa\",\"pattern\":{\"shape\":\"\"}},\"name\":\"\",\"offsetgroup\":\"\",\"orientation\":\"h\",\"showlegend\":false,\"textposition\":\"auto\",\"x\":[1.0,1.0,1.0,1.0,1.0,1.0,1.0,1.0,1.0,1.0,1.0,1.0,1.0,1.0,1.0,1.0,1.0,1.0,1.0,1.0,1.0,1.0,1.0,1.0,1.0,1.0,1.0,1.0,1.0,1.0,1.0,1.0,1.0,1.0,1.0,1.0,1.0,1.0,1.0,1.0,1.0,1.0,1.0,1.0,1.0,1.0,1.0,1.0,1.0,1.0,1.0,1.0,1.0,1.0,1.0,1.0,1.0,1.0,1.0,0.0,0.0,0.0,0.0,0.0,0.0,0.0,0.0,0.0,0.0,0.0,0.0,0.0,0.0,0.0,0.0,0.0,0.0,0.0,0.0,0.0,0.0,0.0,0.0,0.0,0.0,0.0,0.0,0.0,0.0,0.0,0.0,0.0,0.0,0.0,0.0,0.0,0.0,0.0,0.0,0.0,0.0,0.0,0.0,0.0,0.0,0.0,0.0,0.0,0.0,0.0,0.0,0.0,0.0,0.0,0.0,0.0,0.0,0.0,0.0,0.0,0.0,0.0,0.0,0.0,0.0,0.0,0.0,0.0,0.0,0.0,0.0,0.0,0.0,0.0,0.0,0.0,0.0,0.0,0.0,0.0,0.0,1.0,1.0,1.0,1.0,1.0,1.0,1.0,1.0,1.0,1.0,1.0,1.0,1.0,1.0,1.0,1.0,1.0,1.0,1.0,1.0,1.0,1.0,1.0,1.0,1.0,1.0,1.0,1.0,1.0,1.0,1.0,1.0,1.0,1.0,1.0,1.0,1.0,1.0,1.0,1.0,1.0,1.0,1.0,1.0,1.0,1.0,1.0,1.0,1.0,1.0,1.0,1.0,1.0,0.0,0.0,0.0,1.0,1.0,0.0,0.0,0.0,0.0,0.0,0.0,0.0,0.0,0.0,1.0,0.0,0.0,0.0,0.0,0.0,0.0,0.0,0.0,0.0,0.0,0.0,0.0,0.0,1.0,0.0,0.0,0.0,0.0,0.0,0.0,0.0,0.0,0.0,0.0,0.0,0.0,0.0,0.0,0.0,1.0,0.0,0.0,0.0,0.0,1.0,0.0,0.0,0.0,0.0,0.0,0.0,0.0,0.0,1.0,0.0,0.0,0.0,0.0,0.0,0.0,0.0,0.0,0.0,0.0,0.0,0.0,0.0,1.0,1.0,0.0,0.0,0.0,1.0,0.0,0.0,0.0,0.0,0.0,0.0,0.0,0.0,0.0,0.0,0.0,0.0,0.0,0.0,0.0,0.0,0.0,0.0,0.0,0.0,0.0,0.0,0.0,1.0,1.0,0.0,0.0,0.0,1.0,1.0,1.0,0.0,1.0,1.0,1.0,1.0,1.0,1.0,1.0,1.0,0.0,0.0,1.0,1.0,1.0,1.0,1.0,1.0,1.0,1.0,1.0,1.0,1.0,1.0,1.0,1.0,1.0,1.0,1.0,1.0,1.0,1.0,1.0,1.0,1.0,1.0,1.0,1.0,1.0,1.0,1.0,1.0,1.0,1.0,1.0,1.0,1.0,1.0,1.0,1.0,1.0,1.0,1.0,1.0,1.0,1.0,1.0,1.0,1.0,1.0,1.0,1.0,1.0,1.0,1.0,1.0,1.0,1.0,1.0,1.0,1.0,1.0,1.0,1.0,1.0,1.0,1.0,1.0,1.0,1.0,1.0,1.0,1.0,1.0,1.0,1.0,1.0,1.0,1.0,1.0,1.0,1.0,0.0,1.0,1.0,1.0,1.0,1.0,1.0,1.0,1.0,1.0,1.0,1.0,1.0,1.0,1.0,1.0,1.0,1.0,1.0,1.0,1.0,1.0,1.0,1.0,1.0,1.0,1.0,1.0,1.0,1.0,1.0,1.0,1.0,1.0,1.0,1.0,1.0,1.0,1.0,1.0,1.0,1.0,1.0,1.0,1.0,1.0,1.0,1.0,1.0,1.0,1.0,1.0,1.0,1.0,1.0,1.0,1.0,1.0,1.0,1.0,1.0,1.0,1.0,1.0,1.0,1.0,1.0,1.0,1.0,1.0,1.0,1.0,1.0,1.0,1.0,1.0,1.0,1.0,1.0,1.0,1.0,1.0,1.0,1.0,1.0,1.0,1.0,1.0,1.0,1.0,1.0,1.0,1.0,1.0,1.0,1.0,1.0,1.0,1.0,1.0,1.0,1.0,1.0,1.0,1.0,1.0,1.0,1.0,1.0,1.0,1.0,1.0,1.0,1.0,1.0,1.0,1.0,1.0,1.0,1.0,1.0,1.0,1.0,1.0,1.0,1.0,1.0,1.0,1.0,1.0,1.0,1.0,1.0,1.0,1.0,1.0,1.0,1.0,1.0,1.0,1.0,1.0,1.0,1.0,1.0,1.0,1.0,1.0,1.0,1.0,1.0,1.0,1.0,1.0,1.0,1.0,1.0,1.0,1.0,1.0,1.0,1.0,1.0,1.0,1.0,1.0,1.0,1.0,1.0,1.0,1.0,1.0,1.0,1.0,1.0,1.0,1.0,1.0,1.0,1.0,1.0,1.0,1.0,1.0,1.0,1.0,1.0,1.0,1.0,1.0,1.0,1.0,1.0,1.0,1.0,1.0,1.0,1.0,1.0,1.0,1.0,1.0,1.0,1.0,1.0,1.0,1.0,1.0,1.0,1.0,1.0,1.0,1.0,1.0,1.0,1.0,1.0,1.0,1.0,1.0,1.0,1.0,1.0,1.0,1.0,1.0,1.0,1.0,1.0,1.0,1.0,1.0,1.0,1.0,1.0,1.0,1.0,1.0,1.0,1.0,1.0,1.0,1.0,1.0,1.0,1.0,1.0,1.0,1.0,1.0,1.0,1.0,1.0,1.0,1.0,1.0,1.0,1.0,1.0,1.0,1.0,1.0,1.0,1.0,1.0,1.0,1.0,1.0,1.0,1.0,1.0,1.0,1.0,1.0,1.0,1.0,1.0,1.0,1.0,1.0,1.0,1.0,1.0,1.0,1.0,1.0,1.0,1.0,1.0,1.0,1.0,1.0,1.0,1.0,1.0,0.0,0.0,0.0,0.0,0.0,0.0,0.0,0.0,0.0,0.0,0.0,0.0,0.0,0.0,0.0,0.0,0.0,0.0,0.0,0.0,0.0,0.0,0.0,0.0,0.0,0.0,0.0,0.0,1.0,1.0,1.0,1.0,1.0,1.0,1.0,1.0,1.0,1.0,1.0,1.0,1.0,1.0,1.0,1.0,1.0,1.0,1.0,1.0,1.0,1.0,1.0,1.0,1.0,1.0,1.0,1.0,1.0,1.0,1.0,1.0,1.0,1.0,1.0,1.0,1.0,1.0,1.0,1.0,1.0,1.0,1.0,1.0,1.0,1.0,1.0,1.0,1.0,1.0,1.0,1.0,1.0,1.0,1.0,1.0,1.0,1.0,1.0,1.0,1.0,1.0,1.0,1.0,1.0,1.0,1.0,1.0,1.0,1.0,1.0,1.0,1.0,1.0,1.0,1.0,1.0,1.0,1.0,1.0,1.0,1.0,1.0,1.0,1.0,1.0,1.0,0.0,0.0,0.0,0.0,0.0,0.0,0.0,0.0,0.0,1.0,1.0,1.0,1.0,1.0,1.0,1.0,1.0,1.0,1.0,1.0,1.0,1.0,1.0,1.0,1.0,1.0,1.0,1.0,1.0,1.0,1.0,1.0,1.0,1.0,1.0,1.0,1.0,1.0,1.0,1.0,1.0,1.0,1.0,1.0,1.0,1.0,1.0,1.0,1.0,1.0,1.0,1.0,1.0,1.0,1.0,1.0,1.0,1.0,1.0,1.0,1.0,1.0,1.0,1.0,1.0,1.0,1.0,1.0,1.0,1.0,1.0,1.0,1.0,1.0,1.0,1.0,1.0,1.0,1.0,1.0,1.0,1.0,1.0,1.0,1.0,1.0,1.0,1.0,1.0,1.0,1.0,1.0,1.0,1.0,1.0,1.0,1.0,1.0,1.0,1.0,1.0,1.0,1.0,1.0,1.0,1.0,1.0,1.0,1.0,1.0,1.0,1.0,1.0,1.0,1.0,1.0,1.0,1.0,1.0,1.0,1.0,1.0,1.0,1.0,1.0,1.0,1.0,1.0,1.0,1.0,1.0,1.0,1.0,1.0,1.0,1.0,1.0,1.0,1.0,1.0,1.0,1.0,1.0,1.0,1.0,1.0,1.0,1.0,1.0,1.0,1.0,1.0,1.0,1.0,1.0,1.0,1.0,1.0,1.0,1.0,1.0,1.0,1.0,1.0,1.0,1.0,1.0,1.0,1.0,1.0,1.0,1.0,1.0,1.0,1.0,1.0,1.0,1.0,1.0,1.0,1.0,1.0,1.0,1.0,1.0,1.0,1.0,1.0,1.0,1.0,1.0,1.0,1.0,1.0,1.0,1.0,1.0,1.0,1.0,1.0,1.0,1.0,1.0,1.0,1.0,1.0,1.0,1.0,1.0,1.0,1.0,1.0,1.0,1.0,1.0,1.0,1.0,1.0,1.0,1.0,1.0,1.0,1.0,1.0,1.0,1.0,1.0,1.0,1.0,1.0,1.0,1.0,1.0,1.0,1.0,1.0,1.0,1.0,1.0,1.0,1.0,1.0,1.0,1.0,1.0,1.0,1.0,1.0,1.0,1.0,1.0,1.0,1.0,1.0,1.0,1.0,1.0,1.0,1.0,1.0,1.0,1.0,1.0,1.0,1.0,1.0,1.0,1.0,1.0,1.0,1.0,1.0,1.0,1.0,1.0,1.0,1.0,1.0,1.0,1.0,1.0,1.0,1.0,1.0,1.0,1.0,1.0,1.0,1.0,1.0,1.0,1.0,1.0,1.0,1.0,1.0,1.0,1.0,1.0,1.0,1.0,1.0,1.0,1.0,1.0,1.0,1.0,1.0,1.0,1.0,1.0,1.0,1.0,1.0,1.0,1.0,1.0,1.0,1.0,1.0,1.0,1.0,1.0,1.0,1.0,1.0,1.0,1.0,1.0,1.0,1.0,0.0,0.0,0.0,0.0,0.0,1.0,1.0,1.0,1.0,1.0,1.0,1.0,1.0,1.0,1.0,1.0,1.0,1.0,1.0,1.0,1.0,1.0,1.0,1.0,1.0,1.0,1.0,1.0,1.0,1.0,1.0,1.0,1.0,1.0,1.0,1.0,1.0,1.0,1.0,1.0,1.0,1.0,1.0,1.0,1.0,1.0,1.0,1.0,1.0,1.0,1.0,1.0,1.0,1.0,1.0,1.0,1.0,1.0,1.0,1.0,1.0,1.0,1.0,1.0,1.0,1.0,1.0,1.0,1.0,1.0,1.0,1.0,1.0,1.0,1.0,1.0,1.0,1.0,1.0,1.0,1.0,1.0,1.0,1.0,1.0,1.0,1.0,1.0,1.0,1.0,1.0,1.0,1.0,1.0,1.0,1.0,1.0,1.0,1.0,1.0,1.0,1.0,1.0,1.0,1.0,1.0,0.0,0.0,0.0,0.0,0.0,0.0,0.0,0.0,0.0,0.0,0.0,0.0,0.0,0.0,0.0,0.0,0.0,0.0,0.0,0.0,0.0,0.0,0.0,0.0,0.0,0.0,0.0,0.0,0.0,0.0,0.0,0.0,0.0,0.0,0.0,0.0,0.0,0.0,0.0,0.0,0.0,0.0,0.0,0.0,0.0,0.0,0.0,1.0,1.0,1.0,1.0,1.0,1.0,1.0,1.0,1.0,1.0,1.0,1.0,1.0,1.0,1.0,1.0,1.0,1.0,1.0,1.0,1.0,1.0,1.0,1.0,1.0,1.0,1.0,1.0,1.0,1.0,1.0,1.0,1.0,1.0,1.0,1.0,1.0,1.0,1.0,1.0,1.0,1.0,1.0,1.0,1.0,1.0,1.0,1.0,1.0,1.0,1.0,1.0,1.0,1.0,1.0,1.0,1.0,1.0,1.0,1.0,1.0,1.0,1.0,1.0,1.0,1.0,1.0,1.0,1.0,1.0,1.0,1.0,1.0,1.0,1.0,1.0,1.0,1.0,1.0,1.0,1.0,1.0,1.0,1.0,1.0,1.0,1.0,1.0,1.0,1.0,1.0,1.0,1.0,1.0,1.0,1.0,1.0,1.0,1.0,1.0,1.0,1.0,1.0,1.0,1.0,1.0,1.0,1.0,1.0,1.0,1.0,1.0,1.0,1.0,1.0,1.0,1.0,1.0,1.0,1.0,1.0,1.0,1.0,1.0,1.0,1.0,1.0,1.0,1.0,1.0,1.0,1.0,1.0,1.0,1.0,1.0,1.0,1.0,1.0,1.0,1.0,1.0,1.0,1.0,1.0,1.0,1.0,1.0,1.0,1.0,1.0,1.0,1.0,1.0,1.0,1.0,1.0,1.0,1.0,1.0,1.0,1.0,1.0,1.0,1.0,1.0,1.0,1.0,1.0,1.0,1.0,1.0,1.0,1.0,1.0,1.0,1.0,1.0,1.0,1.0,1.0,1.0,1.0,1.0,1.0,1.0,1.0,1.0,1.0,1.0,1.0,1.0,1.0,1.0,1.0,1.0,1.0,1.0,1.0,1.0,1.0,1.0,1.0,1.0,1.0,1.0,1.0,1.0,1.0,1.0,1.0,1.0,1.0,1.0,1.0,1.0,1.0,1.0,1.0,1.0,1.0,1.0,1.0,1.0,1.0,1.0,1.0,1.0,1.0,1.0,1.0,1.0,1.0,1.0,1.0,1.0,1.0,1.0,1.0,1.0,1.0,1.0,1.0,1.0,1.0,1.0,1.0,1.0,1.0,1.0,1.0,1.0,1.0,1.0,1.0,1.0,1.0,1.0,1.0,1.0,1.0,1.0,1.0,1.0,1.0,1.0,1.0,1.0,1.0,1.0,1.0,1.0,1.0,1.0,1.0,1.0,1.0,1.0,1.0,1.0,1.0,1.0,1.0,1.0,1.0,1.0,1.0,1.0,1.0,1.0,1.0,1.0,1.0,1.0,1.0,1.0,1.0,1.0,1.0,1.0,1.0,1.0,1.0,1.0,1.0,1.0,1.0,1.0,1.0,1.0,1.0,1.0,1.0,1.0,1.0,1.0,1.0,1.0,1.0,1.0,1.0,1.0,1.0,1.0,1.0,1.0,1.0,0.0,0.0,0.0,1.0,1.0,1.0,1.0,1.0,1.0,1.0,1.0,1.0,1.0,1.0,1.0,1.0,1.0,1.0,1.0,1.0,0.0,1.0,0.0,1.0,0.0,0.0,0.0,0.0,0.0,0.0,0.0,0.0,0.0,0.0,0.0,0.0,0.0,0.0,0.0,0.0,0.0,0.0,1.0,0.0,1.0,1.0,1.0,1.0,1.0,0.0,1.0,1.0,1.0,1.0,1.0,1.0,1.0,1.0,1.0,1.0,0.0,1.0,0.0,0.0,0.0,1.0,1.0,1.0,1.0,1.0,1.0,1.0,0.0,0.0,0.0,0.0,0.0,0.0,0.0,0.0,0.0,0.0,0.0,0.0,0.0,0.0,0.0,0.0,0.0,0.0,0.0,0.0,0.0,1.0,1.0,1.0,1.0,1.0,0.0,0.0,1.0,0.0,1.0,0.0,0.0,0.0,0.0,0.0,0.0,0.0,0.0,0.0,0.0,0.0,0.0,0.0,0.0,0.0,0.0,0.0,0.0,0.0,0.0,0.0,0.0,0.0,0.0,0.0,0.0,0.0,0.0,0.0,0.0,0.0,0.0,0.0,0.0,0.0,0.0,0.0,0.0,0.0,0.0,0.0,0.0,0.0,0.0,0.0,0.0,0.0,0.0,0.0,0.0,0.0,0.0,0.0,0.0,0.0,0.0,0.0,0.0,0.0,0.0,0.0,0.0,0.0,0.0,0.0,0.0,0.0,0.0,0.0,0.0,0.0,0.0,0.0,0.0,0.0,0.0,0.0,0.0,0.0,0.0,0.0,0.0,0.0,0.0,0.0,0.0,0.0,0.0,0.0,0.0,0.0,0.0,0.0,0.0,0.0,0.0,0.0,0.0,0.0,0.0,1.0,1.0,1.0,1.0,1.0,1.0,1.0,1.0,1.0,1.0,1.0,0.0,0.0,1.0,0.0,0.0,0.0,0.0,1.0,1.0,1.0,1.0,1.0,1.0,1.0,1.0,1.0,1.0,1.0,1.0,1.0,1.0,1.0,1.0,1.0,1.0,1.0,1.0,1.0,1.0,1.0,1.0,1.0,1.0,1.0,0.0,1.0,0.0,0.0,0.0,0.0,1.0,1.0,0.0,0.0,0.0,0.0,1.0,1.0,0.0,0.0,0.0,1.0,1.0,1.0,1.0,1.0,1.0,1.0,1.0,1.0,1.0,1.0,1.0,1.0,1.0,1.0,1.0,1.0,1.0,1.0,1.0,1.0,1.0,1.0,1.0,1.0,1.0,1.0,1.0,1.0,1.0,1.0,1.0,1.0,1.0,1.0,1.0,1.0,1.0,1.0,1.0,1.0,1.0,1.0,1.0,1.0,1.0,1.0,1.0,1.0,1.0,1.0,1.0,1.0,1.0,1.0,1.0,1.0,1.0,1.0,1.0,1.0,1.0,1.0,1.0,1.0,1.0,1.0,1.0,1.0,1.0,1.0,1.0,1.0,1.0,1.0,1.0,1.0,1.0,1.0,1.0,1.0,1.0,1.0,1.0,1.0,1.0,1.0,1.0,1.0,1.0,1.0,1.0,1.0,1.0,1.0,1.0,1.0,1.0,1.0,1.0,0.0,0.0,0.0,0.0,1.0,0.0,0.0,1.0,1.0,0.0,1.0,1.0,1.0,1.0,1.0,1.0,1.0,1.0,1.0,1.0,1.0,0.0,1.0,1.0,1.0,1.0,1.0,1.0,1.0,1.0,0.0,1.0,1.0,1.0,1.0,1.0,1.0,1.0,1.0,1.0,1.0,1.0,1.0,0.0,0.0,0.0,0.0,0.0,0.0,0.0,1.0,0.0,1.0,1.0,0.0,0.0,0.0,0.0,0.0,0.0,0.0,1.0,1.0,1.0,0.0],\"xaxis\":\"x\",\"y\":[\"Real\",\"Real\",\"Real\",\"Real\",\"Real\",\"Real\",\"Real\",\"Real\",\"Real\",\"Real\",\"Real\",\"Real\",\"Real\",\"Real\",\"Real\",\"Real\",\"Real\",\"Real\",\"Real\",\"Real\",\"Real\",\"Real\",\"Real\",\"Real\",\"Real\",\"Real\",\"Real\",\"Real\",\"Real\",\"Real\",\"Real\",\"Real\",\"Real\",\"Fake\",\"Fake\",\"Fake\",\"Fake\",\"Fake\",\"Fake\",\"Fake\",\"Fake\",\"Fake\",\"Fake\",\"Fake\",\"Fake\",\"Fake\",\"Fake\",\"Fake\",\"Fake\",\"Fake\",\"Fake\",\"Fake\",\"Fake\",\"Fake\",\"Fake\",\"Fake\",\"Fake\",\"Fake\",\"Fake\",\"Fake\",\"Fake\",\"Fake\",\"Fake\",\"Fake\",\"Fake\",\"Fake\",\"Fake\",\"Fake\",\"Fake\",\"Fake\",\"Fake\",\"Fake\",\"Fake\",\"Fake\",\"Fake\",\"Fake\",\"Fake\",\"Fake\",\"Fake\",\"Fake\",\"Fake\",\"Fake\",\"Fake\",\"Fake\",\"Fake\",\"Fake\",\"Fake\",\"Fake\",\"Fake\",\"Fake\",\"Fake\",\"Fake\",\"Fake\",\"Fake\",\"Fake\",\"Fake\",\"Fake\",\"Fake\",\"Fake\",\"Fake\",\"Fake\",\"Fake\",\"Fake\",\"Fake\",\"Fake\",\"Fake\",\"Fake\",\"Fake\",\"Fake\",\"Fake\",\"Fake\",\"Fake\",\"Fake\",\"Fake\",\"Fake\",\"Fake\",\"Fake\",\"Fake\",\"Fake\",\"Fake\",\"Fake\",\"Fake\",\"Fake\",\"Fake\",\"Fake\",\"Fake\",\"Fake\",\"Fake\",\"Fake\",\"Fake\",\"Fake\",\"Fake\",\"Fake\",\"Fake\",\"Fake\",\"Fake\",\"Fake\",\"Fake\",\"Fake\",\"Fake\",\"Fake\",\"Fake\",\"Fake\",\"Fake\",\"Fake\",\"Fake\",\"Fake\",\"Fake\",\"Fake\",\"Fake\",\"Fake\",\"Fake\",\"Fake\",\"Fake\",\"Fake\",\"Fake\",\"Fake\",\"Fake\",\"Fake\",\"Fake\",\"Fake\",\"Fake\",\"Fake\",\"Fake\",\"Fake\",\"Fake\",\"Fake\",\"Fake\",\"Fake\",\"Fake\",\"Fake\",\"Fake\",\"Fake\",\"Fake\",\"Fake\",\"Fake\",\"Fake\",\"Fake\",\"Fake\",\"Fake\",\"Fake\",\"Fake\",\"Fake\",\"Fake\",\"Fake\",\"Fake\",\"Fake\",\"Fake\",\"Fake\",\"Fake\",\"Fake\",\"Fake\",\"Fake\",\"Fake\",\"Fake\",\"Fake\",\"Fake\",\"Fake\",\"Fake\",\"Fake\",\"Fake\",\"Fake\",\"Fake\",\"Fake\",\"Fake\",\"Fake\",\"Fake\",\"Fake\",\"Fake\",\"Fake\",\"Fake\",\"Fake\",\"Fake\",\"Fake\",\"Fake\",\"Fake\",\"Fake\",\"Fake\",\"Fake\",\"Fake\",\"Fake\",\"Fake\",\"Fake\",\"Fake\",\"Fake\",\"Fake\",\"Fake\",\"Fake\",\"Fake\",\"Fake\",\"Fake\",\"Fake\",\"Fake\",\"Fake\",\"Fake\",\"Fake\",\"Fake\",\"Fake\",\"Fake\",\"Fake\",\"Fake\",\"Fake\",\"Fake\",\"Fake\",\"Fake\",\"Fake\",\"Fake\",\"Fake\",\"Fake\",\"Fake\",\"Fake\",\"Fake\",\"Fake\",\"Fake\",\"Fake\",\"Fake\",\"Fake\",\"Fake\",\"Fake\",\"Fake\",\"Fake\",\"Fake\",\"Fake\",\"Fake\",\"Fake\",\"Fake\",\"Fake\",\"Fake\",\"Fake\",\"Fake\",\"Fake\",\"Fake\",\"Fake\",\"Fake\",\"Fake\",\"Fake\",\"Fake\",\"Fake\",\"Fake\",\"Fake\",\"Fake\",\"Fake\",\"Fake\",\"Fake\",\"Fake\",\"Fake\",\"Fake\",\"Fake\",\"Fake\",\"Fake\",\"Fake\",\"Fake\",\"Fake\",\"Fake\",\"Real\",\"Real\",\"Real\",\"Real\",\"Real\",\"Real\",\"Real\",\"Real\",\"Real\",\"Real\",\"Real\",\"Real\",\"Real\",\"Real\",\"Real\",\"Real\",\"Real\",\"Real\",\"Real\",\"Real\",\"Fake\",\"Fake\",\"Fake\",\"Fake\",\"Fake\",\"Fake\",\"Fake\",\"Fake\",\"Fake\",\"Fake\",\"Fake\",\"Fake\",\"Fake\",\"Fake\",\"Fake\",\"Fake\",\"Fake\",\"Fake\",\"Fake\",\"Fake\",\"Fake\",\"Fake\",\"Fake\",\"Fake\",\"Fake\",\"Fake\",\"Fake\",\"Fake\",\"Fake\",\"Fake\",\"Fake\",\"Fake\",\"Fake\",\"Fake\",\"Fake\",\"Fake\",\"Fake\",\"Fake\",\"Fake\",\"Fake\",\"Fake\",\"Fake\",\"Fake\",\"Fake\",\"Fake\",\"Fake\",\"Fake\",\"Fake\",\"Fake\",\"Fake\",\"Fake\",\"Fake\",\"Fake\",\"Fake\",\"Fake\",\"Fake\",\"Fake\",\"Fake\",\"Fake\",\"Fake\",\"Fake\",\"Fake\",\"Fake\",\"Fake\",\"Fake\",\"Fake\",\"Fake\",\"Fake\",\"Fake\",\"Fake\",\"Fake\",\"Fake\",\"Fake\",\"Fake\",\"Fake\",\"Fake\",\"Fake\",\"Fake\",\"Fake\",\"Fake\",\"Fake\",\"Fake\",\"Fake\",\"Fake\",\"Fake\",\"Fake\",\"Fake\",\"Fake\",\"Fake\",\"Fake\",\"Fake\",\"Fake\",\"Fake\",\"Fake\",\"Fake\",\"Fake\",\"Fake\",\"Fake\",\"Fake\",\"Fake\",\"Fake\",\"Fake\",\"Fake\",\"Fake\",\"Fake\",\"Fake\",\"Fake\",\"Fake\",\"Fake\",\"Fake\",\"Fake\",\"Fake\",\"Fake\",\"Fake\",\"Fake\",\"Fake\",\"Fake\",\"Fake\",\"Fake\",\"Fake\",\"Fake\",\"Fake\",\"Fake\",\"Fake\",\"Fake\",\"Fake\",\"Fake\",\"Fake\",\"Fake\",\"Fake\",\"Fake\",\"Fake\",\"Fake\",\"Fake\",\"Fake\",\"Fake\",\"Fake\",\"Fake\",\"Fake\",\"Fake\",\"Fake\",\"Fake\",\"Fake\",\"Fake\",\"Fake\",\"Fake\",\"Fake\",\"Fake\",\"Fake\",\"Fake\",\"Fake\",\"Fake\",\"Fake\",\"Fake\",\"Fake\",\"Fake\",\"Fake\",\"Fake\",\"Fake\",\"Fake\",\"Fake\",\"Fake\",\"Fake\",\"Fake\",\"Fake\",\"Fake\",\"Fake\",\"Fake\",\"Fake\",\"Fake\",\"Fake\",\"Fake\",\"Fake\",\"Fake\",\"Fake\",\"Fake\",\"Fake\",\"Fake\",\"Fake\",\"Fake\",\"Fake\",\"Fake\",\"Fake\",\"Fake\",\"Fake\",\"Fake\",\"Fake\",\"Fake\",\"Fake\",\"Fake\",\"Fake\",\"Fake\",\"Fake\",\"Fake\",\"Fake\",\"Fake\",\"Fake\",\"Fake\",\"Fake\",\"Fake\",\"Fake\",\"Fake\",\"Fake\",\"Fake\",\"Fake\",\"Fake\",\"Fake\",\"Fake\",\"Fake\",\"Fake\",\"Fake\",\"Fake\",\"Fake\",\"Fake\",\"Fake\",\"Fake\",\"Fake\",\"Fake\",\"Fake\",\"Fake\",\"Fake\",\"Fake\",\"Fake\",\"Fake\",\"Fake\",\"Fake\",\"Fake\",\"Fake\",\"Fake\",\"Fake\",\"Fake\",\"Fake\",\"Fake\",\"Fake\",\"Fake\",\"Fake\",\"Fake\",\"Fake\",\"Fake\",\"Fake\",\"Fake\",\"Fake\",\"Fake\",\"Fake\",\"Fake\",\"Fake\",\"Fake\",\"Fake\",\"Fake\",\"Fake\",\"Fake\",\"Fake\",\"Fake\",\"Fake\",\"Fake\",\"Fake\",\"Fake\",\"Fake\",\"Fake\",\"Fake\",\"Fake\",\"Fake\",\"Fake\",\"Fake\",\"Fake\",\"Fake\",\"Fake\",\"Fake\",\"Fake\",\"Fake\",\"Fake\",\"Fake\",\"Fake\",\"Fake\",\"Fake\",\"Fake\",\"Fake\",\"Fake\",\"Fake\",\"Fake\",\"Fake\",\"Fake\",\"Fake\",\"Fake\",\"Fake\",\"Fake\",\"Fake\",\"Fake\",\"Fake\",\"Fake\",\"Fake\",\"Fake\",\"Fake\",\"Fake\",\"Fake\",\"Fake\",\"Fake\",\"Fake\",\"Fake\",\"Fake\",\"Fake\",\"Fake\",\"Fake\",\"Fake\",\"Fake\",\"Fake\",\"Fake\",\"Fake\",\"Fake\",\"Fake\",\"Fake\",\"Fake\",\"Fake\",\"Fake\",\"Fake\",\"Fake\",\"Fake\",\"Fake\",\"Fake\",\"Fake\",\"Fake\",\"Fake\",\"Fake\",\"Fake\",\"Fake\",\"Fake\",\"Fake\",\"Fake\",\"Fake\",\"Fake\",\"Fake\",\"Fake\",\"Fake\",\"Fake\",\"Fake\",\"Fake\",\"Fake\",\"Fake\",\"Fake\",\"Fake\",\"Fake\",\"Fake\",\"Fake\",\"Fake\",\"Fake\",\"Fake\",\"Fake\",\"Fake\",\"Fake\",\"Fake\",\"Fake\",\"Fake\",\"Fake\",\"Fake\",\"Fake\",\"Fake\",\"Fake\",\"Fake\",\"Fake\",\"Fake\",\"Fake\",\"Fake\",\"Fake\",\"Fake\",\"Fake\",\"Fake\",\"Fake\",\"Fake\",\"Fake\",\"Fake\",\"Fake\",\"Fake\",\"Fake\",\"Fake\",\"Fake\",\"Fake\",\"Fake\",\"Fake\",\"Fake\",\"Fake\",\"Fake\",\"Fake\",\"Fake\",\"Fake\",\"Fake\",\"Fake\",\"Fake\",\"Fake\",\"Fake\",\"Fake\",\"Fake\",\"Fake\",\"Fake\",\"Fake\",\"Fake\",\"Fake\",\"Fake\",\"Fake\",\"Fake\",\"Fake\",\"Fake\",\"Fake\",\"Fake\",\"Fake\",\"Fake\",\"Fake\",\"Fake\",\"Fake\",\"Fake\",\"Real\",\"Real\",\"Real\",\"Real\",\"Real\",\"Real\",\"Real\",\"Real\",\"Real\",\"Real\",\"Real\",\"Real\",\"Real\",\"Real\",\"Real\",\"Real\",\"Real\",\"Real\",\"Real\",\"Real\",\"Real\",\"Real\",\"Real\",\"Real\",\"Real\",\"Real\",\"Real\",\"Real\",\"Real\",\"Real\",\"Real\",\"Real\",\"Real\",\"Real\",\"Real\",\"Real\",\"Real\",\"Real\",\"Real\",\"Real\",\"Real\",\"Real\",\"Real\",\"Real\",\"Real\",\"Real\",\"Real\",\"Real\",\"Real\",\"Real\",\"Real\",\"Real\",\"Real\",\"Real\",\"Real\",\"Real\",\"Real\",\"Real\",\"Real\",\"Real\",\"Real\",\"Real\",\"Real\",\"Real\",\"Real\",\"Real\",\"Real\",\"Real\",\"Real\",\"Real\",\"Real\",\"Real\",\"Real\",\"Real\",\"Real\",\"Real\",\"Real\",\"Real\",\"Real\",\"Real\",\"Real\",\"Fake\",\"Fake\",\"Fake\",\"Fake\",\"Fake\",\"Fake\",\"Fake\",\"Fake\",\"Fake\",\"Real\",\"Real\",\"Real\",\"Real\",\"Real\",\"Real\",\"Real\",\"Real\",\"Real\",\"Real\",\"Real\",\"Real\",\"Real\",\"Real\",\"Real\",\"Real\",\"Real\",\"Real\",\"Real\",\"Real\",\"Real\",\"Real\",\"Real\",\"Real\",\"Real\",\"Real\",\"Real\",\"Real\",\"Real\",\"Real\",\"Real\",\"Real\",\"Real\",\"Real\",\"Real\",\"Real\",\"Real\",\"Real\",\"Real\",\"Real\",\"Real\",\"Real\",\"Real\",\"Real\",\"Fake\",\"Fake\",\"Fake\",\"Fake\",\"Fake\",\"Fake\",\"Fake\",\"Fake\",\"Fake\",\"Fake\",\"Fake\",\"Fake\",\"Fake\",\"Fake\",\"Fake\",\"Fake\",\"Fake\",\"Fake\",\"Fake\",\"Fake\",\"Fake\",\"Fake\",\"Fake\",\"Fake\",\"Fake\",\"Fake\",\"Fake\",\"Fake\",\"Fake\",\"Fake\",\"Fake\",\"Fake\",\"Fake\",\"Fake\",\"Fake\",\"Fake\",\"Fake\",\"Fake\",\"Fake\",\"Fake\",\"Fake\",\"Fake\",\"Fake\",\"Fake\",\"Fake\",\"Fake\",\"Fake\",\"Fake\",\"Fake\",\"Fake\",\"Fake\",\"Fake\",\"Fake\",\"Fake\",\"Fake\",\"Fake\",\"Fake\",\"Fake\",\"Fake\",\"Fake\",\"Fake\",\"Fake\",\"Fake\",\"Fake\",\"Fake\",\"Fake\",\"Fake\",\"Fake\",\"Fake\",\"Fake\",\"Fake\",\"Fake\",\"Fake\",\"Fake\",\"Fake\",\"Fake\",\"Fake\",\"Fake\",\"Fake\",\"Fake\",\"Fake\",\"Fake\",\"Fake\",\"Fake\",\"Fake\",\"Fake\",\"Fake\",\"Fake\",\"Fake\",\"Fake\",\"Fake\",\"Fake\",\"Fake\",\"Fake\",\"Fake\",\"Fake\",\"Fake\",\"Fake\",\"Fake\",\"Fake\",\"Fake\",\"Fake\",\"Fake\",\"Fake\",\"Fake\",\"Fake\",\"Fake\",\"Fake\",\"Fake\",\"Fake\",\"Fake\",\"Fake\",\"Fake\",\"Fake\",\"Fake\",\"Fake\",\"Fake\",\"Fake\",\"Fake\",\"Fake\",\"Fake\",\"Fake\",\"Fake\",\"Fake\",\"Fake\",\"Fake\",\"Fake\",\"Fake\",\"Fake\",\"Fake\",\"Fake\",\"Fake\",\"Fake\",\"Fake\",\"Fake\",\"Fake\",\"Fake\",\"Fake\",\"Fake\",\"Fake\",\"Fake\",\"Fake\",\"Fake\",\"Fake\",\"Fake\",\"Fake\",\"Fake\",\"Fake\",\"Fake\",\"Fake\",\"Fake\",\"Fake\",\"Fake\",\"Fake\",\"Fake\",\"Fake\",\"Fake\",\"Fake\",\"Fake\",\"Fake\",\"Fake\",\"Fake\",\"Fake\",\"Fake\",\"Fake\",\"Fake\",\"Fake\",\"Fake\",\"Fake\",\"Fake\",\"Fake\",\"Fake\",\"Fake\",\"Fake\",\"Fake\",\"Fake\",\"Fake\",\"Fake\",\"Real\",\"Real\",\"Real\",\"Real\",\"Real\",\"Real\",\"Real\",\"Real\",\"Real\",\"Real\",\"Real\",\"Real\",\"Real\",\"Real\",\"Real\",\"Real\",\"Real\",\"Real\",\"Real\",\"Real\",\"Real\",\"Real\",\"Real\",\"Real\",\"Real\",\"Real\",\"Real\",\"Real\",\"Real\",\"Real\",\"Real\",\"Real\",\"Real\",\"Real\",\"Real\",\"Real\",\"Real\",\"Real\",\"Real\",\"Real\",\"Real\",\"Real\",\"Real\",\"Real\",\"Real\",\"Real\",\"Real\",\"Real\",\"Real\",\"Real\",\"Real\",\"Real\",\"Real\",\"Real\",\"Real\",\"Real\",\"Real\",\"Real\",\"Real\",\"Real\",\"Real\",\"Real\",\"Real\",\"Real\",\"Real\",\"Real\",\"Real\",\"Real\",\"Real\",\"Real\",\"Real\",\"Real\",\"Real\",\"Real\",\"Real\",\"Real\",\"Real\",\"Real\",\"Real\",\"Real\",\"Real\",\"Real\",\"Real\",\"Real\",\"Real\",\"Real\",\"Real\",\"Real\",\"Real\",\"Real\",\"Real\",\"Real\",\"Real\",\"Real\",\"Real\",\"Real\",\"Real\",\"Real\",\"Real\",\"Real\",\"Fake\",\"Fake\",\"Fake\",\"Fake\",\"Fake\",\"Fake\",\"Fake\",\"Fake\",\"Fake\",\"Fake\",\"Fake\",\"Fake\",\"Fake\",\"Fake\",\"Fake\",\"Fake\",\"Fake\",\"Fake\",\"Fake\",\"Fake\",\"Fake\",\"Fake\",\"Fake\",\"Fake\",\"Fake\",\"Fake\",\"Fake\",\"Fake\",\"Fake\",\"Fake\",\"Fake\",\"Fake\",\"Fake\",\"Fake\",\"Fake\",\"Fake\",\"Fake\",\"Fake\",\"Fake\",\"Fake\",\"Fake\",\"Fake\",\"Fake\",\"Fake\",\"Fake\",\"Fake\",\"Fake\",\"Fake\",\"Fake\",\"Fake\",\"Fake\",\"Fake\",\"Fake\",\"Fake\",\"Fake\",\"Fake\",\"Fake\",\"Fake\",\"Fake\",\"Fake\",\"Fake\",\"Fake\",\"Fake\",\"Fake\",\"Fake\",\"Fake\",\"Fake\",\"Fake\",\"Fake\",\"Fake\",\"Fake\",\"Fake\",\"Fake\",\"Fake\",\"Fake\",\"Fake\",\"Fake\",\"Fake\",\"Fake\",\"Fake\",\"Fake\",\"Fake\",\"Fake\",\"Fake\",\"Fake\",\"Fake\",\"Fake\",\"Fake\",\"Fake\",\"Fake\",\"Fake\",\"Fake\",\"Fake\",\"Fake\",\"Fake\",\"Fake\",\"Fake\",\"Fake\",\"Fake\",\"Fake\",\"Fake\",\"Fake\",\"Fake\",\"Fake\",\"Fake\",\"Fake\",\"Fake\",\"Fake\",\"Fake\",\"Fake\",\"Fake\",\"Fake\",\"Fake\",\"Fake\",\"Fake\",\"Fake\",\"Fake\",\"Fake\",\"Fake\",\"Fake\",\"Fake\",\"Fake\",\"Fake\",\"Fake\",\"Fake\",\"Fake\",\"Fake\",\"Fake\",\"Fake\",\"Fake\",\"Fake\",\"Fake\",\"Fake\",\"Fake\",\"Fake\",\"Fake\",\"Fake\",\"Fake\",\"Fake\",\"Fake\",\"Fake\",\"Fake\",\"Fake\",\"Fake\",\"Fake\",\"Fake\",\"Fake\",\"Fake\",\"Fake\",\"Fake\",\"Fake\",\"Fake\",\"Fake\",\"Fake\",\"Fake\",\"Fake\",\"Fake\",\"Fake\",\"Fake\",\"Fake\",\"Fake\",\"Fake\",\"Fake\",\"Fake\",\"Fake\",\"Fake\",\"Fake\",\"Fake\",\"Fake\",\"Fake\",\"Fake\",\"Fake\",\"Fake\",\"Fake\",\"Fake\",\"Fake\",\"Fake\",\"Fake\",\"Fake\",\"Fake\",\"Fake\",\"Fake\",\"Fake\",\"Fake\",\"Fake\",\"Fake\",\"Fake\",\"Fake\",\"Fake\",\"Fake\",\"Fake\",\"Fake\",\"Fake\",\"Fake\",\"Fake\",\"Fake\",\"Fake\",\"Fake\",\"Fake\",\"Fake\",\"Fake\",\"Fake\",\"Fake\",\"Fake\",\"Fake\",\"Fake\",\"Fake\",\"Fake\",\"Fake\",\"Fake\",\"Fake\",\"Fake\",\"Fake\",\"Fake\",\"Fake\",\"Fake\",\"Fake\",\"Fake\",\"Fake\",\"Fake\",\"Fake\",\"Fake\",\"Fake\",\"Fake\",\"Fake\",\"Fake\",\"Fake\",\"Fake\",\"Fake\",\"Fake\",\"Fake\",\"Fake\",\"Fake\",\"Fake\",\"Fake\",\"Fake\",\"Fake\",\"Fake\",\"Fake\",\"Fake\",\"Fake\",\"Fake\",\"Fake\",\"Fake\",\"Fake\",\"Fake\",\"Fake\",\"Fake\",\"Fake\",\"Fake\",\"Fake\",\"Fake\",\"Fake\",\"Fake\",\"Fake\",\"Fake\",\"Fake\",\"Fake\",\"Fake\",\"Real\",\"Real\",\"Real\",\"Real\",\"Real\",\"Real\",\"Real\",\"Real\",\"Real\",\"Real\",\"Real\",\"Real\",\"Real\",\"Real\",\"Real\",\"Real\",\"Real\",\"Real\",\"Real\",\"Real\",\"Real\",\"Real\",\"Real\",\"Real\",\"Real\",\"Real\",\"Real\",\"Real\",\"Real\",\"Real\",\"Real\",\"Real\",\"Real\",\"Real\",\"Real\",\"Real\",\"Real\",\"Real\",\"Real\",\"Real\",\"Real\",\"Real\",\"Real\",\"Real\",\"Real\",\"Real\",\"Real\",\"Real\",\"Real\",\"Real\",\"Real\",\"Real\",\"Real\",\"Real\",\"Real\",\"Real\",\"Real\",\"Real\",\"Real\",\"Real\",\"Real\",\"Real\",\"Real\",\"Real\",\"Real\",\"Real\",\"Real\",\"Real\",\"Real\",\"Real\",\"Real\",\"Real\",\"Real\",\"Real\",\"Real\",\"Real\",\"Real\",\"Real\",\"Real\",\"Real\",\"Real\",\"Real\",\"Real\",\"Real\",\"Real\",\"Real\",\"Real\",\"Real\",\"Real\",\"Real\",\"Real\",\"Real\",\"Real\",\"Real\",\"Real\",\"Real\",\"Real\",\"Real\",\"Real\",\"Real\",\"Real\",\"Real\",\"Real\",\"Real\",\"Real\",\"Real\",\"Real\",\"Real\",\"Real\",\"Real\",\"Real\",\"Real\",\"Real\",\"Real\",\"Real\",\"Real\",\"Real\",\"Real\",\"Real\",\"Real\",\"Real\",\"Real\",\"Real\",\"Real\",\"Real\",\"Real\",\"Real\",\"Real\",\"Real\",\"Real\",\"Real\",\"Real\",\"Real\",\"Real\",\"Real\",\"Real\",\"Real\",\"Real\",\"Real\",\"Real\",\"Real\",\"Real\",\"Real\",\"Real\",\"Real\",\"Real\",\"Real\",\"Real\",\"Real\",\"Real\",\"Real\",\"Real\",\"Real\",\"Real\",\"Real\",\"Real\",\"Real\",\"Real\",\"Real\",\"Real\",\"Real\",\"Real\",\"Real\",\"Real\",\"Real\",\"Real\",\"Real\",\"Real\",\"Real\",\"Real\",\"Real\",\"Real\",\"Real\",\"Real\",\"Real\",\"Real\",\"Real\",\"Real\",\"Real\",\"Real\",\"Real\",\"Real\",\"Real\",\"Real\",\"Real\",\"Real\",\"Real\",\"Real\",\"Real\",\"Real\",\"Real\",\"Real\",\"Real\",\"Real\",\"Real\",\"Real\",\"Real\",\"Real\",\"Real\",\"Real\",\"Real\",\"Real\",\"Real\",\"Real\",\"Real\",\"Real\",\"Real\",\"Real\",\"Real\",\"Real\",\"Real\",\"Real\",\"Real\",\"Real\",\"Real\",\"Real\",\"Real\",\"Real\",\"Real\",\"Real\",\"Real\",\"Fake\",\"Fake\",\"Fake\",\"Fake\",\"Fake\",\"Fake\",\"Fake\",\"Fake\",\"Fake\",\"Fake\",\"Fake\",\"Fake\",\"Fake\",\"Fake\",\"Fake\",\"Fake\",\"Fake\",\"Fake\",\"Fake\",\"Fake\",\"Fake\",\"Fake\",\"Fake\",\"Fake\",\"Fake\",\"Fake\",\"Fake\",\"Fake\",\"Fake\",\"Fake\",\"Fake\",\"Fake\",\"Fake\",\"Fake\",\"Fake\",\"Fake\",\"Fake\",\"Fake\",\"Fake\",\"Fake\",\"Fake\",\"Fake\",\"Fake\",\"Fake\",\"Fake\",\"Fake\",\"Fake\",\"Fake\",\"Fake\",\"Fake\",\"Fake\",\"Fake\",\"Fake\",\"Fake\",\"Fake\",\"Fake\",\"Fake\",\"Fake\",\"Fake\",\"Fake\",\"Fake\",\"Fake\",\"Fake\",\"Fake\",\"Fake\",\"Fake\",\"Fake\",\"Fake\",\"Fake\",\"Fake\",\"Fake\",\"Fake\",\"Fake\",\"Fake\",\"Fake\",\"Fake\",\"Fake\",\"Fake\",\"Fake\",\"Fake\",\"Fake\",\"Fake\",\"Fake\",\"Fake\",\"Fake\",\"Fake\",\"Fake\",\"Fake\",\"Fake\",\"Fake\",\"Fake\",\"Fake\",\"Fake\",\"Fake\",\"Fake\",\"Fake\",\"Fake\",\"Fake\",\"Fake\",\"Fake\",\"Real\",\"Fake\",\"Real\",\"Real\",\"Real\",\"Real\",\"Real\",\"Real\",\"Real\",\"Real\",\"Real\",\"Real\",\"Real\",\"Real\",\"Real\",\"Real\",\"Real\",\"Real\",\"Real\",\"Real\",\"Real\",\"Real\",\"Real\",\"Real\",\"Real\",\"Real\",\"Real\",\"Real\",\"Real\",\"Real\",\"Real\",\"Real\",\"Real\",\"Real\",\"Real\",\"Real\",\"Real\",\"Real\",\"Real\",\"Real\",\"Real\",\"Real\",\"Real\",\"Real\",\"Real\",\"Real\",\"Real\",\"Real\",\"Real\",\"Real\",\"Real\",\"Real\",\"Real\",\"Real\",\"Real\",\"Real\",\"Real\",\"Real\",\"Real\",\"Real\",\"Real\",\"Real\",\"Real\",\"Real\",\"Real\",\"Real\",\"Real\",\"Real\",\"Real\",\"Real\",\"Real\",\"Real\",\"Real\",\"Real\",\"Real\",\"Real\",\"Real\",\"Real\",\"Real\",\"Real\",\"Real\",\"Real\",\"Real\",\"Real\",\"Real\",\"Real\",\"Real\",\"Real\",\"Real\",\"Real\",\"Real\",\"Real\",\"Real\",\"Real\",\"Real\",\"Real\",\"Real\",\"Real\",\"Real\",\"Real\",\"Real\",\"Real\",\"Real\",\"Fake\",\"Fake\",\"Fake\",\"Fake\",\"Fake\",\"Fake\",\"Fake\",\"Fake\",\"Fake\",\"Fake\",\"Fake\",\"Fake\",\"Fake\",\"Fake\",\"Fake\",\"Fake\",\"Fake\",\"Fake\",\"Fake\",\"Fake\",\"Fake\",\"Fake\",\"Fake\",\"Fake\",\"Fake\",\"Fake\",\"Fake\",\"Fake\",\"Fake\",\"Fake\",\"Fake\",\"Fake\",\"Fake\",\"Fake\",\"Fake\",\"Fake\",\"Fake\",\"Fake\",\"Fake\",\"Fake\",\"Fake\",\"Fake\",\"Fake\",\"Fake\",\"Fake\",\"Fake\",\"Fake\",\"Fake\",\"Fake\",\"Fake\",\"Fake\",\"Fake\",\"Fake\",\"Fake\",\"Fake\",\"Fake\",\"Fake\",\"Fake\",\"Fake\",\"Fake\",\"Fake\",\"Fake\",\"Real\",\"Real\",\"Real\",\"Real\",\"Real\",\"Real\",\"Real\",\"Real\",\"Real\",\"Real\",\"Real\",\"Real\",\"Real\",\"Real\",\"Real\",\"Real\",\"Real\",\"Real\",\"Real\",\"Real\",\"Real\",\"Real\",\"Real\",\"Real\",\"Real\",\"Real\",\"Real\",\"Real\",\"Real\",\"Real\",\"Real\",\"Real\",\"Real\",\"Real\",\"Real\",\"Real\",\"Real\",\"Real\",\"Real\",\"Real\",\"Real\",\"Real\",\"Real\",\"Real\",\"Real\",\"Real\",\"Real\",\"Real\",\"Real\",\"Real\",\"Real\",\"Real\",\"Real\",\"Real\",\"Real\",\"Real\",\"Real\",\"Real\",\"Real\",\"Real\",\"Real\",\"Real\",\"Real\",\"Real\",\"Real\",\"Real\",\"Real\",\"Real\",\"Real\",\"Real\",\"Real\",\"Real\",\"Real\",\"Real\",\"Real\",\"Real\",\"Real\",\"Real\",\"Real\",\"Real\",\"Real\",\"Real\",\"Real\",\"Real\",\"Real\",\"Real\",\"Real\",\"Real\",\"Real\",\"Real\",\"Real\",\"Real\",\"Real\",\"Real\",\"Real\",\"Real\",\"Real\",\"Real\",\"Real\",\"Real\",\"Fake\",\"Fake\",\"Fake\",\"Fake\",\"Fake\",\"Fake\",\"Fake\",\"Fake\",\"Fake\",\"Fake\",\"Fake\",\"Fake\",\"Real\",\"Real\",\"Real\",\"Real\",\"Real\",\"Real\",\"Real\",\"Real\",\"Real\",\"Real\",\"Real\",\"Real\",\"Real\",\"Real\",\"Real\",\"Real\",\"Real\",\"Real\",\"Real\",\"Real\",\"Real\",\"Real\",\"Real\",\"Real\",\"Real\",\"Real\",\"Real\",\"Real\",\"Real\",\"Real\",\"Real\",\"Real\",\"Real\",\"Real\",\"Real\",\"Real\",\"Real\",\"Real\",\"Real\",\"Real\",\"Real\",\"Real\",\"Real\",\"Real\",\"Real\",\"Real\",\"Real\",\"Real\",\"Real\",\"Real\",\"Real\",\"Real\",\"Real\"],\"yaxis\":\"y\",\"type\":\"bar\"}],                        {\"template\":{\"data\":{\"bar\":[{\"error_x\":{\"color\":\"#2a3f5f\"},\"error_y\":{\"color\":\"#2a3f5f\"},\"marker\":{\"line\":{\"color\":\"#E5ECF6\",\"width\":0.5},\"pattern\":{\"fillmode\":\"overlay\",\"size\":10,\"solidity\":0.2}},\"type\":\"bar\"}],\"barpolar\":[{\"marker\":{\"line\":{\"color\":\"#E5ECF6\",\"width\":0.5},\"pattern\":{\"fillmode\":\"overlay\",\"size\":10,\"solidity\":0.2}},\"type\":\"barpolar\"}],\"carpet\":[{\"aaxis\":{\"endlinecolor\":\"#2a3f5f\",\"gridcolor\":\"white\",\"linecolor\":\"white\",\"minorgridcolor\":\"white\",\"startlinecolor\":\"#2a3f5f\"},\"baxis\":{\"endlinecolor\":\"#2a3f5f\",\"gridcolor\":\"white\",\"linecolor\":\"white\",\"minorgridcolor\":\"white\",\"startlinecolor\":\"#2a3f5f\"},\"type\":\"carpet\"}],\"choropleth\":[{\"colorbar\":{\"outlinewidth\":0,\"ticks\":\"\"},\"type\":\"choropleth\"}],\"contour\":[{\"colorbar\":{\"outlinewidth\":0,\"ticks\":\"\"},\"colorscale\":[[0.0,\"#0d0887\"],[0.1111111111111111,\"#46039f\"],[0.2222222222222222,\"#7201a8\"],[0.3333333333333333,\"#9c179e\"],[0.4444444444444444,\"#bd3786\"],[0.5555555555555556,\"#d8576b\"],[0.6666666666666666,\"#ed7953\"],[0.7777777777777778,\"#fb9f3a\"],[0.8888888888888888,\"#fdca26\"],[1.0,\"#f0f921\"]],\"type\":\"contour\"}],\"contourcarpet\":[{\"colorbar\":{\"outlinewidth\":0,\"ticks\":\"\"},\"type\":\"contourcarpet\"}],\"heatmap\":[{\"colorbar\":{\"outlinewidth\":0,\"ticks\":\"\"},\"colorscale\":[[0.0,\"#0d0887\"],[0.1111111111111111,\"#46039f\"],[0.2222222222222222,\"#7201a8\"],[0.3333333333333333,\"#9c179e\"],[0.4444444444444444,\"#bd3786\"],[0.5555555555555556,\"#d8576b\"],[0.6666666666666666,\"#ed7953\"],[0.7777777777777778,\"#fb9f3a\"],[0.8888888888888888,\"#fdca26\"],[1.0,\"#f0f921\"]],\"type\":\"heatmap\"}],\"heatmapgl\":[{\"colorbar\":{\"outlinewidth\":0,\"ticks\":\"\"},\"colorscale\":[[0.0,\"#0d0887\"],[0.1111111111111111,\"#46039f\"],[0.2222222222222222,\"#7201a8\"],[0.3333333333333333,\"#9c179e\"],[0.4444444444444444,\"#bd3786\"],[0.5555555555555556,\"#d8576b\"],[0.6666666666666666,\"#ed7953\"],[0.7777777777777778,\"#fb9f3a\"],[0.8888888888888888,\"#fdca26\"],[1.0,\"#f0f921\"]],\"type\":\"heatmapgl\"}],\"histogram\":[{\"marker\":{\"pattern\":{\"fillmode\":\"overlay\",\"size\":10,\"solidity\":0.2}},\"type\":\"histogram\"}],\"histogram2d\":[{\"colorbar\":{\"outlinewidth\":0,\"ticks\":\"\"},\"colorscale\":[[0.0,\"#0d0887\"],[0.1111111111111111,\"#46039f\"],[0.2222222222222222,\"#7201a8\"],[0.3333333333333333,\"#9c179e\"],[0.4444444444444444,\"#bd3786\"],[0.5555555555555556,\"#d8576b\"],[0.6666666666666666,\"#ed7953\"],[0.7777777777777778,\"#fb9f3a\"],[0.8888888888888888,\"#fdca26\"],[1.0,\"#f0f921\"]],\"type\":\"histogram2d\"}],\"histogram2dcontour\":[{\"colorbar\":{\"outlinewidth\":0,\"ticks\":\"\"},\"colorscale\":[[0.0,\"#0d0887\"],[0.1111111111111111,\"#46039f\"],[0.2222222222222222,\"#7201a8\"],[0.3333333333333333,\"#9c179e\"],[0.4444444444444444,\"#bd3786\"],[0.5555555555555556,\"#d8576b\"],[0.6666666666666666,\"#ed7953\"],[0.7777777777777778,\"#fb9f3a\"],[0.8888888888888888,\"#fdca26\"],[1.0,\"#f0f921\"]],\"type\":\"histogram2dcontour\"}],\"mesh3d\":[{\"colorbar\":{\"outlinewidth\":0,\"ticks\":\"\"},\"type\":\"mesh3d\"}],\"parcoords\":[{\"line\":{\"colorbar\":{\"outlinewidth\":0,\"ticks\":\"\"}},\"type\":\"parcoords\"}],\"pie\":[{\"automargin\":true,\"type\":\"pie\"}],\"scatter\":[{\"marker\":{\"colorbar\":{\"outlinewidth\":0,\"ticks\":\"\"}},\"type\":\"scatter\"}],\"scatter3d\":[{\"line\":{\"colorbar\":{\"outlinewidth\":0,\"ticks\":\"\"}},\"marker\":{\"colorbar\":{\"outlinewidth\":0,\"ticks\":\"\"}},\"type\":\"scatter3d\"}],\"scattercarpet\":[{\"marker\":{\"colorbar\":{\"outlinewidth\":0,\"ticks\":\"\"}},\"type\":\"scattercarpet\"}],\"scattergeo\":[{\"marker\":{\"colorbar\":{\"outlinewidth\":0,\"ticks\":\"\"}},\"type\":\"scattergeo\"}],\"scattergl\":[{\"marker\":{\"colorbar\":{\"outlinewidth\":0,\"ticks\":\"\"}},\"type\":\"scattergl\"}],\"scattermapbox\":[{\"marker\":{\"colorbar\":{\"outlinewidth\":0,\"ticks\":\"\"}},\"type\":\"scattermapbox\"}],\"scatterpolar\":[{\"marker\":{\"colorbar\":{\"outlinewidth\":0,\"ticks\":\"\"}},\"type\":\"scatterpolar\"}],\"scatterpolargl\":[{\"marker\":{\"colorbar\":{\"outlinewidth\":0,\"ticks\":\"\"}},\"type\":\"scatterpolargl\"}],\"scatterternary\":[{\"marker\":{\"colorbar\":{\"outlinewidth\":0,\"ticks\":\"\"}},\"type\":\"scatterternary\"}],\"surface\":[{\"colorbar\":{\"outlinewidth\":0,\"ticks\":\"\"},\"colorscale\":[[0.0,\"#0d0887\"],[0.1111111111111111,\"#46039f\"],[0.2222222222222222,\"#7201a8\"],[0.3333333333333333,\"#9c179e\"],[0.4444444444444444,\"#bd3786\"],[0.5555555555555556,\"#d8576b\"],[0.6666666666666666,\"#ed7953\"],[0.7777777777777778,\"#fb9f3a\"],[0.8888888888888888,\"#fdca26\"],[1.0,\"#f0f921\"]],\"type\":\"surface\"}],\"table\":[{\"cells\":{\"fill\":{\"color\":\"#EBF0F8\"},\"line\":{\"color\":\"white\"}},\"header\":{\"fill\":{\"color\":\"#C8D4E3\"},\"line\":{\"color\":\"white\"}},\"type\":\"table\"}]},\"layout\":{\"annotationdefaults\":{\"arrowcolor\":\"#2a3f5f\",\"arrowhead\":0,\"arrowwidth\":1},\"autotypenumbers\":\"strict\",\"coloraxis\":{\"colorbar\":{\"outlinewidth\":0,\"ticks\":\"\"}},\"colorscale\":{\"diverging\":[[0,\"#8e0152\"],[0.1,\"#c51b7d\"],[0.2,\"#de77ae\"],[0.3,\"#f1b6da\"],[0.4,\"#fde0ef\"],[0.5,\"#f7f7f7\"],[0.6,\"#e6f5d0\"],[0.7,\"#b8e186\"],[0.8,\"#7fbc41\"],[0.9,\"#4d9221\"],[1,\"#276419\"]],\"sequential\":[[0.0,\"#0d0887\"],[0.1111111111111111,\"#46039f\"],[0.2222222222222222,\"#7201a8\"],[0.3333333333333333,\"#9c179e\"],[0.4444444444444444,\"#bd3786\"],[0.5555555555555556,\"#d8576b\"],[0.6666666666666666,\"#ed7953\"],[0.7777777777777778,\"#fb9f3a\"],[0.8888888888888888,\"#fdca26\"],[1.0,\"#f0f921\"]],\"sequentialminus\":[[0.0,\"#0d0887\"],[0.1111111111111111,\"#46039f\"],[0.2222222222222222,\"#7201a8\"],[0.3333333333333333,\"#9c179e\"],[0.4444444444444444,\"#bd3786\"],[0.5555555555555556,\"#d8576b\"],[0.6666666666666666,\"#ed7953\"],[0.7777777777777778,\"#fb9f3a\"],[0.8888888888888888,\"#fdca26\"],[1.0,\"#f0f921\"]]},\"colorway\":[\"#636efa\",\"#EF553B\",\"#00cc96\",\"#ab63fa\",\"#FFA15A\",\"#19d3f3\",\"#FF6692\",\"#B6E880\",\"#FF97FF\",\"#FECB52\"],\"font\":{\"color\":\"#2a3f5f\"},\"geo\":{\"bgcolor\":\"white\",\"lakecolor\":\"white\",\"landcolor\":\"#E5ECF6\",\"showlakes\":true,\"showland\":true,\"subunitcolor\":\"white\"},\"hoverlabel\":{\"align\":\"left\"},\"hovermode\":\"closest\",\"mapbox\":{\"style\":\"light\"},\"paper_bgcolor\":\"white\",\"plot_bgcolor\":\"#E5ECF6\",\"polar\":{\"angularaxis\":{\"gridcolor\":\"white\",\"linecolor\":\"white\",\"ticks\":\"\"},\"bgcolor\":\"#E5ECF6\",\"radialaxis\":{\"gridcolor\":\"white\",\"linecolor\":\"white\",\"ticks\":\"\"}},\"scene\":{\"xaxis\":{\"backgroundcolor\":\"#E5ECF6\",\"gridcolor\":\"white\",\"gridwidth\":2,\"linecolor\":\"white\",\"showbackground\":true,\"ticks\":\"\",\"zerolinecolor\":\"white\"},\"yaxis\":{\"backgroundcolor\":\"#E5ECF6\",\"gridcolor\":\"white\",\"gridwidth\":2,\"linecolor\":\"white\",\"showbackground\":true,\"ticks\":\"\",\"zerolinecolor\":\"white\"},\"zaxis\":{\"backgroundcolor\":\"#E5ECF6\",\"gridcolor\":\"white\",\"gridwidth\":2,\"linecolor\":\"white\",\"showbackground\":true,\"ticks\":\"\",\"zerolinecolor\":\"white\"}},\"shapedefaults\":{\"line\":{\"color\":\"#2a3f5f\"}},\"ternary\":{\"aaxis\":{\"gridcolor\":\"white\",\"linecolor\":\"white\",\"ticks\":\"\"},\"baxis\":{\"gridcolor\":\"white\",\"linecolor\":\"white\",\"ticks\":\"\"},\"bgcolor\":\"#E5ECF6\",\"caxis\":{\"gridcolor\":\"white\",\"linecolor\":\"white\",\"ticks\":\"\"}},\"title\":{\"x\":0.05},\"xaxis\":{\"automargin\":true,\"gridcolor\":\"white\",\"linecolor\":\"white\",\"ticks\":\"\",\"title\":{\"standoff\":15},\"zerolinecolor\":\"white\",\"zerolinewidth\":2},\"yaxis\":{\"automargin\":true,\"gridcolor\":\"white\",\"linecolor\":\"white\",\"ticks\":\"\",\"title\":{\"standoff\":15},\"zerolinecolor\":\"white\",\"zerolinewidth\":2}}},\"xaxis\":{\"anchor\":\"y\",\"domain\":[0.0,1.0],\"title\":{\"text\":\"hasImage\"}},\"yaxis\":{\"anchor\":\"x\",\"domain\":[0.0,1.0],\"title\":{\"text\":\"label\"}},\"legend\":{\"tracegroupgap\":0},\"title\":{\"text\":\"Articles including images vs Label\"},\"barmode\":\"relative\"},                        {\"responsive\": true}                    ).then(function(){\n",
       "                            \n",
       "var gd = document.getElementById('9bb3334f-64ed-4229-bd7e-9d64c197f9bc');\n",
       "var x = new MutationObserver(function (mutations, observer) {{\n",
       "        var display = window.getComputedStyle(gd).display;\n",
       "        if (!display || display === 'none') {{\n",
       "            console.log([gd, 'removed!']);\n",
       "            Plotly.purge(gd);\n",
       "            observer.disconnect();\n",
       "        }}\n",
       "}});\n",
       "\n",
       "// Listen for the removal of the full notebook cells\n",
       "var notebookContainer = gd.closest('#notebook-container');\n",
       "if (notebookContainer) {{\n",
       "    x.observe(notebookContainer, {childList: true});\n",
       "}}\n",
       "\n",
       "// Listen for the clearing of the current output cell\n",
       "var outputEl = gd.closest('.output');\n",
       "if (outputEl) {{\n",
       "    x.observe(outputEl, {childList: true});\n",
       "}}\n",
       "\n",
       "                        })                };                });            </script>        </div>"
      ]
     },
     "metadata": {},
     "output_type": "display_data"
    }
   ],
   "source": [
    "fig = px.bar(df, x='hasImage', y='label',title='Articles including images vs Label')\n",
    "fig.show()"
   ]
  },
  {
   "cell_type": "code",
   "execution_count": 12,
   "metadata": {
    "id": "9PC9cmtRdyU1"
   },
   "outputs": [],
   "source": [
    "def convert(path):\n",
    "    return '<img src=\"'+ path + '\" width=\"80\">'\n",
    "df_sources = df[['site_url','label','main_img_url']]\n",
    "df_r = df_sources.loc[df['label']== 'Real'].iloc[6:10,:]\n",
    "df_f = df_sources.loc[df['label']== 'Fake'].head(6)"
   ]
  },
  {
   "cell_type": "code",
   "execution_count": 13,
   "metadata": {
    "id": "kgKOb0IedynE"
   },
   "outputs": [
    {
     "data": {
      "text/html": [
       "<table border=\"1\" class=\"dataframe\">\n",
       "  <thead>\n",
       "    <tr style=\"text-align: right;\">\n",
       "      <th></th>\n",
       "      <th>site_url</th>\n",
       "      <th>label</th>\n",
       "      <th>main_img_url</th>\n",
       "    </tr>\n",
       "    <tr>\n",
       "      <th>author</th>\n",
       "      <th></th>\n",
       "      <th></th>\n",
       "      <th></th>\n",
       "    </tr>\n",
       "  </thead>\n",
       "  <tbody>\n",
       "    <tr>\n",
       "      <th>Fed Up</th>\n",
       "      <td>100percentfedup.com</td>\n",
       "      <td>Real</td>\n",
       "      <td><img src=\"http://100percentfedup.com/wp-content/uploads/2016/11/hillary-looking-down.jpg\" width=\"80\"></td>\n",
       "    </tr>\n",
       "    <tr>\n",
       "      <th>Fed Up</th>\n",
       "      <td>100percentfedup.com</td>\n",
       "      <td>Real</td>\n",
       "      <td><img src=\"http://100percentfedup.com/wp-content/uploads/2016/11/snipes-dem.jpg\" width=\"80\"></td>\n",
       "    </tr>\n",
       "    <tr>\n",
       "      <th>Fed Up</th>\n",
       "      <td>100percentfedup.com</td>\n",
       "      <td>Real</td>\n",
       "      <td><img src=\"http://100percentfedup.com/wp-content/uploads/2016/05/hillary-comey.jpg\" width=\"80\"></td>\n",
       "    </tr>\n",
       "    <tr>\n",
       "      <th>Fed Up</th>\n",
       "      <td>100percentfedup.com</td>\n",
       "      <td>Real</td>\n",
       "      <td><img src=\"http://100percentfedup.com/wp-content/uploads/2016/11/TRUCK-TORCHED-HILLARY.jpg\" width=\"80\"></td>\n",
       "    </tr>\n",
       "  </tbody>\n",
       "</table>"
      ],
      "text/plain": [
       "<IPython.core.display.HTML object>"
      ]
     },
     "execution_count": 13,
     "metadata": {},
     "output_type": "execute_result"
    }
   ],
   "source": [
    "HTML(df_r.to_html(escape=False,formatters=dict(main_img_url=convert)))"
   ]
  },
  {
   "cell_type": "code",
   "execution_count": 14,
   "metadata": {
    "id": "kkdQWN16dyri"
   },
   "outputs": [
    {
     "data": {
      "text/html": [
       "<table border=\"1\" class=\"dataframe\">\n",
       "  <thead>\n",
       "    <tr style=\"text-align: right;\">\n",
       "      <th></th>\n",
       "      <th>site_url</th>\n",
       "      <th>label</th>\n",
       "      <th>main_img_url</th>\n",
       "    </tr>\n",
       "    <tr>\n",
       "      <th>author</th>\n",
       "      <th></th>\n",
       "      <th></th>\n",
       "      <th></th>\n",
       "    </tr>\n",
       "  </thead>\n",
       "  <tbody>\n",
       "    <tr>\n",
       "      <th>No Author</th>\n",
       "      <td>21stcenturywire.com</td>\n",
       "      <td>Fake</td>\n",
       "      <td><img src=\"http://21stcenturywire.com/wp-content/uploads/2016/10/1-Syria-No-Fly-Zone.png\" width=\"80\"></td>\n",
       "    </tr>\n",
       "    <tr>\n",
       "      <th>No Author</th>\n",
       "      <td>21stcenturywire.com</td>\n",
       "      <td>Fake</td>\n",
       "      <td><img src=\"http://21stcenturywire.com/wp-content/uploads/2016/10/1-FBI-Comey-Hillary-Clinton-e1477728962985.jpg\" width=\"80\"></td>\n",
       "    </tr>\n",
       "    <tr>\n",
       "      <th>Shawn Helton</th>\n",
       "      <td>21stcenturywire.com</td>\n",
       "      <td>Fake</td>\n",
       "      <td><img src=\"http://21stcenturywire.com/wp-content/uploads/2016/10/Clinton-New-FBI-Probe-21WIRE-SLIDER-New.jpg\" width=\"80\"></td>\n",
       "    </tr>\n",
       "    <tr>\n",
       "      <th>Mike Rivero</th>\n",
       "      <td>21stcenturywire.com</td>\n",
       "      <td>Fake</td>\n",
       "      <td><img src=\"http://i1.wp.com/21stcenturywire.com/wp-content/uploads/2016/10/DNC-SCANDAL-PART2-21WIRE-SLIDER-SH-1.jpg?fit=620%2C415\" width=\"80\"></td>\n",
       "    </tr>\n",
       "    <tr>\n",
       "      <th>No Author</th>\n",
       "      <td>21stcenturywire.com</td>\n",
       "      <td>Fake</td>\n",
       "      <td><img src=\"http://i0.wp.com/21stcenturywire.com/wp-content/uploads/2016/11/2-Clinton-Podesta-Email.jpg?fit=610%2C415\" width=\"80\"></td>\n",
       "    </tr>\n",
       "    <tr>\n",
       "      <th>Shawn Helton</th>\n",
       "      <td>21stcenturywire.com</td>\n",
       "      <td>Fake</td>\n",
       "      <td><img src=\"http://i2.wp.com/21stcenturywire.com/wp-content/uploads/2016/10/Clinton-Gold-21WIRE-SLIDER-SH.jpg?fit=620%2C415\" width=\"80\"></td>\n",
       "    </tr>\n",
       "  </tbody>\n",
       "</table>"
      ],
      "text/plain": [
       "<IPython.core.display.HTML object>"
      ]
     },
     "execution_count": 14,
     "metadata": {},
     "output_type": "execute_result"
    }
   ],
   "source": [
    "HTML(df_f.to_html(escape=False,formatters=dict(main_img_url=convert)))"
   ]
  },
  {
   "cell_type": "code",
   "execution_count": 15,
   "metadata": {
    "id": "UNW0oz6Sd-Na"
   },
   "outputs": [
    {
     "data": {
      "text/plain": [
       "array(['100percentfedup.com', '21stcenturywire.com', 'abcnews.com.co',\n",
       "       'abeldanger.net', 'abovetopsecret.com', 'activistpost.com',\n",
       "       'addictinginfo.org', 'adobochronicles.com', 'ahtribune.com',\n",
       "       'allnewspipeline.com', 'americannews.com',\n",
       "       'americasfreedomfighters.com', 'amren.com', 'amtvmedia.com',\n",
       "       'awdnews.com', 'barenakedislam.com', 'clickhole.com',\n",
       "       'coasttocoastam.com', 'corbettreport.com', 'countercurrents.org',\n",
       "       'counterpunch.org', 'dailywire.com', 'darkmoon.me',\n",
       "       'davidduke.com', 'davidstockmanscontracorner.com',\n",
       "       'davidwolfe.com', 'dcclothesline.com', 'defenddemocracy.press',\n",
       "       'dennismichaellynch.com', 'departed.co', 'der-postillon.com',\n",
       "       'fromthetrenchesworldreport.com', 'frontpagemag.com',\n",
       "       'galacticconnection.com', 'globalresearch.ca', 'infowars.com',\n",
       "       'intrepidreport.com', 'legorafi.fr', 'madworldnews.com',\n",
       "       'naturalnews.com', 'newstarget.com', 'politicususa.com',\n",
       "       'presstv.com', 'presstv.ir', 'prisonplanet.com',\n",
       "       'projectveritas.com', 'proudemocrat.com', 'redstatewatcher.com',\n",
       "       'returnofkings.com', 'shiftfrequency.com', 'thedailysheeple.com',\n",
       "       'theeconomiccollapseblog.com', 'thefreethoughtproject.com',\n",
       "       'themindunleashed.com', 'theonion.com', 'thepeoplescube.com',\n",
       "       'therussophile.org', 'thesaker.is', 'thetruthseeker.co.uk',\n",
       "       'theunrealtimes.com', 'topinfopost.com', 'veteranstoday.com',\n",
       "       'voltairenet.org', 'washingtonsblog.com', 'westernjournalism.com',\n",
       "       'whatreallyhappened.com', 'whydontyoutrythis.com', 'wnd.com'],\n",
       "      dtype=object)"
      ]
     },
     "execution_count": 15,
     "metadata": {},
     "output_type": "execute_result"
    }
   ],
   "source": [
    "df['site_url'].unique()"
   ]
  },
  {
   "cell_type": "code",
   "execution_count": 16,
   "metadata": {
    "id": "ribs3Yb5d-Qv"
   },
   "outputs": [],
   "source": [
    "type_label = {'Real': 0, 'Fake': 1}\n",
    "df_sources.label = [type_label[item] for item in df_sources.label] "
   ]
  },
  {
   "cell_type": "code",
   "execution_count": 17,
   "metadata": {
    "id": "A-chG8aLd-Uu"
   },
   "outputs": [],
   "source": [
    "val_real=[]\n",
    "val_fake=[]\n",
    "\n",
    "for i,row in df_sources.iterrows():\n",
    "    val = row['site_url']\n",
    "    if row['label'] == 0:\n",
    "        val_real.append(val)\n",
    "    elif row['label']== 1:\n",
    "        val_fake.append(val)"
   ]
  },
  {
   "cell_type": "code",
   "execution_count": 18,
   "metadata": {
    "id": "bq0qjlZOdywX"
   },
   "outputs": [
    {
     "name": "stdout",
     "output_type": "stream",
     "text": [
      "\u001b[33mWebsites publishing real news:\u001b[32m['100percentfedup.com', 'addictinginfo.org', 'dailywire.com', 'davidduke.com', 'fromthetrenchesworldreport.com', 'frontpagemag.com', 'newstarget.com', 'politicususa.com', 'presstv.com', 'presstv.ir', 'prisonplanet.com', 'proudemocrat.com', 'redstatewatcher.com', 'returnofkings.com', 'washingtonsblog.com', 'westernjournalism.com', 'whydontyoutrythis.com', 'wnd.com']\n",
      "\n"
     ]
    }
   ],
   "source": [
    "uniqueValues_real = list(OrderedDict.fromkeys(val_real)) \n",
    "\n",
    "print(f\"{y_}Websites publishing real news:{g_}{uniqueValues_real}\\n\")"
   ]
  },
  {
   "cell_type": "code",
   "execution_count": 19,
   "metadata": {},
   "outputs": [
    {
     "name": "stdout",
     "output_type": "stream",
     "text": [
      "\u001b[33mWebsites publishing fake news:\u001b[31m['21stcenturywire.com', 'abcnews.com.co', 'abeldanger.net', 'abovetopsecret.com', 'activistpost.com', 'adobochronicles.com', 'ahtribune.com', 'allnewspipeline.com', 'americannews.com', 'americasfreedomfighters.com', 'amren.com', 'amtvmedia.com', 'awdnews.com', 'barenakedislam.com', 'clickhole.com', 'coasttocoastam.com', 'corbettreport.com', 'countercurrents.org', 'counterpunch.org', 'darkmoon.me', 'davidduke.com', 'davidstockmanscontracorner.com', 'davidwolfe.com', 'dcclothesline.com', 'defenddemocracy.press', 'dennismichaellynch.com', 'departed.co', 'der-postillon.com', 'fromthetrenchesworldreport.com', 'frontpagemag.com', 'galacticconnection.com', 'globalresearch.ca', 'infowars.com', 'intrepidreport.com', 'legorafi.fr', 'madworldnews.com', 'naturalnews.com', 'newstarget.com', 'presstv.ir', 'prisonplanet.com', 'projectveritas.com', 'returnofkings.com', 'shiftfrequency.com', 'thedailysheeple.com', 'theeconomiccollapseblog.com', 'thefreethoughtproject.com', 'themindunleashed.com', 'theonion.com', 'thepeoplescube.com', 'therussophile.org', 'thesaker.is', 'thetruthseeker.co.uk', 'theunrealtimes.com', 'topinfopost.com', 'veteranstoday.com', 'voltairenet.org', 'washingtonsblog.com', 'westernjournalism.com', 'whatreallyhappened.com']\n",
      "\n"
     ]
    }
   ],
   "source": [
    "uniqueValues_fake = list(OrderedDict.fromkeys(val_fake)) \n",
    "print(f\"{y_}Websites publishing fake news:{r_}{uniqueValues_fake}\\n\")"
   ]
  },
  {
   "cell_type": "markdown",
   "metadata": {},
   "source": [
    "# Websites publishing both real and fake news"
   ]
  },
  {
   "cell_type": "code",
   "execution_count": 20,
   "metadata": {},
   "outputs": [
    {
     "name": "stdout",
     "output_type": "stream",
     "text": [
      "\u001b[33mWebsites publishing both real and fake news:\u001b[35m{'newstarget.com', 'frontpagemag.com', 'prisonplanet.com', 'fromthetrenchesworldreport.com', 'presstv.ir', 'washingtonsblog.com', 'davidduke.com', 'westernjournalism.com', 'returnofkings.com'}\n",
      "\n"
     ]
    }
   ],
   "source": [
    "real_set = set(uniqueValues_real) \n",
    "fake_set = set(uniqueValues_fake) \n",
    "\n",
    "print(f\"{y_}Websites publishing both real and fake news:{m_}{real_set & fake_set}\\n\")"
   ]
  },
  {
   "cell_type": "code",
   "execution_count": 21,
   "metadata": {},
   "outputs": [],
   "source": [
    "type1 = {'bias': 0, 'conspiracy': 1,'fake': 2,'bs': 3,'satire': 4, 'hate': 5,'junksci': 6, 'state': 7}\n",
    "df.type = [type1[item] for item in df.type] \n",
    "def plot_bar(df, feat_x, feat_y, normalize=True):\n",
    "    \"\"\" Plot with vertical bars of the requested dataframe and features\"\"\"\n",
    "    \n",
    "    ct = pd.crosstab(df[feat_x], df[feat_y])\n",
    "    if normalize == True:\n",
    "        ct = ct.div(ct.sum(axis=1), axis=0)\n",
    "    return ct.plot(kind='bar', stacked=True)"
   ]
  },
  {
   "cell_type": "markdown",
   "metadata": {},
   "source": [
    "# Label vs Type"
   ]
  },
  {
   "cell_type": "code",
   "execution_count": 22,
   "metadata": {},
   "outputs": [
    {
     "data": {
      "image/png": "[encoded data removed]",
      "text/plain": [
       "<Figure size 432x288 with 1 Axes>"
      ]
     },
     "metadata": {
      "needs_background": "light"
     },
     "output_type": "display_data"
    }
   ],
   "source": [
    "plot_bar(df,'type' , 'label')\n",
    "plt.show()"
   ]
  },
  {
   "cell_type": "code",
   "execution_count": 23,
   "metadata": {},
   "outputs": [
    {
     "data": {
      "application/vnd.plotly.v1+json": {
       "config": {
        "plotlyServerURL": "https://plot.ly"
       },
       "data": [
        {
         "branchvalues": "total",
         "domain": {
          "x": [
           0,
           1
          ],
          "y": [
           0,
           1
          ]
         },
         "hovertemplate": "labels=%{label}<br>count=%{value}<br>parent=%{parent}<br>id=%{id}<extra></extra>",
         "ids": [
          "Real/0",
          "Fake/1",
          "Fake/2",
          "Fake/3",
          "Fake/4",
          "Real/5",
          "Fake/6",
          "Real/7",
          "Fake",
          "Real"
         ],
         "labels": [
          "0",
          "1",
          "2",
          "3",
          "4",
          "5",
          "6",
          "7",
          "Fake",
          "Real"
         ],
         "name": "",
         "parents": [
          "Real",
          "Fake",
          "Fake",
          "Fake",
          "Fake",
          "Real",
          "Fake",
          "Real",
          "",
          ""
         ],
         "type": "sunburst",
         "values": [
          389,
          430,
          15,
          598,
          146,
          244,
          102,
          121,
          1291,
          754
         ]
        }
       ],
       "layout": {
        "legend": {
         "tracegroupgap": 0
        },
        "margin": {
         "t": 60
        },
        "template": {
         "data": {
          "bar": [
           {
            "error_x": {
             "color": "#2a3f5f"
            },
            "error_y": {
             "color": "#2a3f5f"
            },
            "marker": {
             "line": {
              "color": "#E5ECF6",
              "width": 0.5
             },
             "pattern": {
              "fillmode": "overlay",
              "size": 10,
              "solidity": 0.2
             }
            },
            "type": "bar"
           }
          ],
          "barpolar": [
           {
            "marker": {
             "line": {
              "color": "#E5ECF6",
              "width": 0.5
             },
             "pattern": {
              "fillmode": "overlay",
              "size": 10,
              "solidity": 0.2
             }
            },
            "type": "barpolar"
           }
          ],
          "carpet": [
           {
            "aaxis": {
             "endlinecolor": "#2a3f5f",
             "gridcolor": "white",
             "linecolor": "white",
             "minorgridcolor": "white",
             "startlinecolor": "#2a3f5f"
            },
            "baxis": {
             "endlinecolor": "#2a3f5f",
             "gridcolor": "white",
             "linecolor": "white",
             "minorgridcolor": "white",
             "startlinecolor": "#2a3f5f"
            },
            "type": "carpet"
           }
          ],
          "choropleth": [
           {
            "colorbar": {
             "outlinewidth": 0,
             "ticks": ""
            },
            "type": "choropleth"
           }
          ],
          "contour": [
           {
            "colorbar": {
             "outlinewidth": 0,
             "ticks": ""
            },
            "colorscale": [
             [
              0,
              "#0d0887"
             ],
             [
              0.1111111111111111,
              "#46039f"
             ],
             [
              0.2222222222222222,
              "#7201a8"
             ],
             [
              0.3333333333333333,
              "#9c179e"
             ],
             [
              0.4444444444444444,
              "#bd3786"
             ],
             [
              0.5555555555555556,
              "#d8576b"
             ],
             [
              0.6666666666666666,
              "#ed7953"
             ],
             [
              0.7777777777777778,
              "#fb9f3a"
             ],
             [
              0.8888888888888888,
              "#fdca26"
             ],
             [
              1,
              "#f0f921"
             ]
            ],
            "type": "contour"
           }
          ],
          "contourcarpet": [
           {
            "colorbar": {
             "outlinewidth": 0,
             "ticks": ""
            },
            "type": "contourcarpet"
           }
          ],
          "heatmap": [
           {
            "colorbar": {
             "outlinewidth": 0,
             "ticks": ""
            },
            "colorscale": [
             [
              0,
              "#0d0887"
             ],
             [
              0.1111111111111111,
              "#46039f"
             ],
             [
              0.2222222222222222,
              "#7201a8"
             ],
             [
              0.3333333333333333,
              "#9c179e"
             ],
             [
              0.4444444444444444,
              "#bd3786"
             ],
             [
              0.5555555555555556,
              "#d8576b"
             ],
             [
              0.6666666666666666,
              "#ed7953"
             ],
             [
              0.7777777777777778,
              "#fb9f3a"
             ],
             [
              0.8888888888888888,
              "#fdca26"
             ],
             [
              1,
              "#f0f921"
             ]
            ],
            "type": "heatmap"
           }
          ],
          "heatmapgl": [
           {
            "colorbar": {
             "outlinewidth": 0,
             "ticks": ""
            },
            "colorscale": [
             [
              0,
              "#0d0887"
             ],
             [
              0.1111111111111111,
              "#46039f"
             ],
             [
              0.2222222222222222,
              "#7201a8"
             ],
             [
              0.3333333333333333,
              "#9c179e"
             ],
             [
              0.4444444444444444,
              "#bd3786"
             ],
             [
              0.5555555555555556,
              "#d8576b"
             ],
             [
              0.6666666666666666,
              "#ed7953"
             ],
             [
              0.7777777777777778,
              "#fb9f3a"
             ],
             [
              0.8888888888888888,
              "#fdca26"
             ],
             [
              1,
              "#f0f921"
             ]
            ],
            "type": "heatmapgl"
           }
          ],
          "histogram": [
           {
            "marker": {
             "pattern": {
              "fillmode": "overlay",
              "size": 10,
              "solidity": 0.2
             }
            },
            "type": "histogram"
           }
          ],
          "histogram2d": [
           {
            "colorbar": {
             "outlinewidth": 0,
             "ticks": ""
            },
            "colorscale": [
             [
              0,
              "#0d0887"
             ],
             [
              0.1111111111111111,
              "#46039f"
             ],
             [
              0.2222222222222222,
              "#7201a8"
             ],
             [
              0.3333333333333333,
              "#9c179e"
             ],
             [
              0.4444444444444444,
              "#bd3786"
             ],
             [
              0.5555555555555556,
              "#d8576b"
             ],
             [
              0.6666666666666666,
              "#ed7953"
             ],
             [
              0.7777777777777778,
              "#fb9f3a"
             ],
             [
              0.8888888888888888,
              "#fdca26"
             ],
             [
              1,
              "#f0f921"
             ]
            ],
            "type": "histogram2d"
           }
          ],
          "histogram2dcontour": [
           {
            "colorbar": {
             "outlinewidth": 0,
             "ticks": ""
            },
            "colorscale": [
             [
              0,
              "#0d0887"
             ],
             [
              0.1111111111111111,
              "#46039f"
             ],
             [
              0.2222222222222222,
              "#7201a8"
             ],
             [
              0.3333333333333333,
              "#9c179e"
             ],
             [
              0.4444444444444444,
              "#bd3786"
             ],
             [
              0.5555555555555556,
              "#d8576b"
             ],
             [
              0.6666666666666666,
              "#ed7953"
             ],
             [
              0.7777777777777778,
              "#fb9f3a"
             ],
             [
              0.8888888888888888,
              "#fdca26"
             ],
             [
              1,
              "#f0f921"
             ]
            ],
            "type": "histogram2dcontour"
           }
          ],
          "mesh3d": [
           {
            "colorbar": {
             "outlinewidth": 0,
             "ticks": ""
            },
            "type": "mesh3d"
           }
          ],
          "parcoords": [
           {
            "line": {
             "colorbar": {
              "outlinewidth": 0,
              "ticks": ""
             }
            },
            "type": "parcoords"
           }
          ],
          "pie": [
           {
            "automargin": true,
            "type": "pie"
           }
          ],
          "scatter": [
           {
            "marker": {
             "colorbar": {
              "outlinewidth": 0,
              "ticks": ""
             }
            },
            "type": "scatter"
           }
          ],
          "scatter3d": [
           {
            "line": {
             "colorbar": {
              "outlinewidth": 0,
              "ticks": ""
             }
            },
            "marker": {
             "colorbar": {
              "outlinewidth": 0,
              "ticks": ""
             }
            },
            "type": "scatter3d"
           }
          ],
          "scattercarpet": [
           {
            "marker": {
             "colorbar": {
              "outlinewidth": 0,
              "ticks": ""
             }
            },
            "type": "scattercarpet"
           }
          ],
          "scattergeo": [
           {
            "marker": {
             "colorbar": {
              "outlinewidth": 0,
              "ticks": ""
             }
            },
            "type": "scattergeo"
           }
          ],
          "scattergl": [
           {
            "marker": {
             "colorbar": {
              "outlinewidth": 0,
              "ticks": ""
             }
            },
            "type": "scattergl"
           }
          ],
          "scattermapbox": [
           {
            "marker": {
             "colorbar": {
              "outlinewidth": 0,
              "ticks": ""
             }
            },
            "type": "scattermapbox"
           }
          ],
          "scatterpolar": [
           {
            "marker": {
             "colorbar": {
              "outlinewidth": 0,
              "ticks": ""
             }
            },
            "type": "scatterpolar"
           }
          ],
          "scatterpolargl": [
           {
            "marker": {
             "colorbar": {
              "outlinewidth": 0,
              "ticks": ""
             }
            },
            "type": "scatterpolargl"
           }
          ],
          "scatterternary": [
           {
            "marker": {
             "colorbar": {
              "outlinewidth": 0,
              "ticks": ""
             }
            },
            "type": "scatterternary"
           }
          ],
          "surface": [
           {
            "colorbar": {
             "outlinewidth": 0,
             "ticks": ""
            },
            "colorscale": [
             [
              0,
              "#0d0887"
             ],
             [
              0.1111111111111111,
              "#46039f"
             ],
             [
              0.2222222222222222,
              "#7201a8"
             ],
             [
              0.3333333333333333,
              "#9c179e"
             ],
             [
              0.4444444444444444,
              "#bd3786"
             ],
             [
              0.5555555555555556,
              "#d8576b"
             ],
             [
              0.6666666666666666,
              "#ed7953"
             ],
             [
              0.7777777777777778,
              "#fb9f3a"
             ],
             [
              0.8888888888888888,
              "#fdca26"
             ],
             [
              1,
              "#f0f921"
             ]
            ],
            "type": "surface"
           }
          ],
          "table": [
           {
            "cells": {
             "fill": {
              "color": "#EBF0F8"
             },
             "line": {
              "color": "white"
             }
            },
            "header": {
             "fill": {
              "color": "#C8D4E3"
             },
             "line": {
              "color": "white"
             }
            },
            "type": "table"
           }
          ]
         },
         "layout": {
          "annotationdefaults": {
           "arrowcolor": "#2a3f5f",
           "arrowhead": 0,
           "arrowwidth": 1
          },
          "autotypenumbers": "strict",
          "coloraxis": {
           "colorbar": {
            "outlinewidth": 0,
            "ticks": ""
           }
          },
          "colorscale": {
           "diverging": [
            [
             0,
             "#8e0152"
            ],
            [
             0.1,
             "#c51b7d"
            ],
            [
             0.2,
             "#de77ae"
            ],
            [
             0.3,
             "#f1b6da"
            ],
            [
             0.4,
             "#fde0ef"
            ],
            [
             0.5,
             "#f7f7f7"
            ],
            [
             0.6,
             "#e6f5d0"
            ],
            [
             0.7,
             "#b8e186"
            ],
            [
             0.8,
             "#7fbc41"
            ],
            [
             0.9,
             "#4d9221"
            ],
            [
             1,
             "#276419"
            ]
           ],
           "sequential": [
            [
             0,
             "#0d0887"
            ],
            [
             0.1111111111111111,
             "#46039f"
            ],
            [
             0.2222222222222222,
             "#7201a8"
            ],
            [
             0.3333333333333333,
             "#9c179e"
            ],
            [
             0.4444444444444444,
             "#bd3786"
            ],
            [
             0.5555555555555556,
             "#d8576b"
            ],
            [
             0.6666666666666666,
             "#ed7953"
            ],
            [
             0.7777777777777778,
             "#fb9f3a"
            ],
            [
             0.8888888888888888,
             "#fdca26"
            ],
            [
             1,
             "#f0f921"
            ]
           ],
           "sequentialminus": [
            [
             0,
             "#0d0887"
            ],
            [
             0.1111111111111111,
             "#46039f"
            ],
            [
             0.2222222222222222,
             "#7201a8"
            ],
            [
             0.3333333333333333,
             "#9c179e"
            ],
            [
             0.4444444444444444,
             "#bd3786"
            ],
            [
             0.5555555555555556,
             "#d8576b"
            ],
            [
             0.6666666666666666,
             "#ed7953"
            ],
            [
             0.7777777777777778,
             "#fb9f3a"
            ],
            [
             0.8888888888888888,
             "#fdca26"
            ],
            [
             1,
             "#f0f921"
            ]
           ]
          },
          "colorway": [
           "#636efa",
           "#EF553B",
           "#00cc96",
           "#ab63fa",
           "#FFA15A",
           "#19d3f3",
           "#FF6692",
           "#B6E880",
           "#FF97FF",
           "#FECB52"
          ],
          "font": {
           "color": "#2a3f5f"
          },
          "geo": {
           "bgcolor": "white",
           "lakecolor": "white",
           "landcolor": "#E5ECF6",
           "showlakes": true,
           "showland": true,
           "subunitcolor": "white"
          },
          "hoverlabel": {
           "align": "left"
          },
          "hovermode": "closest",
          "mapbox": {
           "style": "light"
          },
          "paper_bgcolor": "white",
          "plot_bgcolor": "#E5ECF6",
          "polar": {
           "angularaxis": {
            "gridcolor": "white",
            "linecolor": "white",
            "ticks": ""
           },
           "bgcolor": "#E5ECF6",
           "radialaxis": {
            "gridcolor": "white",
            "linecolor": "white",
            "ticks": ""
           }
          },
          "scene": {
           "xaxis": {
            "backgroundcolor": "#E5ECF6",
            "gridcolor": "white",
            "gridwidth": 2,
            "linecolor": "white",
            "showbackground": true,
            "ticks": "",
            "zerolinecolor": "white"
           },
           "yaxis": {
            "backgroundcolor": "#E5ECF6",
            "gridcolor": "white",
            "gridwidth": 2,
            "linecolor": "white",
            "showbackground": true,
            "ticks": "",
            "zerolinecolor": "white"
           },
           "zaxis": {
            "backgroundcolor": "#E5ECF6",
            "gridcolor": "white",
            "gridwidth": 2,
            "linecolor": "white",
            "showbackground": true,
            "ticks": "",
            "zerolinecolor": "white"
           }
          },
          "shapedefaults": {
           "line": {
            "color": "#2a3f5f"
           }
          },
          "ternary": {
           "aaxis": {
            "gridcolor": "white",
            "linecolor": "white",
            "ticks": ""
           },
           "baxis": {
            "gridcolor": "white",
            "linecolor": "white",
            "ticks": ""
           },
           "bgcolor": "#E5ECF6",
           "caxis": {
            "gridcolor": "white",
            "linecolor": "white",
            "ticks": ""
           }
          },
          "title": {
           "x": 0.05
          },
          "xaxis": {
           "automargin": true,
           "gridcolor": "white",
           "linecolor": "white",
           "ticks": "",
           "title": {
            "standoff": 15
           },
           "zerolinecolor": "white",
           "zerolinewidth": 2
          },
          "yaxis": {
           "automargin": true,
           "gridcolor": "white",
           "linecolor": "white",
           "ticks": "",
           "title": {
            "standoff": 15
           },
           "zerolinecolor": "white",
           "zerolinewidth": 2
          }
         }
        }
       }
      },
      "text/html": [
       "<div>                            <div id=\"93e49145-4732-4336-8917-1395ea245178\" class=\"plotly-graph-div\" style=\"height:525px; width:100%;\"></div>            <script type=\"text/javascript\">                require([\"plotly\"], function(Plotly) {                    window.PLOTLYENV=window.PLOTLYENV || {};                                    if (document.getElementById(\"93e49145-4732-4336-8917-1395ea245178\")) {                    Plotly.newPlot(                        \"93e49145-4732-4336-8917-1395ea245178\",                        [{\"branchvalues\":\"total\",\"domain\":{\"x\":[0.0,1.0],\"y\":[0.0,1.0]},\"hovertemplate\":\"labels=%{label}<br>count=%{value}<br>parent=%{parent}<br>id=%{id}<extra></extra>\",\"ids\":[\"Real/0\",\"Fake/1\",\"Fake/2\",\"Fake/3\",\"Fake/4\",\"Real/5\",\"Fake/6\",\"Real/7\",\"Fake\",\"Real\"],\"labels\":[\"0\",\"1\",\"2\",\"3\",\"4\",\"5\",\"6\",\"7\",\"Fake\",\"Real\"],\"name\":\"\",\"parents\":[\"Real\",\"Fake\",\"Fake\",\"Fake\",\"Fake\",\"Real\",\"Fake\",\"Real\",\"\",\"\"],\"values\":[389,430,15,598,146,244,102,121,1291,754],\"type\":\"sunburst\"}],                        {\"template\":{\"data\":{\"bar\":[{\"error_x\":{\"color\":\"#2a3f5f\"},\"error_y\":{\"color\":\"#2a3f5f\"},\"marker\":{\"line\":{\"color\":\"#E5ECF6\",\"width\":0.5},\"pattern\":{\"fillmode\":\"overlay\",\"size\":10,\"solidity\":0.2}},\"type\":\"bar\"}],\"barpolar\":[{\"marker\":{\"line\":{\"color\":\"#E5ECF6\",\"width\":0.5},\"pattern\":{\"fillmode\":\"overlay\",\"size\":10,\"solidity\":0.2}},\"type\":\"barpolar\"}],\"carpet\":[{\"aaxis\":{\"endlinecolor\":\"#2a3f5f\",\"gridcolor\":\"white\",\"linecolor\":\"white\",\"minorgridcolor\":\"white\",\"startlinecolor\":\"#2a3f5f\"},\"baxis\":{\"endlinecolor\":\"#2a3f5f\",\"gridcolor\":\"white\",\"linecolor\":\"white\",\"minorgridcolor\":\"white\",\"startlinecolor\":\"#2a3f5f\"},\"type\":\"carpet\"}],\"choropleth\":[{\"colorbar\":{\"outlinewidth\":0,\"ticks\":\"\"},\"type\":\"choropleth\"}],\"contour\":[{\"colorbar\":{\"outlinewidth\":0,\"ticks\":\"\"},\"colorscale\":[[0.0,\"#0d0887\"],[0.1111111111111111,\"#46039f\"],[0.2222222222222222,\"#7201a8\"],[0.3333333333333333,\"#9c179e\"],[0.4444444444444444,\"#bd3786\"],[0.5555555555555556,\"#d8576b\"],[0.6666666666666666,\"#ed7953\"],[0.7777777777777778,\"#fb9f3a\"],[0.8888888888888888,\"#fdca26\"],[1.0,\"#f0f921\"]],\"type\":\"contour\"}],\"contourcarpet\":[{\"colorbar\":{\"outlinewidth\":0,\"ticks\":\"\"},\"type\":\"contourcarpet\"}],\"heatmap\":[{\"colorbar\":{\"outlinewidth\":0,\"ticks\":\"\"},\"colorscale\":[[0.0,\"#0d0887\"],[0.1111111111111111,\"#46039f\"],[0.2222222222222222,\"#7201a8\"],[0.3333333333333333,\"#9c179e\"],[0.4444444444444444,\"#bd3786\"],[0.5555555555555556,\"#d8576b\"],[0.6666666666666666,\"#ed7953\"],[0.7777777777777778,\"#fb9f3a\"],[0.8888888888888888,\"#fdca26\"],[1.0,\"#f0f921\"]],\"type\":\"heatmap\"}],\"heatmapgl\":[{\"colorbar\":{\"outlinewidth\":0,\"ticks\":\"\"},\"colorscale\":[[0.0,\"#0d0887\"],[0.1111111111111111,\"#46039f\"],[0.2222222222222222,\"#7201a8\"],[0.3333333333333333,\"#9c179e\"],[0.4444444444444444,\"#bd3786\"],[0.5555555555555556,\"#d8576b\"],[0.6666666666666666,\"#ed7953\"],[0.7777777777777778,\"#fb9f3a\"],[0.8888888888888888,\"#fdca26\"],[1.0,\"#f0f921\"]],\"type\":\"heatmapgl\"}],\"histogram\":[{\"marker\":{\"pattern\":{\"fillmode\":\"overlay\",\"size\":10,\"solidity\":0.2}},\"type\":\"histogram\"}],\"histogram2d\":[{\"colorbar\":{\"outlinewidth\":0,\"ticks\":\"\"},\"colorscale\":[[0.0,\"#0d0887\"],[0.1111111111111111,\"#46039f\"],[0.2222222222222222,\"#7201a8\"],[0.3333333333333333,\"#9c179e\"],[0.4444444444444444,\"#bd3786\"],[0.5555555555555556,\"#d8576b\"],[0.6666666666666666,\"#ed7953\"],[0.7777777777777778,\"#fb9f3a\"],[0.8888888888888888,\"#fdca26\"],[1.0,\"#f0f921\"]],\"type\":\"histogram2d\"}],\"histogram2dcontour\":[{\"colorbar\":{\"outlinewidth\":0,\"ticks\":\"\"},\"colorscale\":[[0.0,\"#0d0887\"],[0.1111111111111111,\"#46039f\"],[0.2222222222222222,\"#7201a8\"],[0.3333333333333333,\"#9c179e\"],[0.4444444444444444,\"#bd3786\"],[0.5555555555555556,\"#d8576b\"],[0.6666666666666666,\"#ed7953\"],[0.7777777777777778,\"#fb9f3a\"],[0.8888888888888888,\"#fdca26\"],[1.0,\"#f0f921\"]],\"type\":\"histogram2dcontour\"}],\"mesh3d\":[{\"colorbar\":{\"outlinewidth\":0,\"ticks\":\"\"},\"type\":\"mesh3d\"}],\"parcoords\":[{\"line\":{\"colorbar\":{\"outlinewidth\":0,\"ticks\":\"\"}},\"type\":\"parcoords\"}],\"pie\":[{\"automargin\":true,\"type\":\"pie\"}],\"scatter\":[{\"marker\":{\"colorbar\":{\"outlinewidth\":0,\"ticks\":\"\"}},\"type\":\"scatter\"}],\"scatter3d\":[{\"line\":{\"colorbar\":{\"outlinewidth\":0,\"ticks\":\"\"}},\"marker\":{\"colorbar\":{\"outlinewidth\":0,\"ticks\":\"\"}},\"type\":\"scatter3d\"}],\"scattercarpet\":[{\"marker\":{\"colorbar\":{\"outlinewidth\":0,\"ticks\":\"\"}},\"type\":\"scattercarpet\"}],\"scattergeo\":[{\"marker\":{\"colorbar\":{\"outlinewidth\":0,\"ticks\":\"\"}},\"type\":\"scattergeo\"}],\"scattergl\":[{\"marker\":{\"colorbar\":{\"outlinewidth\":0,\"ticks\":\"\"}},\"type\":\"scattergl\"}],\"scattermapbox\":[{\"marker\":{\"colorbar\":{\"outlinewidth\":0,\"ticks\":\"\"}},\"type\":\"scattermapbox\"}],\"scatterpolar\":[{\"marker\":{\"colorbar\":{\"outlinewidth\":0,\"ticks\":\"\"}},\"type\":\"scatterpolar\"}],\"scatterpolargl\":[{\"marker\":{\"colorbar\":{\"outlinewidth\":0,\"ticks\":\"\"}},\"type\":\"scatterpolargl\"}],\"scatterternary\":[{\"marker\":{\"colorbar\":{\"outlinewidth\":0,\"ticks\":\"\"}},\"type\":\"scatterternary\"}],\"surface\":[{\"colorbar\":{\"outlinewidth\":0,\"ticks\":\"\"},\"colorscale\":[[0.0,\"#0d0887\"],[0.1111111111111111,\"#46039f\"],[0.2222222222222222,\"#7201a8\"],[0.3333333333333333,\"#9c179e\"],[0.4444444444444444,\"#bd3786\"],[0.5555555555555556,\"#d8576b\"],[0.6666666666666666,\"#ed7953\"],[0.7777777777777778,\"#fb9f3a\"],[0.8888888888888888,\"#fdca26\"],[1.0,\"#f0f921\"]],\"type\":\"surface\"}],\"table\":[{\"cells\":{\"fill\":{\"color\":\"#EBF0F8\"},\"line\":{\"color\":\"white\"}},\"header\":{\"fill\":{\"color\":\"#C8D4E3\"},\"line\":{\"color\":\"white\"}},\"type\":\"table\"}]},\"layout\":{\"annotationdefaults\":{\"arrowcolor\":\"#2a3f5f\",\"arrowhead\":0,\"arrowwidth\":1},\"autotypenumbers\":\"strict\",\"coloraxis\":{\"colorbar\":{\"outlinewidth\":0,\"ticks\":\"\"}},\"colorscale\":{\"diverging\":[[0,\"#8e0152\"],[0.1,\"#c51b7d\"],[0.2,\"#de77ae\"],[0.3,\"#f1b6da\"],[0.4,\"#fde0ef\"],[0.5,\"#f7f7f7\"],[0.6,\"#e6f5d0\"],[0.7,\"#b8e186\"],[0.8,\"#7fbc41\"],[0.9,\"#4d9221\"],[1,\"#276419\"]],\"sequential\":[[0.0,\"#0d0887\"],[0.1111111111111111,\"#46039f\"],[0.2222222222222222,\"#7201a8\"],[0.3333333333333333,\"#9c179e\"],[0.4444444444444444,\"#bd3786\"],[0.5555555555555556,\"#d8576b\"],[0.6666666666666666,\"#ed7953\"],[0.7777777777777778,\"#fb9f3a\"],[0.8888888888888888,\"#fdca26\"],[1.0,\"#f0f921\"]],\"sequentialminus\":[[0.0,\"#0d0887\"],[0.1111111111111111,\"#46039f\"],[0.2222222222222222,\"#7201a8\"],[0.3333333333333333,\"#9c179e\"],[0.4444444444444444,\"#bd3786\"],[0.5555555555555556,\"#d8576b\"],[0.6666666666666666,\"#ed7953\"],[0.7777777777777778,\"#fb9f3a\"],[0.8888888888888888,\"#fdca26\"],[1.0,\"#f0f921\"]]},\"colorway\":[\"#636efa\",\"#EF553B\",\"#00cc96\",\"#ab63fa\",\"#FFA15A\",\"#19d3f3\",\"#FF6692\",\"#B6E880\",\"#FF97FF\",\"#FECB52\"],\"font\":{\"color\":\"#2a3f5f\"},\"geo\":{\"bgcolor\":\"white\",\"lakecolor\":\"white\",\"landcolor\":\"#E5ECF6\",\"showlakes\":true,\"showland\":true,\"subunitcolor\":\"white\"},\"hoverlabel\":{\"align\":\"left\"},\"hovermode\":\"closest\",\"mapbox\":{\"style\":\"light\"},\"paper_bgcolor\":\"white\",\"plot_bgcolor\":\"#E5ECF6\",\"polar\":{\"angularaxis\":{\"gridcolor\":\"white\",\"linecolor\":\"white\",\"ticks\":\"\"},\"bgcolor\":\"#E5ECF6\",\"radialaxis\":{\"gridcolor\":\"white\",\"linecolor\":\"white\",\"ticks\":\"\"}},\"scene\":{\"xaxis\":{\"backgroundcolor\":\"#E5ECF6\",\"gridcolor\":\"white\",\"gridwidth\":2,\"linecolor\":\"white\",\"showbackground\":true,\"ticks\":\"\",\"zerolinecolor\":\"white\"},\"yaxis\":{\"backgroundcolor\":\"#E5ECF6\",\"gridcolor\":\"white\",\"gridwidth\":2,\"linecolor\":\"white\",\"showbackground\":true,\"ticks\":\"\",\"zerolinecolor\":\"white\"},\"zaxis\":{\"backgroundcolor\":\"#E5ECF6\",\"gridcolor\":\"white\",\"gridwidth\":2,\"linecolor\":\"white\",\"showbackground\":true,\"ticks\":\"\",\"zerolinecolor\":\"white\"}},\"shapedefaults\":{\"line\":{\"color\":\"#2a3f5f\"}},\"ternary\":{\"aaxis\":{\"gridcolor\":\"white\",\"linecolor\":\"white\",\"ticks\":\"\"},\"baxis\":{\"gridcolor\":\"white\",\"linecolor\":\"white\",\"ticks\":\"\"},\"bgcolor\":\"#E5ECF6\",\"caxis\":{\"gridcolor\":\"white\",\"linecolor\":\"white\",\"ticks\":\"\"}},\"title\":{\"x\":0.05},\"xaxis\":{\"automargin\":true,\"gridcolor\":\"white\",\"linecolor\":\"white\",\"ticks\":\"\",\"title\":{\"standoff\":15},\"zerolinecolor\":\"white\",\"zerolinewidth\":2},\"yaxis\":{\"automargin\":true,\"gridcolor\":\"white\",\"linecolor\":\"white\",\"ticks\":\"\",\"title\":{\"standoff\":15},\"zerolinecolor\":\"white\",\"zerolinewidth\":2}}},\"legend\":{\"tracegroupgap\":0},\"margin\":{\"t\":60}},                        {\"responsive\": true}                    ).then(function(){\n",
       "                            \n",
       "var gd = document.getElementById('93e49145-4732-4336-8917-1395ea245178');\n",
       "var x = new MutationObserver(function (mutations, observer) {{\n",
       "        var display = window.getComputedStyle(gd).display;\n",
       "        if (!display || display === 'none') {{\n",
       "            console.log([gd, 'removed!']);\n",
       "            Plotly.purge(gd);\n",
       "            observer.disconnect();\n",
       "        }}\n",
       "}});\n",
       "\n",
       "// Listen for the removal of the full notebook cells\n",
       "var notebookContainer = gd.closest('#notebook-container');\n",
       "if (notebookContainer) {{\n",
       "    x.observe(notebookContainer, {childList: true});\n",
       "}}\n",
       "\n",
       "// Listen for the clearing of the current output cell\n",
       "var outputEl = gd.closest('.output');\n",
       "if (outputEl) {{\n",
       "    x.observe(outputEl, {childList: true});\n",
       "}}\n",
       "\n",
       "                        })                };                });            </script>        </div>"
      ]
     },
     "metadata": {},
     "output_type": "display_data"
    }
   ],
   "source": [
    "fig = px.sunburst(df, path=['label', 'type'])\n",
    "fig.show()"
   ]
  },
  {
   "cell_type": "markdown",
   "metadata": {},
   "source": [
    "# Websites and types of news published\n"
   ]
  },
  {
   "cell_type": "code",
   "execution_count": 24,
   "metadata": {},
   "outputs": [],
   "source": [
    "df_type = df[['site_url','type']]\n",
    "\n",
    "val_bias=[]\n",
    "val_conspiracy=[]\n",
    "val_fake1=[]\n",
    "val_bs=[]\n",
    "val_satire=[]\n",
    "val_hate=[]\n",
    "val_junksci=[]\n",
    "val_state=[]\n",
    "{'bias': 0, 'conspiracy': 1,'fake': 2,'bs': 3,'satire': 4, 'hate': 5,'junksci': 6, 'state': 7}\n",
    "for i,row in df_type.iterrows():\n",
    "    val = row['site_url']\n",
    "    if row['type'] == 0:\n",
    "        val_bias.append(val)\n",
    "    elif row['type']== 1:\n",
    "        val_conspiracy.append(val)\n",
    "    elif row['type']== 2:\n",
    "        val_fake1.append(val)\n",
    "    elif row['type']== 3:\n",
    "        val_bs.append(val)\n",
    "    elif row['type']== 4:\n",
    "        val_satire.append(val)\n",
    "    elif row['type']== 5:\n",
    "        val_hate.append(val)\n",
    "    elif row['type']== 6:\n",
    "        val_junksci.append(val)\n",
    "    elif row['type']== 7:\n",
    "        val_state.append(val)"
   ]
  },
  {
   "cell_type": "code",
   "execution_count": 25,
   "metadata": {},
   "outputs": [
    {
     "name": "stdout",
     "output_type": "stream",
     "text": [
      "\u001b[34m{'bias': 0, 'conspiracy': 1, 'fake': 2, 'bs': 3, 'satire': 4, 'hate': 5, 'junksci': 6, 'state': 7}\n",
      "\n",
      "\u001b[33mSource URLs for type:\u001b[34m0\u001b[31m['100percentfedup.com', 'addictinginfo.org', 'dailywire.com', 'newstarget.com', 'politicususa.com', 'prisonplanet.com', 'proudemocrat.com', 'washingtonsblog.com', 'westernjournalism.com', 'whydontyoutrythis.com', 'wnd.com']\n",
      "\n",
      "\u001b[33mSource URLs for type:\u001b[34m1\u001b[31m['21stcenturywire.com', 'activistpost.com', 'awdnews.com', 'galacticconnection.com', 'globalresearch.ca', 'infowars.com', 'naturalnews.com', 'newstarget.com', 'presstv.ir', 'prisonplanet.com']\n",
      "\n",
      "\u001b[33mSource URLs for type:\u001b[34m2\u001b[31m['abcnews.com.co', 'adobochronicles.com']\n",
      "\n",
      "\u001b[33mSource URLs for type:\u001b[34m3\u001b[31m['abeldanger.net', 'abovetopsecret.com', 'ahtribune.com', 'allnewspipeline.com', 'americannews.com', 'americasfreedomfighters.com', 'amren.com', 'amtvmedia.com', 'barenakedislam.com', 'coasttocoastam.com', 'corbettreport.com', 'countercurrents.org', 'counterpunch.org', 'darkmoon.me', 'davidduke.com', 'davidstockmanscontracorner.com', 'davidwolfe.com', 'dcclothesline.com', 'defenddemocracy.press', 'dennismichaellynch.com', 'departed.co', 'der-postillon.com', 'fromthetrenchesworldreport.com', 'frontpagemag.com', 'galacticconnection.com', 'infowars.com', 'legorafi.fr', 'projectveritas.com', 'returnofkings.com', 'shiftfrequency.com', 'thedailysheeple.com', 'theeconomiccollapseblog.com', 'thefreethoughtproject.com', 'themindunleashed.com', 'theonion.com', 'thepeoplescube.com', 'therussophile.org', 'thesaker.is', 'thetruthseeker.co.uk', 'theunrealtimes.com', 'topinfopost.com', 'veteranstoday.com', 'voltairenet.org', 'washingtonsblog.com', 'westernjournalism.com', 'whatreallyhappened.com']\n",
      "\n",
      "\u001b[33mSource URLs for type:\u001b[34m4\u001b[31m['clickhole.com', 'intrepidreport.com', 'legorafi.fr']\n",
      "\n",
      "\u001b[33mSource URLs for type:\u001b[34m5\u001b[31m['davidduke.com', 'fromthetrenchesworldreport.com', 'frontpagemag.com', 'redstatewatcher.com', 'returnofkings.com']\n",
      "\n",
      "\u001b[33mSource URLs for type:\u001b[34m6\u001b[31m['davidstockmanscontracorner.com', 'davidwolfe.com', 'madworldnews.com', 'naturalnews.com']\n",
      "\n",
      "\u001b[33mSource URLs for type:\u001b[34m7\u001b[31m['politicususa.com', 'presstv.com', 'presstv.ir']\n",
      "\n"
     ]
    }
   ],
   "source": [
    "uv_bias = list(OrderedDict.fromkeys(val_bias)) \n",
    "uv_conspiracy = list(OrderedDict.fromkeys(val_conspiracy)) \n",
    "uv_fake = list(OrderedDict.fromkeys(val_fake1)) \n",
    "uv_bs = list(OrderedDict.fromkeys(val_bs)) \n",
    "uv_satire = list(OrderedDict.fromkeys(val_satire)) \n",
    "uv_hate = list(OrderedDict.fromkeys(val_hate)) \n",
    "uv_junksci = list(OrderedDict.fromkeys(val_junksci)) \n",
    "uv_state = list(OrderedDict.fromkeys(val_state)) \n",
    "\n",
    "print(f\"{b_}{type1}\\n\")\n",
    "i=0\n",
    "for lst in (uv_bias,uv_conspiracy,uv_fake,uv_bs,uv_satire, uv_hate,uv_junksci,uv_state): \n",
    "    print(f\"{y_}Source URLs for type:{b_}{i}{r_}{lst}\\n\") \n",
    "    i+=1"
   ]
  },
  {
   "cell_type": "markdown",
   "metadata": {},
   "source": [
    "# training and testing"
   ]
  },
  {
   "cell_type": "code",
   "execution_count": 26,
   "metadata": {},
   "outputs": [
    {
     "data": {
      "text/html": [
       "<div>\n",
       "<style scoped>\n",
       "    .dataframe tbody tr th:only-of-type {\n",
       "        vertical-align: middle;\n",
       "    }\n",
       "\n",
       "    .dataframe tbody tr th {\n",
       "        vertical-align: top;\n",
       "    }\n",
       "\n",
       "    .dataframe thead th {\n",
       "        text-align: right;\n",
       "    }\n",
       "</style>\n",
       "<table border=\"1\" class=\"dataframe\">\n",
       "  <thead>\n",
       "    <tr style=\"text-align: right;\">\n",
       "      <th></th>\n",
       "      <th>published</th>\n",
       "      <th>title</th>\n",
       "      <th>text</th>\n",
       "      <th>language</th>\n",
       "      <th>site_url</th>\n",
       "      <th>main_img_url</th>\n",
       "      <th>type</th>\n",
       "      <th>label</th>\n",
       "      <th>title_without_stopwords</th>\n",
       "      <th>text_without_stopwords</th>\n",
       "      <th>hasImage</th>\n",
       "    </tr>\n",
       "    <tr>\n",
       "      <th>author</th>\n",
       "      <th></th>\n",
       "      <th></th>\n",
       "      <th></th>\n",
       "      <th></th>\n",
       "      <th></th>\n",
       "      <th></th>\n",
       "      <th></th>\n",
       "      <th></th>\n",
       "      <th></th>\n",
       "      <th></th>\n",
       "      <th></th>\n",
       "    </tr>\n",
       "  </thead>\n",
       "  <tbody>\n",
       "    <tr>\n",
       "      <th>Activist Post</th>\n",
       "      <td>2016-10-31T17:05:11.328+02:00</td>\n",
       "      <td>the globalization of media a failing strike force</td>\n",
       "      <td>by nicholas west while debate surrounds the th...</td>\n",
       "      <td>english</td>\n",
       "      <td>activistpost.com</td>\n",
       "      <td>http://www.activistpost.com/wp-content/uploads...</td>\n",
       "      <td>1</td>\n",
       "      <td>Fake</td>\n",
       "      <td>globalization media failing strike force</td>\n",
       "      <td>nicholas west debate surrounds threat autonomo...</td>\n",
       "      <td>1.0</td>\n",
       "    </tr>\n",
       "    <tr>\n",
       "      <th>Michael Sebastian</th>\n",
       "      <td>2016-11-18T00:00:00.000+02:00</td>\n",
       "      <td>how to live after trump</td>\n",
       "      <td>are the polls rigged against trump all of thes...</td>\n",
       "      <td>english</td>\n",
       "      <td>returnofkings.com</td>\n",
       "      <td>No Image URL</td>\n",
       "      <td>5</td>\n",
       "      <td>Real</td>\n",
       "      <td>modern south korea like</td>\n",
       "      <td>home breaking news dapl protesters proven righ...</td>\n",
       "      <td>0.0</td>\n",
       "    </tr>\n",
       "    <tr>\n",
       "      <th>Allen Mendenhall</th>\n",
       "      <td>2016-10-29T02:08:58.551+03:00</td>\n",
       "      <td>ideas make us rich</td>\n",
       "      <td>competing theories on why the fbi reopened th...</td>\n",
       "      <td>english</td>\n",
       "      <td>infowars.com</td>\n",
       "      <td>http://hw.infowars.com/wp-content/uploads/2016...</td>\n",
       "      <td>1</td>\n",
       "      <td>Fake</td>\n",
       "      <td>world community fears hillary kill list</td>\n",
       "      <td>votes switched multiple states clinton electro...</td>\n",
       "      <td>1.0</td>\n",
       "    </tr>\n",
       "    <tr>\n",
       "      <th>Anonymous</th>\n",
       "      <td>2016-10-31T01:40:00.000+02:00</td>\n",
       "      <td>no title</td>\n",
       "      <td>its a disgrace  they have wrecked the fbi  its...</td>\n",
       "      <td>english</td>\n",
       "      <td>abeldanger.net</td>\n",
       "      <td>No Image URL</td>\n",
       "      <td>3</td>\n",
       "      <td>Fake</td>\n",
       "      <td>title</td>\n",
       "      <td>disgrace wrecked fbi worse hoover thats saying...</td>\n",
       "      <td>0.0</td>\n",
       "    </tr>\n",
       "    <tr>\n",
       "      <th>Topher Frankenberg</th>\n",
       "      <td>2016-10-26T22:46:20.378+03:00</td>\n",
       "      <td>no title</td>\n",
       "      <td>josh why dont you just stop talking and sit do...</td>\n",
       "      <td>english</td>\n",
       "      <td>westernjournalism.com</td>\n",
       "      <td>http://static.westernjournalism.com/wp-content...</td>\n",
       "      <td>0</td>\n",
       "      <td>Real</td>\n",
       "      <td>title</td>\n",
       "      <td>treasonous lying narcissistical sociopathic ba...</td>\n",
       "      <td>1.0</td>\n",
       "    </tr>\n",
       "  </tbody>\n",
       "</table>\n",
       "</div>"
      ],
      "text/plain": [
       "                                        published  \\\n",
       "author                                              \n",
       "Activist Post       2016-10-31T17:05:11.328+02:00   \n",
       "Michael Sebastian   2016-11-18T00:00:00.000+02:00   \n",
       "Allen Mendenhall    2016-10-29T02:08:58.551+03:00   \n",
       "Anonymous           2016-10-31T01:40:00.000+02:00   \n",
       "Topher Frankenberg  2016-10-26T22:46:20.378+03:00   \n",
       "\n",
       "                                                                title  \\\n",
       "author                                                                  \n",
       "Activist Post       the globalization of media a failing strike force   \n",
       "Michael Sebastian                             how to live after trump   \n",
       "Allen Mendenhall                                   ideas make us rich   \n",
       "Anonymous                                                    no title   \n",
       "Topher Frankenberg                                           no title   \n",
       "\n",
       "                                                                 text  \\\n",
       "author                                                                  \n",
       "Activist Post       by nicholas west while debate surrounds the th...   \n",
       "Michael Sebastian   are the polls rigged against trump all of thes...   \n",
       "Allen Mendenhall     competing theories on why the fbi reopened th...   \n",
       "Anonymous           its a disgrace  they have wrecked the fbi  its...   \n",
       "Topher Frankenberg  josh why dont you just stop talking and sit do...   \n",
       "\n",
       "                   language               site_url  \\\n",
       "author                                               \n",
       "Activist Post       english       activistpost.com   \n",
       "Michael Sebastian   english      returnofkings.com   \n",
       "Allen Mendenhall    english           infowars.com   \n",
       "Anonymous           english         abeldanger.net   \n",
       "Topher Frankenberg  english  westernjournalism.com   \n",
       "\n",
       "                                                         main_img_url  type  \\\n",
       "author                                                                        \n",
       "Activist Post       http://www.activistpost.com/wp-content/uploads...     1   \n",
       "Michael Sebastian                                        No Image URL     5   \n",
       "Allen Mendenhall    http://hw.infowars.com/wp-content/uploads/2016...     1   \n",
       "Anonymous                                                No Image URL     3   \n",
       "Topher Frankenberg  http://static.westernjournalism.com/wp-content...     0   \n",
       "\n",
       "                   label                   title_without_stopwords  \\\n",
       "author                                                               \n",
       "Activist Post       Fake  globalization media failing strike force   \n",
       "Michael Sebastian   Real                   modern south korea like   \n",
       "Allen Mendenhall    Fake   world community fears hillary kill list   \n",
       "Anonymous           Fake                                     title   \n",
       "Topher Frankenberg  Real                                     title   \n",
       "\n",
       "                                               text_without_stopwords  \\\n",
       "author                                                                  \n",
       "Activist Post       nicholas west debate surrounds threat autonomo...   \n",
       "Michael Sebastian   home breaking news dapl protesters proven righ...   \n",
       "Allen Mendenhall    votes switched multiple states clinton electro...   \n",
       "Anonymous           disgrace wrecked fbi worse hoover thats saying...   \n",
       "Topher Frankenberg  treasonous lying narcissistical sociopathic ba...   \n",
       "\n",
       "                    hasImage  \n",
       "author                        \n",
       "Activist Post            1.0  \n",
       "Michael Sebastian        0.0  \n",
       "Allen Mendenhall         1.0  \n",
       "Anonymous                0.0  \n",
       "Topher Frankenberg       1.0  "
      ]
     },
     "execution_count": 26,
     "metadata": {},
     "output_type": "execute_result"
    }
   ],
   "source": [
    "df1 = df.sample(frac=1)\n",
    "df1.head()"
   ]
  },
  {
   "cell_type": "code",
   "execution_count": 27,
   "metadata": {},
   "outputs": [],
   "source": [
    "y = df1.type\n",
    "\n",
    "x = df1.loc[:,['site_url','text_without_stopwords']]\n",
    "x['source'] = x[\"site_url\"].astype(str) +\" \"+ x[\"text_without_stopwords\"] \n",
    "x = x.drop(['site_url','text_without_stopwords'],axis=1)\n",
    "x = x.source"
   ]
  },
  {
   "cell_type": "markdown",
   "metadata": {},
   "source": [
    "# Using tf-idf method"
   ]
  },
  {
   "cell_type": "code",
   "execution_count": 28,
   "metadata": {},
   "outputs": [],
   "source": [
    "x_train,x_test,y_train,y_test=train_test_split(x,y,test_size=0.30)\n",
    "\n",
    "tfidf_vect = TfidfVectorizer(stop_words = 'english')\n",
    "tfidf_train = tfidf_vect.fit_transform(x_train)\n",
    "tfidf_test = tfidf_vect.transform(x_test)\n",
    "tfidf_df = pd.DataFrame(tfidf_train.A, columns=tfidf_vect.get_feature_names())"
   ]
  },
  {
   "cell_type": "code",
   "execution_count": 29,
   "metadata": {},
   "outputs": [
    {
     "data": {
      "text/plain": [
       "(1431, 39196)"
      ]
     },
     "execution_count": 29,
     "metadata": {},
     "output_type": "execute_result"
    }
   ],
   "source": [
    "tfidf_vect\n",
    "tfidf_train.shape"
   ]
  },
  {
   "cell_type": "markdown",
   "metadata": {},
   "source": [
    "#  AdaBoost Classifier"
   ]
  },
  {
   "cell_type": "code",
   "execution_count": 30,
   "metadata": {},
   "outputs": [
    {
     "name": "stdout",
     "output_type": "stream",
     "text": [
      "accuracy: 0.967\n"
     ]
    }
   ],
   "source": [
    "Adab = AdaBoostClassifier(DecisionTreeClassifier(max_depth=10),n_estimators=5,random_state=1)\n",
    "Adab.fit(tfidf_train, y_train)\n",
    "y_pred3 = Adab.predict(tfidf_test)\n",
    "ABscore = metrics.accuracy_score(y_test,y_pred3)\n",
    "print(\"accuracy: %0.3f\" %ABscore)"
   ]
  },
  {
   "cell_type": "markdown",
   "metadata": {},
   "source": [
    "# Random forest Classifier"
   ]
  },
  {
   "cell_type": "code",
   "execution_count": 31,
   "metadata": {},
   "outputs": [
    {
     "name": "stdout",
     "output_type": "stream",
     "text": [
      "accuracy:  0.827\n"
     ]
    }
   ],
   "source": [
    "Rando = RandomForestClassifier(n_estimators=100,random_state=0)\n",
    "Rando.fit(tfidf_train,y_train)\n",
    "y_pred1 = Rando.predict(tfidf_test)\n",
    "RFscore = metrics.accuracy_score(y_test,y_pred1)\n",
    "print(\"accuracy:  %0.3f\" %RFscore)"
   ]
  }
 ],
 "metadata": {
  "colab": {
   "provenance": []
  },
  "kernelspec": {
   "display_name": "Python 3 (ipykernel)",
   "language": "python",
   "name": "python3"
  },
  "language_info": {
   "codemirror_mode": {
    "name": "ipython",
    "version": 3
   },
   "file_extension": ".py",
   "mimetype": "text/x-python",
   "name": "python",
   "nbconvert_exporter": "python",
   "pygments_lexer": "ipython3",
   "version": "3.9.2"
  }
 },
 "nbformat": 4,
 "nbformat_minor": 1
}
